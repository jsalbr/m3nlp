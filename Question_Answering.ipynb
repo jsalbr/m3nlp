{
  "nbformat": 4,
  "nbformat_minor": 0,
  "metadata": {
    "kernelspec": {
      "display_name": "Python 3",
      "language": "python",
      "name": "python3"
    },
    "language_info": {
      "codemirror_mode": {
        "name": "ipython",
        "version": 3
      },
      "file_extension": ".py",
      "mimetype": "text/x-python",
      "name": "python",
      "nbconvert_exporter": "python",
      "pygments_lexer": "ipython3",
      "version": "3.8.5"
    },
    "varInspector": {
      "cols": {
        "lenName": 16,
        "lenType": 16,
        "lenVar": 40
      },
      "kernels_config": {
        "python": {
          "delete_cmd_postfix": "",
          "delete_cmd_prefix": "del ",
          "library": "var_list.py",
          "varRefreshCmd": "print(var_dic_list())"
        },
        "r": {
          "delete_cmd_postfix": ") ",
          "delete_cmd_prefix": "rm(",
          "library": "var_list.r",
          "varRefreshCmd": "cat(var_dic_list()) "
        }
      },
      "types_to_exclude": [
        "module",
        "function",
        "builtin_function_or_method",
        "instance",
        "_Feature"
      ],
      "window_display": false
    },
    "colab": {
      "name": "Question_Answering.ipynb",
      "provenance": [],
      "collapsed_sections": [],
      "include_colab_link": true
    },
    "accelerator": "GPU",
    "widgets": {
      "application/vnd.jupyter.widget-state+json": {
        "1ca63bc1b2fe454db941c0aee660f41b": {
          "model_module": "@jupyter-widgets/controls",
          "model_name": "HBoxModel",
          "model_module_version": "1.5.0",
          "state": {
            "_view_name": "HBoxView",
            "_dom_classes": [],
            "_model_name": "HBoxModel",
            "_view_module": "@jupyter-widgets/controls",
            "_model_module_version": "1.5.0",
            "_view_count": null,
            "_view_module_version": "1.5.0",
            "box_style": "",
            "layout": "IPY_MODEL_10c95142da4c4431be73e9598f9c58c3",
            "_model_module": "@jupyter-widgets/controls",
            "children": [
              "IPY_MODEL_908b906097534bec8acf913b0ecce728",
              "IPY_MODEL_44d3810c8bd94c5d8325694044acd1f0",
              "IPY_MODEL_aa4df3ab62ca4ae3b69b090310bd8338"
            ]
          }
        },
        "10c95142da4c4431be73e9598f9c58c3": {
          "model_module": "@jupyter-widgets/base",
          "model_name": "LayoutModel",
          "model_module_version": "1.2.0",
          "state": {
            "_view_name": "LayoutView",
            "grid_template_rows": null,
            "right": null,
            "justify_content": null,
            "_view_module": "@jupyter-widgets/base",
            "overflow": null,
            "_model_module_version": "1.2.0",
            "_view_count": null,
            "flex_flow": null,
            "width": null,
            "min_width": null,
            "border": null,
            "align_items": null,
            "bottom": null,
            "_model_module": "@jupyter-widgets/base",
            "top": null,
            "grid_column": null,
            "overflow_y": null,
            "overflow_x": null,
            "grid_auto_flow": null,
            "grid_area": null,
            "grid_template_columns": null,
            "flex": null,
            "_model_name": "LayoutModel",
            "justify_items": null,
            "grid_row": null,
            "max_height": null,
            "align_content": null,
            "visibility": null,
            "align_self": null,
            "height": null,
            "min_height": null,
            "padding": null,
            "grid_auto_rows": null,
            "grid_gap": null,
            "max_width": null,
            "order": null,
            "_view_module_version": "1.2.0",
            "grid_template_areas": null,
            "object_position": null,
            "object_fit": null,
            "grid_auto_columns": null,
            "margin": null,
            "display": null,
            "left": null
          }
        },
        "908b906097534bec8acf913b0ecce728": {
          "model_module": "@jupyter-widgets/controls",
          "model_name": "HTMLModel",
          "model_module_version": "1.5.0",
          "state": {
            "_view_name": "HTMLView",
            "style": "IPY_MODEL_273611c2fc4744c7b652db279403b226",
            "_dom_classes": [],
            "description": "",
            "_model_name": "HTMLModel",
            "placeholder": "​",
            "_view_module": "@jupyter-widgets/controls",
            "_model_module_version": "1.5.0",
            "value": "Downloading: 100%",
            "_view_count": null,
            "_view_module_version": "1.5.0",
            "description_tooltip": null,
            "_model_module": "@jupyter-widgets/controls",
            "layout": "IPY_MODEL_28dc01cc5888498b9f8d6690b3a8e924"
          }
        },
        "44d3810c8bd94c5d8325694044acd1f0": {
          "model_module": "@jupyter-widgets/controls",
          "model_name": "FloatProgressModel",
          "model_module_version": "1.5.0",
          "state": {
            "_view_name": "ProgressView",
            "style": "IPY_MODEL_9db6a5508d614772adeb1b52843ea783",
            "_dom_classes": [],
            "description": "",
            "_model_name": "FloatProgressModel",
            "bar_style": "success",
            "max": 674,
            "_view_module": "@jupyter-widgets/controls",
            "_model_module_version": "1.5.0",
            "value": 674,
            "_view_count": null,
            "_view_module_version": "1.5.0",
            "orientation": "horizontal",
            "min": 0,
            "description_tooltip": null,
            "_model_module": "@jupyter-widgets/controls",
            "layout": "IPY_MODEL_983283a09a4c4eaf8532a96bebe6995f"
          }
        },
        "aa4df3ab62ca4ae3b69b090310bd8338": {
          "model_module": "@jupyter-widgets/controls",
          "model_name": "HTMLModel",
          "model_module_version": "1.5.0",
          "state": {
            "_view_name": "HTMLView",
            "style": "IPY_MODEL_36fa2c2af3fb472393b413f929caa233",
            "_dom_classes": [],
            "description": "",
            "_model_name": "HTMLModel",
            "placeholder": "​",
            "_view_module": "@jupyter-widgets/controls",
            "_model_module_version": "1.5.0",
            "value": " 674/674 [00:00&lt;00:00, 17.9kB/s]",
            "_view_count": null,
            "_view_module_version": "1.5.0",
            "description_tooltip": null,
            "_model_module": "@jupyter-widgets/controls",
            "layout": "IPY_MODEL_464004811881407099eac06e052a260a"
          }
        },
        "273611c2fc4744c7b652db279403b226": {
          "model_module": "@jupyter-widgets/controls",
          "model_name": "DescriptionStyleModel",
          "model_module_version": "1.5.0",
          "state": {
            "_view_name": "StyleView",
            "_model_name": "DescriptionStyleModel",
            "description_width": "",
            "_view_module": "@jupyter-widgets/base",
            "_model_module_version": "1.5.0",
            "_view_count": null,
            "_view_module_version": "1.2.0",
            "_model_module": "@jupyter-widgets/controls"
          }
        },
        "28dc01cc5888498b9f8d6690b3a8e924": {
          "model_module": "@jupyter-widgets/base",
          "model_name": "LayoutModel",
          "model_module_version": "1.2.0",
          "state": {
            "_view_name": "LayoutView",
            "grid_template_rows": null,
            "right": null,
            "justify_content": null,
            "_view_module": "@jupyter-widgets/base",
            "overflow": null,
            "_model_module_version": "1.2.0",
            "_view_count": null,
            "flex_flow": null,
            "width": null,
            "min_width": null,
            "border": null,
            "align_items": null,
            "bottom": null,
            "_model_module": "@jupyter-widgets/base",
            "top": null,
            "grid_column": null,
            "overflow_y": null,
            "overflow_x": null,
            "grid_auto_flow": null,
            "grid_area": null,
            "grid_template_columns": null,
            "flex": null,
            "_model_name": "LayoutModel",
            "justify_items": null,
            "grid_row": null,
            "max_height": null,
            "align_content": null,
            "visibility": null,
            "align_self": null,
            "height": null,
            "min_height": null,
            "padding": null,
            "grid_auto_rows": null,
            "grid_gap": null,
            "max_width": null,
            "order": null,
            "_view_module_version": "1.2.0",
            "grid_template_areas": null,
            "object_position": null,
            "object_fit": null,
            "grid_auto_columns": null,
            "margin": null,
            "display": null,
            "left": null
          }
        },
        "9db6a5508d614772adeb1b52843ea783": {
          "model_module": "@jupyter-widgets/controls",
          "model_name": "ProgressStyleModel",
          "model_module_version": "1.5.0",
          "state": {
            "_view_name": "StyleView",
            "_model_name": "ProgressStyleModel",
            "description_width": "",
            "_view_module": "@jupyter-widgets/base",
            "_model_module_version": "1.5.0",
            "_view_count": null,
            "_view_module_version": "1.2.0",
            "bar_color": null,
            "_model_module": "@jupyter-widgets/controls"
          }
        },
        "983283a09a4c4eaf8532a96bebe6995f": {
          "model_module": "@jupyter-widgets/base",
          "model_name": "LayoutModel",
          "model_module_version": "1.2.0",
          "state": {
            "_view_name": "LayoutView",
            "grid_template_rows": null,
            "right": null,
            "justify_content": null,
            "_view_module": "@jupyter-widgets/base",
            "overflow": null,
            "_model_module_version": "1.2.0",
            "_view_count": null,
            "flex_flow": null,
            "width": null,
            "min_width": null,
            "border": null,
            "align_items": null,
            "bottom": null,
            "_model_module": "@jupyter-widgets/base",
            "top": null,
            "grid_column": null,
            "overflow_y": null,
            "overflow_x": null,
            "grid_auto_flow": null,
            "grid_area": null,
            "grid_template_columns": null,
            "flex": null,
            "_model_name": "LayoutModel",
            "justify_items": null,
            "grid_row": null,
            "max_height": null,
            "align_content": null,
            "visibility": null,
            "align_self": null,
            "height": null,
            "min_height": null,
            "padding": null,
            "grid_auto_rows": null,
            "grid_gap": null,
            "max_width": null,
            "order": null,
            "_view_module_version": "1.2.0",
            "grid_template_areas": null,
            "object_position": null,
            "object_fit": null,
            "grid_auto_columns": null,
            "margin": null,
            "display": null,
            "left": null
          }
        },
        "36fa2c2af3fb472393b413f929caa233": {
          "model_module": "@jupyter-widgets/controls",
          "model_name": "DescriptionStyleModel",
          "model_module_version": "1.5.0",
          "state": {
            "_view_name": "StyleView",
            "_model_name": "DescriptionStyleModel",
            "description_width": "",
            "_view_module": "@jupyter-widgets/base",
            "_model_module_version": "1.5.0",
            "_view_count": null,
            "_view_module_version": "1.2.0",
            "_model_module": "@jupyter-widgets/controls"
          }
        },
        "464004811881407099eac06e052a260a": {
          "model_module": "@jupyter-widgets/base",
          "model_name": "LayoutModel",
          "model_module_version": "1.2.0",
          "state": {
            "_view_name": "LayoutView",
            "grid_template_rows": null,
            "right": null,
            "justify_content": null,
            "_view_module": "@jupyter-widgets/base",
            "overflow": null,
            "_model_module_version": "1.2.0",
            "_view_count": null,
            "flex_flow": null,
            "width": null,
            "min_width": null,
            "border": null,
            "align_items": null,
            "bottom": null,
            "_model_module": "@jupyter-widgets/base",
            "top": null,
            "grid_column": null,
            "overflow_y": null,
            "overflow_x": null,
            "grid_auto_flow": null,
            "grid_area": null,
            "grid_template_columns": null,
            "flex": null,
            "_model_name": "LayoutModel",
            "justify_items": null,
            "grid_row": null,
            "max_height": null,
            "align_content": null,
            "visibility": null,
            "align_self": null,
            "height": null,
            "min_height": null,
            "padding": null,
            "grid_auto_rows": null,
            "grid_gap": null,
            "max_width": null,
            "order": null,
            "_view_module_version": "1.2.0",
            "grid_template_areas": null,
            "object_position": null,
            "object_fit": null,
            "grid_auto_columns": null,
            "margin": null,
            "display": null,
            "left": null
          }
        },
        "8f6d8d023fd840d48a93e4d3bbc01e74": {
          "model_module": "@jupyter-widgets/controls",
          "model_name": "HBoxModel",
          "model_module_version": "1.5.0",
          "state": {
            "_view_name": "HBoxView",
            "_dom_classes": [],
            "_model_name": "HBoxModel",
            "_view_module": "@jupyter-widgets/controls",
            "_model_module_version": "1.5.0",
            "_view_count": null,
            "_view_module_version": "1.5.0",
            "box_style": "",
            "layout": "IPY_MODEL_96de5d2d7aa3470e96d4afe0984d129f",
            "_model_module": "@jupyter-widgets/controls",
            "children": [
              "IPY_MODEL_dda28d1a46b146aaa9780e0ea1136180",
              "IPY_MODEL_9b6f47782b644abe99be322f508d4bee",
              "IPY_MODEL_49a91ade715d4eca92c97e20ad137f95"
            ]
          }
        },
        "96de5d2d7aa3470e96d4afe0984d129f": {
          "model_module": "@jupyter-widgets/base",
          "model_name": "LayoutModel",
          "model_module_version": "1.2.0",
          "state": {
            "_view_name": "LayoutView",
            "grid_template_rows": null,
            "right": null,
            "justify_content": null,
            "_view_module": "@jupyter-widgets/base",
            "overflow": null,
            "_model_module_version": "1.2.0",
            "_view_count": null,
            "flex_flow": null,
            "width": null,
            "min_width": null,
            "border": null,
            "align_items": null,
            "bottom": null,
            "_model_module": "@jupyter-widgets/base",
            "top": null,
            "grid_column": null,
            "overflow_y": null,
            "overflow_x": null,
            "grid_auto_flow": null,
            "grid_area": null,
            "grid_template_columns": null,
            "flex": null,
            "_model_name": "LayoutModel",
            "justify_items": null,
            "grid_row": null,
            "max_height": null,
            "align_content": null,
            "visibility": null,
            "align_self": null,
            "height": null,
            "min_height": null,
            "padding": null,
            "grid_auto_rows": null,
            "grid_gap": null,
            "max_width": null,
            "order": null,
            "_view_module_version": "1.2.0",
            "grid_template_areas": null,
            "object_position": null,
            "object_fit": null,
            "grid_auto_columns": null,
            "margin": null,
            "display": null,
            "left": null
          }
        },
        "dda28d1a46b146aaa9780e0ea1136180": {
          "model_module": "@jupyter-widgets/controls",
          "model_name": "HTMLModel",
          "model_module_version": "1.5.0",
          "state": {
            "_view_name": "HTMLView",
            "style": "IPY_MODEL_ea78080c5d824e90aaabcfb4420b4212",
            "_dom_classes": [],
            "description": "",
            "_model_name": "HTMLModel",
            "placeholder": "​",
            "_view_module": "@jupyter-widgets/controls",
            "_model_module_version": "1.5.0",
            "value": "Downloading: 100%",
            "_view_count": null,
            "_view_module_version": "1.5.0",
            "description_tooltip": null,
            "_model_module": "@jupyter-widgets/controls",
            "layout": "IPY_MODEL_81d8e7def9c44724bde3eb6fd5044da8"
          }
        },
        "9b6f47782b644abe99be322f508d4bee": {
          "model_module": "@jupyter-widgets/controls",
          "model_name": "FloatProgressModel",
          "model_module_version": "1.5.0",
          "state": {
            "_view_name": "ProgressView",
            "style": "IPY_MODEL_14295283b7444ff285c67ec158d9b9fc",
            "_dom_classes": [],
            "description": "",
            "_model_name": "FloatProgressModel",
            "bar_style": "success",
            "max": 1338921808,
            "_view_module": "@jupyter-widgets/controls",
            "_model_module_version": "1.5.0",
            "value": 1338921808,
            "_view_count": null,
            "_view_module_version": "1.5.0",
            "orientation": "horizontal",
            "min": 0,
            "description_tooltip": null,
            "_model_module": "@jupyter-widgets/controls",
            "layout": "IPY_MODEL_558f32fa01c94d59b1336f15e104bcbf"
          }
        },
        "49a91ade715d4eca92c97e20ad137f95": {
          "model_module": "@jupyter-widgets/controls",
          "model_name": "HTMLModel",
          "model_module_version": "1.5.0",
          "state": {
            "_view_name": "HTMLView",
            "style": "IPY_MODEL_d3e67f6a726443a285f6894382c5f945",
            "_dom_classes": [],
            "description": "",
            "_model_name": "HTMLModel",
            "placeholder": "​",
            "_view_module": "@jupyter-widgets/controls",
            "_model_module_version": "1.5.0",
            "value": " 1.34G/1.34G [01:02&lt;00:00, 20.0MB/s]",
            "_view_count": null,
            "_view_module_version": "1.5.0",
            "description_tooltip": null,
            "_model_module": "@jupyter-widgets/controls",
            "layout": "IPY_MODEL_bec9f167550a41dfb715bfea1b7742e9"
          }
        },
        "ea78080c5d824e90aaabcfb4420b4212": {
          "model_module": "@jupyter-widgets/controls",
          "model_name": "DescriptionStyleModel",
          "model_module_version": "1.5.0",
          "state": {
            "_view_name": "StyleView",
            "_model_name": "DescriptionStyleModel",
            "description_width": "",
            "_view_module": "@jupyter-widgets/base",
            "_model_module_version": "1.5.0",
            "_view_count": null,
            "_view_module_version": "1.2.0",
            "_model_module": "@jupyter-widgets/controls"
          }
        },
        "81d8e7def9c44724bde3eb6fd5044da8": {
          "model_module": "@jupyter-widgets/base",
          "model_name": "LayoutModel",
          "model_module_version": "1.2.0",
          "state": {
            "_view_name": "LayoutView",
            "grid_template_rows": null,
            "right": null,
            "justify_content": null,
            "_view_module": "@jupyter-widgets/base",
            "overflow": null,
            "_model_module_version": "1.2.0",
            "_view_count": null,
            "flex_flow": null,
            "width": null,
            "min_width": null,
            "border": null,
            "align_items": null,
            "bottom": null,
            "_model_module": "@jupyter-widgets/base",
            "top": null,
            "grid_column": null,
            "overflow_y": null,
            "overflow_x": null,
            "grid_auto_flow": null,
            "grid_area": null,
            "grid_template_columns": null,
            "flex": null,
            "_model_name": "LayoutModel",
            "justify_items": null,
            "grid_row": null,
            "max_height": null,
            "align_content": null,
            "visibility": null,
            "align_self": null,
            "height": null,
            "min_height": null,
            "padding": null,
            "grid_auto_rows": null,
            "grid_gap": null,
            "max_width": null,
            "order": null,
            "_view_module_version": "1.2.0",
            "grid_template_areas": null,
            "object_position": null,
            "object_fit": null,
            "grid_auto_columns": null,
            "margin": null,
            "display": null,
            "left": null
          }
        },
        "14295283b7444ff285c67ec158d9b9fc": {
          "model_module": "@jupyter-widgets/controls",
          "model_name": "ProgressStyleModel",
          "model_module_version": "1.5.0",
          "state": {
            "_view_name": "StyleView",
            "_model_name": "ProgressStyleModel",
            "description_width": "",
            "_view_module": "@jupyter-widgets/base",
            "_model_module_version": "1.5.0",
            "_view_count": null,
            "_view_module_version": "1.2.0",
            "bar_color": null,
            "_model_module": "@jupyter-widgets/controls"
          }
        },
        "558f32fa01c94d59b1336f15e104bcbf": {
          "model_module": "@jupyter-widgets/base",
          "model_name": "LayoutModel",
          "model_module_version": "1.2.0",
          "state": {
            "_view_name": "LayoutView",
            "grid_template_rows": null,
            "right": null,
            "justify_content": null,
            "_view_module": "@jupyter-widgets/base",
            "overflow": null,
            "_model_module_version": "1.2.0",
            "_view_count": null,
            "flex_flow": null,
            "width": null,
            "min_width": null,
            "border": null,
            "align_items": null,
            "bottom": null,
            "_model_module": "@jupyter-widgets/base",
            "top": null,
            "grid_column": null,
            "overflow_y": null,
            "overflow_x": null,
            "grid_auto_flow": null,
            "grid_area": null,
            "grid_template_columns": null,
            "flex": null,
            "_model_name": "LayoutModel",
            "justify_items": null,
            "grid_row": null,
            "max_height": null,
            "align_content": null,
            "visibility": null,
            "align_self": null,
            "height": null,
            "min_height": null,
            "padding": null,
            "grid_auto_rows": null,
            "grid_gap": null,
            "max_width": null,
            "order": null,
            "_view_module_version": "1.2.0",
            "grid_template_areas": null,
            "object_position": null,
            "object_fit": null,
            "grid_auto_columns": null,
            "margin": null,
            "display": null,
            "left": null
          }
        },
        "d3e67f6a726443a285f6894382c5f945": {
          "model_module": "@jupyter-widgets/controls",
          "model_name": "DescriptionStyleModel",
          "model_module_version": "1.5.0",
          "state": {
            "_view_name": "StyleView",
            "_model_name": "DescriptionStyleModel",
            "description_width": "",
            "_view_module": "@jupyter-widgets/base",
            "_model_module_version": "1.5.0",
            "_view_count": null,
            "_view_module_version": "1.2.0",
            "_model_module": "@jupyter-widgets/controls"
          }
        },
        "bec9f167550a41dfb715bfea1b7742e9": {
          "model_module": "@jupyter-widgets/base",
          "model_name": "LayoutModel",
          "model_module_version": "1.2.0",
          "state": {
            "_view_name": "LayoutView",
            "grid_template_rows": null,
            "right": null,
            "justify_content": null,
            "_view_module": "@jupyter-widgets/base",
            "overflow": null,
            "_model_module_version": "1.2.0",
            "_view_count": null,
            "flex_flow": null,
            "width": null,
            "min_width": null,
            "border": null,
            "align_items": null,
            "bottom": null,
            "_model_module": "@jupyter-widgets/base",
            "top": null,
            "grid_column": null,
            "overflow_y": null,
            "overflow_x": null,
            "grid_auto_flow": null,
            "grid_area": null,
            "grid_template_columns": null,
            "flex": null,
            "_model_name": "LayoutModel",
            "justify_items": null,
            "grid_row": null,
            "max_height": null,
            "align_content": null,
            "visibility": null,
            "align_self": null,
            "height": null,
            "min_height": null,
            "padding": null,
            "grid_auto_rows": null,
            "grid_gap": null,
            "max_width": null,
            "order": null,
            "_view_module_version": "1.2.0",
            "grid_template_areas": null,
            "object_position": null,
            "object_fit": null,
            "grid_auto_columns": null,
            "margin": null,
            "display": null,
            "left": null
          }
        },
        "f9d9a90973c540f2b581b2fa8d54edbb": {
          "model_module": "@jupyter-widgets/controls",
          "model_name": "HBoxModel",
          "model_module_version": "1.5.0",
          "state": {
            "_view_name": "HBoxView",
            "_dom_classes": [],
            "_model_name": "HBoxModel",
            "_view_module": "@jupyter-widgets/controls",
            "_model_module_version": "1.5.0",
            "_view_count": null,
            "_view_module_version": "1.5.0",
            "box_style": "",
            "layout": "IPY_MODEL_7b852cf6602f43c3a135ce3fa6b729ee",
            "_model_module": "@jupyter-widgets/controls",
            "children": [
              "IPY_MODEL_a80e5fa049c6431fb6ec2f60290e7455",
              "IPY_MODEL_9e1371ed67d14aca9ac36e8456421e0e",
              "IPY_MODEL_77224501e4834def8f925995e078e3b3"
            ]
          }
        },
        "7b852cf6602f43c3a135ce3fa6b729ee": {
          "model_module": "@jupyter-widgets/base",
          "model_name": "LayoutModel",
          "model_module_version": "1.2.0",
          "state": {
            "_view_name": "LayoutView",
            "grid_template_rows": null,
            "right": null,
            "justify_content": null,
            "_view_module": "@jupyter-widgets/base",
            "overflow": null,
            "_model_module_version": "1.2.0",
            "_view_count": null,
            "flex_flow": null,
            "width": null,
            "min_width": null,
            "border": null,
            "align_items": null,
            "bottom": null,
            "_model_module": "@jupyter-widgets/base",
            "top": null,
            "grid_column": null,
            "overflow_y": null,
            "overflow_x": null,
            "grid_auto_flow": null,
            "grid_area": null,
            "grid_template_columns": null,
            "flex": null,
            "_model_name": "LayoutModel",
            "justify_items": null,
            "grid_row": null,
            "max_height": null,
            "align_content": null,
            "visibility": null,
            "align_self": null,
            "height": null,
            "min_height": null,
            "padding": null,
            "grid_auto_rows": null,
            "grid_gap": null,
            "max_width": null,
            "order": null,
            "_view_module_version": "1.2.0",
            "grid_template_areas": null,
            "object_position": null,
            "object_fit": null,
            "grid_auto_columns": null,
            "margin": null,
            "display": null,
            "left": null
          }
        },
        "a80e5fa049c6431fb6ec2f60290e7455": {
          "model_module": "@jupyter-widgets/controls",
          "model_name": "HTMLModel",
          "model_module_version": "1.5.0",
          "state": {
            "_view_name": "HTMLView",
            "style": "IPY_MODEL_4d1f6226f173465f8c4259d17077fac6",
            "_dom_classes": [],
            "description": "",
            "_model_name": "HTMLModel",
            "placeholder": "​",
            "_view_module": "@jupyter-widgets/controls",
            "_model_module_version": "1.5.0",
            "value": "Downloading: 100%",
            "_view_count": null,
            "_view_module_version": "1.5.0",
            "description_tooltip": null,
            "_model_module": "@jupyter-widgets/controls",
            "layout": "IPY_MODEL_f83843c0820046db8c1a7b8bb26bf2b4"
          }
        },
        "9e1371ed67d14aca9ac36e8456421e0e": {
          "model_module": "@jupyter-widgets/controls",
          "model_name": "FloatProgressModel",
          "model_module_version": "1.5.0",
          "state": {
            "_view_name": "ProgressView",
            "style": "IPY_MODEL_11ab7dde5f6941afa88bc6eab323ca2b",
            "_dom_classes": [],
            "description": "",
            "_model_name": "FloatProgressModel",
            "bar_style": "success",
            "max": 239836,
            "_view_module": "@jupyter-widgets/controls",
            "_model_module_version": "1.5.0",
            "value": 239836,
            "_view_count": null,
            "_view_module_version": "1.5.0",
            "orientation": "horizontal",
            "min": 0,
            "description_tooltip": null,
            "_model_module": "@jupyter-widgets/controls",
            "layout": "IPY_MODEL_3969a060ce284d8fa117283e25691ba8"
          }
        },
        "77224501e4834def8f925995e078e3b3": {
          "model_module": "@jupyter-widgets/controls",
          "model_name": "HTMLModel",
          "model_module_version": "1.5.0",
          "state": {
            "_view_name": "HTMLView",
            "style": "IPY_MODEL_9191d4d9acb642efb3c1e0058f54d77a",
            "_dom_classes": [],
            "description": "",
            "_model_name": "HTMLModel",
            "placeholder": "​",
            "_view_module": "@jupyter-widgets/controls",
            "_model_module_version": "1.5.0",
            "value": " 240k/240k [00:00&lt;00:00, 522kB/s]",
            "_view_count": null,
            "_view_module_version": "1.5.0",
            "description_tooltip": null,
            "_model_module": "@jupyter-widgets/controls",
            "layout": "IPY_MODEL_e67abc4d44d04c9a8b96acf2f4677585"
          }
        },
        "4d1f6226f173465f8c4259d17077fac6": {
          "model_module": "@jupyter-widgets/controls",
          "model_name": "DescriptionStyleModel",
          "model_module_version": "1.5.0",
          "state": {
            "_view_name": "StyleView",
            "_model_name": "DescriptionStyleModel",
            "description_width": "",
            "_view_module": "@jupyter-widgets/base",
            "_model_module_version": "1.5.0",
            "_view_count": null,
            "_view_module_version": "1.2.0",
            "_model_module": "@jupyter-widgets/controls"
          }
        },
        "f83843c0820046db8c1a7b8bb26bf2b4": {
          "model_module": "@jupyter-widgets/base",
          "model_name": "LayoutModel",
          "model_module_version": "1.2.0",
          "state": {
            "_view_name": "LayoutView",
            "grid_template_rows": null,
            "right": null,
            "justify_content": null,
            "_view_module": "@jupyter-widgets/base",
            "overflow": null,
            "_model_module_version": "1.2.0",
            "_view_count": null,
            "flex_flow": null,
            "width": null,
            "min_width": null,
            "border": null,
            "align_items": null,
            "bottom": null,
            "_model_module": "@jupyter-widgets/base",
            "top": null,
            "grid_column": null,
            "overflow_y": null,
            "overflow_x": null,
            "grid_auto_flow": null,
            "grid_area": null,
            "grid_template_columns": null,
            "flex": null,
            "_model_name": "LayoutModel",
            "justify_items": null,
            "grid_row": null,
            "max_height": null,
            "align_content": null,
            "visibility": null,
            "align_self": null,
            "height": null,
            "min_height": null,
            "padding": null,
            "grid_auto_rows": null,
            "grid_gap": null,
            "max_width": null,
            "order": null,
            "_view_module_version": "1.2.0",
            "grid_template_areas": null,
            "object_position": null,
            "object_fit": null,
            "grid_auto_columns": null,
            "margin": null,
            "display": null,
            "left": null
          }
        },
        "11ab7dde5f6941afa88bc6eab323ca2b": {
          "model_module": "@jupyter-widgets/controls",
          "model_name": "ProgressStyleModel",
          "model_module_version": "1.5.0",
          "state": {
            "_view_name": "StyleView",
            "_model_name": "ProgressStyleModel",
            "description_width": "",
            "_view_module": "@jupyter-widgets/base",
            "_model_module_version": "1.5.0",
            "_view_count": null,
            "_view_module_version": "1.2.0",
            "bar_color": null,
            "_model_module": "@jupyter-widgets/controls"
          }
        },
        "3969a060ce284d8fa117283e25691ba8": {
          "model_module": "@jupyter-widgets/base",
          "model_name": "LayoutModel",
          "model_module_version": "1.2.0",
          "state": {
            "_view_name": "LayoutView",
            "grid_template_rows": null,
            "right": null,
            "justify_content": null,
            "_view_module": "@jupyter-widgets/base",
            "overflow": null,
            "_model_module_version": "1.2.0",
            "_view_count": null,
            "flex_flow": null,
            "width": null,
            "min_width": null,
            "border": null,
            "align_items": null,
            "bottom": null,
            "_model_module": "@jupyter-widgets/base",
            "top": null,
            "grid_column": null,
            "overflow_y": null,
            "overflow_x": null,
            "grid_auto_flow": null,
            "grid_area": null,
            "grid_template_columns": null,
            "flex": null,
            "_model_name": "LayoutModel",
            "justify_items": null,
            "grid_row": null,
            "max_height": null,
            "align_content": null,
            "visibility": null,
            "align_self": null,
            "height": null,
            "min_height": null,
            "padding": null,
            "grid_auto_rows": null,
            "grid_gap": null,
            "max_width": null,
            "order": null,
            "_view_module_version": "1.2.0",
            "grid_template_areas": null,
            "object_position": null,
            "object_fit": null,
            "grid_auto_columns": null,
            "margin": null,
            "display": null,
            "left": null
          }
        },
        "9191d4d9acb642efb3c1e0058f54d77a": {
          "model_module": "@jupyter-widgets/controls",
          "model_name": "DescriptionStyleModel",
          "model_module_version": "1.5.0",
          "state": {
            "_view_name": "StyleView",
            "_model_name": "DescriptionStyleModel",
            "description_width": "",
            "_view_module": "@jupyter-widgets/base",
            "_model_module_version": "1.5.0",
            "_view_count": null,
            "_view_module_version": "1.2.0",
            "_model_module": "@jupyter-widgets/controls"
          }
        },
        "e67abc4d44d04c9a8b96acf2f4677585": {
          "model_module": "@jupyter-widgets/base",
          "model_name": "LayoutModel",
          "model_module_version": "1.2.0",
          "state": {
            "_view_name": "LayoutView",
            "grid_template_rows": null,
            "right": null,
            "justify_content": null,
            "_view_module": "@jupyter-widgets/base",
            "overflow": null,
            "_model_module_version": "1.2.0",
            "_view_count": null,
            "flex_flow": null,
            "width": null,
            "min_width": null,
            "border": null,
            "align_items": null,
            "bottom": null,
            "_model_module": "@jupyter-widgets/base",
            "top": null,
            "grid_column": null,
            "overflow_y": null,
            "overflow_x": null,
            "grid_auto_flow": null,
            "grid_area": null,
            "grid_template_columns": null,
            "flex": null,
            "_model_name": "LayoutModel",
            "justify_items": null,
            "grid_row": null,
            "max_height": null,
            "align_content": null,
            "visibility": null,
            "align_self": null,
            "height": null,
            "min_height": null,
            "padding": null,
            "grid_auto_rows": null,
            "grid_gap": null,
            "max_width": null,
            "order": null,
            "_view_module_version": "1.2.0",
            "grid_template_areas": null,
            "object_position": null,
            "object_fit": null,
            "grid_auto_columns": null,
            "margin": null,
            "display": null,
            "left": null
          }
        },
        "13c2b01e854b43c08afde3ae9de55d3c": {
          "model_module": "@jupyter-widgets/controls",
          "model_name": "HBoxModel",
          "model_module_version": "1.5.0",
          "state": {
            "_view_name": "HBoxView",
            "_dom_classes": [],
            "_model_name": "HBoxModel",
            "_view_module": "@jupyter-widgets/controls",
            "_model_module_version": "1.5.0",
            "_view_count": null,
            "_view_module_version": "1.5.0",
            "box_style": "",
            "layout": "IPY_MODEL_3ac8747bb81a42e29045fce732566630",
            "_model_module": "@jupyter-widgets/controls",
            "children": [
              "IPY_MODEL_ea48bd30a3204a18956500e26efdb8f2",
              "IPY_MODEL_bbbad407e3cd4a42ad97094174a646aa",
              "IPY_MODEL_713686079d0a4dc29d20ae0ba924a9c1"
            ]
          }
        },
        "3ac8747bb81a42e29045fce732566630": {
          "model_module": "@jupyter-widgets/base",
          "model_name": "LayoutModel",
          "model_module_version": "1.2.0",
          "state": {
            "_view_name": "LayoutView",
            "grid_template_rows": null,
            "right": null,
            "justify_content": null,
            "_view_module": "@jupyter-widgets/base",
            "overflow": null,
            "_model_module_version": "1.2.0",
            "_view_count": null,
            "flex_flow": null,
            "width": null,
            "min_width": null,
            "border": null,
            "align_items": null,
            "bottom": null,
            "_model_module": "@jupyter-widgets/base",
            "top": null,
            "grid_column": null,
            "overflow_y": null,
            "overflow_x": null,
            "grid_auto_flow": null,
            "grid_area": null,
            "grid_template_columns": null,
            "flex": null,
            "_model_name": "LayoutModel",
            "justify_items": null,
            "grid_row": null,
            "max_height": null,
            "align_content": null,
            "visibility": null,
            "align_self": null,
            "height": null,
            "min_height": null,
            "padding": null,
            "grid_auto_rows": null,
            "grid_gap": null,
            "max_width": null,
            "order": null,
            "_view_module_version": "1.2.0",
            "grid_template_areas": null,
            "object_position": null,
            "object_fit": null,
            "grid_auto_columns": null,
            "margin": null,
            "display": null,
            "left": null
          }
        },
        "ea48bd30a3204a18956500e26efdb8f2": {
          "model_module": "@jupyter-widgets/controls",
          "model_name": "HTMLModel",
          "model_module_version": "1.5.0",
          "state": {
            "_view_name": "HTMLView",
            "style": "IPY_MODEL_9c4f638c89214afb81bb629300c4cf8a",
            "_dom_classes": [],
            "description": "",
            "_model_name": "HTMLModel",
            "placeholder": "​",
            "_view_module": "@jupyter-widgets/controls",
            "_model_module_version": "1.5.0",
            "value": "Downloading: 100%",
            "_view_count": null,
            "_view_module_version": "1.5.0",
            "description_tooltip": null,
            "_model_module": "@jupyter-widgets/controls",
            "layout": "IPY_MODEL_67bd51664be341e983653bcbb1edbd4b"
          }
        },
        "bbbad407e3cd4a42ad97094174a646aa": {
          "model_module": "@jupyter-widgets/controls",
          "model_name": "FloatProgressModel",
          "model_module_version": "1.5.0",
          "state": {
            "_view_name": "ProgressView",
            "style": "IPY_MODEL_f50fb8729d44447a9244fdf84191e641",
            "_dom_classes": [],
            "description": "",
            "_model_name": "FloatProgressModel",
            "bar_style": "success",
            "max": 112,
            "_view_module": "@jupyter-widgets/controls",
            "_model_module_version": "1.5.0",
            "value": 112,
            "_view_count": null,
            "_view_module_version": "1.5.0",
            "orientation": "horizontal",
            "min": 0,
            "description_tooltip": null,
            "_model_module": "@jupyter-widgets/controls",
            "layout": "IPY_MODEL_18e85d6bd8054d64a01ffff97ca82ee8"
          }
        },
        "713686079d0a4dc29d20ae0ba924a9c1": {
          "model_module": "@jupyter-widgets/controls",
          "model_name": "HTMLModel",
          "model_module_version": "1.5.0",
          "state": {
            "_view_name": "HTMLView",
            "style": "IPY_MODEL_582af928d68446509deaf760f100eb91",
            "_dom_classes": [],
            "description": "",
            "_model_name": "HTMLModel",
            "placeholder": "​",
            "_view_module": "@jupyter-widgets/controls",
            "_model_module_version": "1.5.0",
            "value": " 112/112 [00:00&lt;00:00, 2.56kB/s]",
            "_view_count": null,
            "_view_module_version": "1.5.0",
            "description_tooltip": null,
            "_model_module": "@jupyter-widgets/controls",
            "layout": "IPY_MODEL_6ab250f0aad24bbdad7231d95149ac01"
          }
        },
        "9c4f638c89214afb81bb629300c4cf8a": {
          "model_module": "@jupyter-widgets/controls",
          "model_name": "DescriptionStyleModel",
          "model_module_version": "1.5.0",
          "state": {
            "_view_name": "StyleView",
            "_model_name": "DescriptionStyleModel",
            "description_width": "",
            "_view_module": "@jupyter-widgets/base",
            "_model_module_version": "1.5.0",
            "_view_count": null,
            "_view_module_version": "1.2.0",
            "_model_module": "@jupyter-widgets/controls"
          }
        },
        "67bd51664be341e983653bcbb1edbd4b": {
          "model_module": "@jupyter-widgets/base",
          "model_name": "LayoutModel",
          "model_module_version": "1.2.0",
          "state": {
            "_view_name": "LayoutView",
            "grid_template_rows": null,
            "right": null,
            "justify_content": null,
            "_view_module": "@jupyter-widgets/base",
            "overflow": null,
            "_model_module_version": "1.2.0",
            "_view_count": null,
            "flex_flow": null,
            "width": null,
            "min_width": null,
            "border": null,
            "align_items": null,
            "bottom": null,
            "_model_module": "@jupyter-widgets/base",
            "top": null,
            "grid_column": null,
            "overflow_y": null,
            "overflow_x": null,
            "grid_auto_flow": null,
            "grid_area": null,
            "grid_template_columns": null,
            "flex": null,
            "_model_name": "LayoutModel",
            "justify_items": null,
            "grid_row": null,
            "max_height": null,
            "align_content": null,
            "visibility": null,
            "align_self": null,
            "height": null,
            "min_height": null,
            "padding": null,
            "grid_auto_rows": null,
            "grid_gap": null,
            "max_width": null,
            "order": null,
            "_view_module_version": "1.2.0",
            "grid_template_areas": null,
            "object_position": null,
            "object_fit": null,
            "grid_auto_columns": null,
            "margin": null,
            "display": null,
            "left": null
          }
        },
        "f50fb8729d44447a9244fdf84191e641": {
          "model_module": "@jupyter-widgets/controls",
          "model_name": "ProgressStyleModel",
          "model_module_version": "1.5.0",
          "state": {
            "_view_name": "StyleView",
            "_model_name": "ProgressStyleModel",
            "description_width": "",
            "_view_module": "@jupyter-widgets/base",
            "_model_module_version": "1.5.0",
            "_view_count": null,
            "_view_module_version": "1.2.0",
            "bar_color": null,
            "_model_module": "@jupyter-widgets/controls"
          }
        },
        "18e85d6bd8054d64a01ffff97ca82ee8": {
          "model_module": "@jupyter-widgets/base",
          "model_name": "LayoutModel",
          "model_module_version": "1.2.0",
          "state": {
            "_view_name": "LayoutView",
            "grid_template_rows": null,
            "right": null,
            "justify_content": null,
            "_view_module": "@jupyter-widgets/base",
            "overflow": null,
            "_model_module_version": "1.2.0",
            "_view_count": null,
            "flex_flow": null,
            "width": null,
            "min_width": null,
            "border": null,
            "align_items": null,
            "bottom": null,
            "_model_module": "@jupyter-widgets/base",
            "top": null,
            "grid_column": null,
            "overflow_y": null,
            "overflow_x": null,
            "grid_auto_flow": null,
            "grid_area": null,
            "grid_template_columns": null,
            "flex": null,
            "_model_name": "LayoutModel",
            "justify_items": null,
            "grid_row": null,
            "max_height": null,
            "align_content": null,
            "visibility": null,
            "align_self": null,
            "height": null,
            "min_height": null,
            "padding": null,
            "grid_auto_rows": null,
            "grid_gap": null,
            "max_width": null,
            "order": null,
            "_view_module_version": "1.2.0",
            "grid_template_areas": null,
            "object_position": null,
            "object_fit": null,
            "grid_auto_columns": null,
            "margin": null,
            "display": null,
            "left": null
          }
        },
        "582af928d68446509deaf760f100eb91": {
          "model_module": "@jupyter-widgets/controls",
          "model_name": "DescriptionStyleModel",
          "model_module_version": "1.5.0",
          "state": {
            "_view_name": "StyleView",
            "_model_name": "DescriptionStyleModel",
            "description_width": "",
            "_view_module": "@jupyter-widgets/base",
            "_model_module_version": "1.5.0",
            "_view_count": null,
            "_view_module_version": "1.2.0",
            "_model_module": "@jupyter-widgets/controls"
          }
        },
        "6ab250f0aad24bbdad7231d95149ac01": {
          "model_module": "@jupyter-widgets/base",
          "model_name": "LayoutModel",
          "model_module_version": "1.2.0",
          "state": {
            "_view_name": "LayoutView",
            "grid_template_rows": null,
            "right": null,
            "justify_content": null,
            "_view_module": "@jupyter-widgets/base",
            "overflow": null,
            "_model_module_version": "1.2.0",
            "_view_count": null,
            "flex_flow": null,
            "width": null,
            "min_width": null,
            "border": null,
            "align_items": null,
            "bottom": null,
            "_model_module": "@jupyter-widgets/base",
            "top": null,
            "grid_column": null,
            "overflow_y": null,
            "overflow_x": null,
            "grid_auto_flow": null,
            "grid_area": null,
            "grid_template_columns": null,
            "flex": null,
            "_model_name": "LayoutModel",
            "justify_items": null,
            "grid_row": null,
            "max_height": null,
            "align_content": null,
            "visibility": null,
            "align_self": null,
            "height": null,
            "min_height": null,
            "padding": null,
            "grid_auto_rows": null,
            "grid_gap": null,
            "max_width": null,
            "order": null,
            "_view_module_version": "1.2.0",
            "grid_template_areas": null,
            "object_position": null,
            "object_fit": null,
            "grid_auto_columns": null,
            "margin": null,
            "display": null,
            "left": null
          }
        },
        "a8362781c70a41efac397f43d9e95099": {
          "model_module": "@jupyter-widgets/controls",
          "model_name": "HBoxModel",
          "model_module_version": "1.5.0",
          "state": {
            "_view_name": "HBoxView",
            "_dom_classes": [],
            "_model_name": "HBoxModel",
            "_view_module": "@jupyter-widgets/controls",
            "_model_module_version": "1.5.0",
            "_view_count": null,
            "_view_module_version": "1.5.0",
            "box_style": "",
            "layout": "IPY_MODEL_1a2a34e76a64486ebeff6b84b63e831b",
            "_model_module": "@jupyter-widgets/controls",
            "children": [
              "IPY_MODEL_6e0d6966a6ce48c3ba30a260d5d19f43",
              "IPY_MODEL_c29be0d8e1c648238af6614452fd5da0",
              "IPY_MODEL_651b145cbe1243c79d0f22375a40a118"
            ]
          }
        },
        "1a2a34e76a64486ebeff6b84b63e831b": {
          "model_module": "@jupyter-widgets/base",
          "model_name": "LayoutModel",
          "model_module_version": "1.2.0",
          "state": {
            "_view_name": "LayoutView",
            "grid_template_rows": null,
            "right": null,
            "justify_content": null,
            "_view_module": "@jupyter-widgets/base",
            "overflow": null,
            "_model_module_version": "1.2.0",
            "_view_count": null,
            "flex_flow": null,
            "width": null,
            "min_width": null,
            "border": null,
            "align_items": null,
            "bottom": null,
            "_model_module": "@jupyter-widgets/base",
            "top": null,
            "grid_column": null,
            "overflow_y": null,
            "overflow_x": null,
            "grid_auto_flow": null,
            "grid_area": null,
            "grid_template_columns": null,
            "flex": null,
            "_model_name": "LayoutModel",
            "justify_items": null,
            "grid_row": null,
            "max_height": null,
            "align_content": null,
            "visibility": null,
            "align_self": null,
            "height": null,
            "min_height": null,
            "padding": null,
            "grid_auto_rows": null,
            "grid_gap": null,
            "max_width": null,
            "order": null,
            "_view_module_version": "1.2.0",
            "grid_template_areas": null,
            "object_position": null,
            "object_fit": null,
            "grid_auto_columns": null,
            "margin": null,
            "display": null,
            "left": null
          }
        },
        "6e0d6966a6ce48c3ba30a260d5d19f43": {
          "model_module": "@jupyter-widgets/controls",
          "model_name": "HTMLModel",
          "model_module_version": "1.5.0",
          "state": {
            "_view_name": "HTMLView",
            "style": "IPY_MODEL_3b791bbefd8e48be94b73757ae1d9a6b",
            "_dom_classes": [],
            "description": "",
            "_model_name": "HTMLModel",
            "placeholder": "​",
            "_view_module": "@jupyter-widgets/controls",
            "_model_module_version": "1.5.0",
            "value": "Downloading: 100%",
            "_view_count": null,
            "_view_module_version": "1.5.0",
            "description_tooltip": null,
            "_model_module": "@jupyter-widgets/controls",
            "layout": "IPY_MODEL_7f9ca66b860d495d83cad35bee0db808"
          }
        },
        "c29be0d8e1c648238af6614452fd5da0": {
          "model_module": "@jupyter-widgets/controls",
          "model_name": "FloatProgressModel",
          "model_module_version": "1.5.0",
          "state": {
            "_view_name": "ProgressView",
            "style": "IPY_MODEL_ff95f77ccb2c498487acfb3ce5997d86",
            "_dom_classes": [],
            "description": "",
            "_model_name": "FloatProgressModel",
            "bar_style": "success",
            "max": 355,
            "_view_module": "@jupyter-widgets/controls",
            "_model_module_version": "1.5.0",
            "value": 355,
            "_view_count": null,
            "_view_module_version": "1.5.0",
            "orientation": "horizontal",
            "min": 0,
            "description_tooltip": null,
            "_model_module": "@jupyter-widgets/controls",
            "layout": "IPY_MODEL_96f9a2b2e5b5469488c60982915dab12"
          }
        },
        "651b145cbe1243c79d0f22375a40a118": {
          "model_module": "@jupyter-widgets/controls",
          "model_name": "HTMLModel",
          "model_module_version": "1.5.0",
          "state": {
            "_view_name": "HTMLView",
            "style": "IPY_MODEL_bf02c8bc2a054333aec3690721bbf564",
            "_dom_classes": [],
            "description": "",
            "_model_name": "HTMLModel",
            "placeholder": "​",
            "_view_module": "@jupyter-widgets/controls",
            "_model_module_version": "1.5.0",
            "value": " 355/355 [00:00&lt;00:00, 9.69kB/s]",
            "_view_count": null,
            "_view_module_version": "1.5.0",
            "description_tooltip": null,
            "_model_module": "@jupyter-widgets/controls",
            "layout": "IPY_MODEL_4b3c383506d64dc0994612993b10c490"
          }
        },
        "3b791bbefd8e48be94b73757ae1d9a6b": {
          "model_module": "@jupyter-widgets/controls",
          "model_name": "DescriptionStyleModel",
          "model_module_version": "1.5.0",
          "state": {
            "_view_name": "StyleView",
            "_model_name": "DescriptionStyleModel",
            "description_width": "",
            "_view_module": "@jupyter-widgets/base",
            "_model_module_version": "1.5.0",
            "_view_count": null,
            "_view_module_version": "1.2.0",
            "_model_module": "@jupyter-widgets/controls"
          }
        },
        "7f9ca66b860d495d83cad35bee0db808": {
          "model_module": "@jupyter-widgets/base",
          "model_name": "LayoutModel",
          "model_module_version": "1.2.0",
          "state": {
            "_view_name": "LayoutView",
            "grid_template_rows": null,
            "right": null,
            "justify_content": null,
            "_view_module": "@jupyter-widgets/base",
            "overflow": null,
            "_model_module_version": "1.2.0",
            "_view_count": null,
            "flex_flow": null,
            "width": null,
            "min_width": null,
            "border": null,
            "align_items": null,
            "bottom": null,
            "_model_module": "@jupyter-widgets/base",
            "top": null,
            "grid_column": null,
            "overflow_y": null,
            "overflow_x": null,
            "grid_auto_flow": null,
            "grid_area": null,
            "grid_template_columns": null,
            "flex": null,
            "_model_name": "LayoutModel",
            "justify_items": null,
            "grid_row": null,
            "max_height": null,
            "align_content": null,
            "visibility": null,
            "align_self": null,
            "height": null,
            "min_height": null,
            "padding": null,
            "grid_auto_rows": null,
            "grid_gap": null,
            "max_width": null,
            "order": null,
            "_view_module_version": "1.2.0",
            "grid_template_areas": null,
            "object_position": null,
            "object_fit": null,
            "grid_auto_columns": null,
            "margin": null,
            "display": null,
            "left": null
          }
        },
        "ff95f77ccb2c498487acfb3ce5997d86": {
          "model_module": "@jupyter-widgets/controls",
          "model_name": "ProgressStyleModel",
          "model_module_version": "1.5.0",
          "state": {
            "_view_name": "StyleView",
            "_model_name": "ProgressStyleModel",
            "description_width": "",
            "_view_module": "@jupyter-widgets/base",
            "_model_module_version": "1.5.0",
            "_view_count": null,
            "_view_module_version": "1.2.0",
            "bar_color": null,
            "_model_module": "@jupyter-widgets/controls"
          }
        },
        "96f9a2b2e5b5469488c60982915dab12": {
          "model_module": "@jupyter-widgets/base",
          "model_name": "LayoutModel",
          "model_module_version": "1.2.0",
          "state": {
            "_view_name": "LayoutView",
            "grid_template_rows": null,
            "right": null,
            "justify_content": null,
            "_view_module": "@jupyter-widgets/base",
            "overflow": null,
            "_model_module_version": "1.2.0",
            "_view_count": null,
            "flex_flow": null,
            "width": null,
            "min_width": null,
            "border": null,
            "align_items": null,
            "bottom": null,
            "_model_module": "@jupyter-widgets/base",
            "top": null,
            "grid_column": null,
            "overflow_y": null,
            "overflow_x": null,
            "grid_auto_flow": null,
            "grid_area": null,
            "grid_template_columns": null,
            "flex": null,
            "_model_name": "LayoutModel",
            "justify_items": null,
            "grid_row": null,
            "max_height": null,
            "align_content": null,
            "visibility": null,
            "align_self": null,
            "height": null,
            "min_height": null,
            "padding": null,
            "grid_auto_rows": null,
            "grid_gap": null,
            "max_width": null,
            "order": null,
            "_view_module_version": "1.2.0",
            "grid_template_areas": null,
            "object_position": null,
            "object_fit": null,
            "grid_auto_columns": null,
            "margin": null,
            "display": null,
            "left": null
          }
        },
        "bf02c8bc2a054333aec3690721bbf564": {
          "model_module": "@jupyter-widgets/controls",
          "model_name": "DescriptionStyleModel",
          "model_module_version": "1.5.0",
          "state": {
            "_view_name": "StyleView",
            "_model_name": "DescriptionStyleModel",
            "description_width": "",
            "_view_module": "@jupyter-widgets/base",
            "_model_module_version": "1.5.0",
            "_view_count": null,
            "_view_module_version": "1.2.0",
            "_model_module": "@jupyter-widgets/controls"
          }
        },
        "4b3c383506d64dc0994612993b10c490": {
          "model_module": "@jupyter-widgets/base",
          "model_name": "LayoutModel",
          "model_module_version": "1.2.0",
          "state": {
            "_view_name": "LayoutView",
            "grid_template_rows": null,
            "right": null,
            "justify_content": null,
            "_view_module": "@jupyter-widgets/base",
            "overflow": null,
            "_model_module_version": "1.2.0",
            "_view_count": null,
            "flex_flow": null,
            "width": null,
            "min_width": null,
            "border": null,
            "align_items": null,
            "bottom": null,
            "_model_module": "@jupyter-widgets/base",
            "top": null,
            "grid_column": null,
            "overflow_y": null,
            "overflow_x": null,
            "grid_auto_flow": null,
            "grid_area": null,
            "grid_template_columns": null,
            "flex": null,
            "_model_name": "LayoutModel",
            "justify_items": null,
            "grid_row": null,
            "max_height": null,
            "align_content": null,
            "visibility": null,
            "align_self": null,
            "height": null,
            "min_height": null,
            "padding": null,
            "grid_auto_rows": null,
            "grid_gap": null,
            "max_width": null,
            "order": null,
            "_view_module_version": "1.2.0",
            "grid_template_areas": null,
            "object_position": null,
            "object_fit": null,
            "grid_auto_columns": null,
            "margin": null,
            "display": null,
            "left": null
          }
        },
        "cb7f51b3c8284132a77699299ece2a79": {
          "model_module": "@jupyter-widgets/controls",
          "model_name": "HBoxModel",
          "model_module_version": "1.5.0",
          "state": {
            "_view_name": "HBoxView",
            "_dom_classes": [],
            "_model_name": "HBoxModel",
            "_view_module": "@jupyter-widgets/controls",
            "_model_module_version": "1.5.0",
            "_view_count": null,
            "_view_module_version": "1.5.0",
            "box_style": "",
            "layout": "IPY_MODEL_4edb993259c04e17a0bfd9965d3f22af",
            "_model_module": "@jupyter-widgets/controls",
            "children": [
              "IPY_MODEL_31c47dc36e7942f7b5521c3283c19c39",
              "IPY_MODEL_564a55631f3b45e7a0f14765138b7278",
              "IPY_MODEL_66e177b1fad342f5974eceabea3a5625"
            ]
          }
        },
        "4edb993259c04e17a0bfd9965d3f22af": {
          "model_module": "@jupyter-widgets/base",
          "model_name": "LayoutModel",
          "model_module_version": "1.2.0",
          "state": {
            "_view_name": "LayoutView",
            "grid_template_rows": null,
            "right": null,
            "justify_content": null,
            "_view_module": "@jupyter-widgets/base",
            "overflow": null,
            "_model_module_version": "1.2.0",
            "_view_count": null,
            "flex_flow": null,
            "width": null,
            "min_width": null,
            "border": null,
            "align_items": null,
            "bottom": null,
            "_model_module": "@jupyter-widgets/base",
            "top": null,
            "grid_column": null,
            "overflow_y": null,
            "overflow_x": null,
            "grid_auto_flow": null,
            "grid_area": null,
            "grid_template_columns": null,
            "flex": null,
            "_model_name": "LayoutModel",
            "justify_items": null,
            "grid_row": null,
            "max_height": null,
            "align_content": null,
            "visibility": null,
            "align_self": null,
            "height": null,
            "min_height": null,
            "padding": null,
            "grid_auto_rows": null,
            "grid_gap": null,
            "max_width": null,
            "order": null,
            "_view_module_version": "1.2.0",
            "grid_template_areas": null,
            "object_position": null,
            "object_fit": null,
            "grid_auto_columns": null,
            "margin": null,
            "display": null,
            "left": null
          }
        },
        "31c47dc36e7942f7b5521c3283c19c39": {
          "model_module": "@jupyter-widgets/controls",
          "model_name": "HTMLModel",
          "model_module_version": "1.5.0",
          "state": {
            "_view_name": "HTMLView",
            "style": "IPY_MODEL_1aade08b20c7453a88997605ded31bea",
            "_dom_classes": [],
            "description": "",
            "_model_name": "HTMLModel",
            "placeholder": "​",
            "_view_module": "@jupyter-widgets/controls",
            "_model_module_version": "1.5.0",
            "value": "100%",
            "_view_count": null,
            "_view_module_version": "1.5.0",
            "description_tooltip": null,
            "_model_module": "@jupyter-widgets/controls",
            "layout": "IPY_MODEL_ad70e25b83e743f4b964b7775adddacc"
          }
        },
        "564a55631f3b45e7a0f14765138b7278": {
          "model_module": "@jupyter-widgets/controls",
          "model_name": "FloatProgressModel",
          "model_module_version": "1.5.0",
          "state": {
            "_view_name": "ProgressView",
            "style": "IPY_MODEL_afad9d6a2a104f7286c7af449f295385",
            "_dom_classes": [],
            "description": "",
            "_model_name": "FloatProgressModel",
            "bar_style": "success",
            "max": 3,
            "_view_module": "@jupyter-widgets/controls",
            "_model_module_version": "1.5.0",
            "value": 3,
            "_view_count": null,
            "_view_module_version": "1.5.0",
            "orientation": "horizontal",
            "min": 0,
            "description_tooltip": null,
            "_model_module": "@jupyter-widgets/controls",
            "layout": "IPY_MODEL_c57c3ca9a430495c83cd82f77cb31178"
          }
        },
        "66e177b1fad342f5974eceabea3a5625": {
          "model_module": "@jupyter-widgets/controls",
          "model_name": "HTMLModel",
          "model_module_version": "1.5.0",
          "state": {
            "_view_name": "HTMLView",
            "style": "IPY_MODEL_359e621fa4e2460ea6cc42757190dc41",
            "_dom_classes": [],
            "description": "",
            "_model_name": "HTMLModel",
            "placeholder": "​",
            "_view_module": "@jupyter-widgets/controls",
            "_model_module_version": "1.5.0",
            "value": " 3/3 [00:00&lt;00:00, 69.03it/s]",
            "_view_count": null,
            "_view_module_version": "1.5.0",
            "description_tooltip": null,
            "_model_module": "@jupyter-widgets/controls",
            "layout": "IPY_MODEL_932eda9557d54423a5cf64bec5748b80"
          }
        },
        "1aade08b20c7453a88997605ded31bea": {
          "model_module": "@jupyter-widgets/controls",
          "model_name": "DescriptionStyleModel",
          "model_module_version": "1.5.0",
          "state": {
            "_view_name": "StyleView",
            "_model_name": "DescriptionStyleModel",
            "description_width": "",
            "_view_module": "@jupyter-widgets/base",
            "_model_module_version": "1.5.0",
            "_view_count": null,
            "_view_module_version": "1.2.0",
            "_model_module": "@jupyter-widgets/controls"
          }
        },
        "ad70e25b83e743f4b964b7775adddacc": {
          "model_module": "@jupyter-widgets/base",
          "model_name": "LayoutModel",
          "model_module_version": "1.2.0",
          "state": {
            "_view_name": "LayoutView",
            "grid_template_rows": null,
            "right": null,
            "justify_content": null,
            "_view_module": "@jupyter-widgets/base",
            "overflow": null,
            "_model_module_version": "1.2.0",
            "_view_count": null,
            "flex_flow": null,
            "width": null,
            "min_width": null,
            "border": null,
            "align_items": null,
            "bottom": null,
            "_model_module": "@jupyter-widgets/base",
            "top": null,
            "grid_column": null,
            "overflow_y": null,
            "overflow_x": null,
            "grid_auto_flow": null,
            "grid_area": null,
            "grid_template_columns": null,
            "flex": null,
            "_model_name": "LayoutModel",
            "justify_items": null,
            "grid_row": null,
            "max_height": null,
            "align_content": null,
            "visibility": null,
            "align_self": null,
            "height": null,
            "min_height": null,
            "padding": null,
            "grid_auto_rows": null,
            "grid_gap": null,
            "max_width": null,
            "order": null,
            "_view_module_version": "1.2.0",
            "grid_template_areas": null,
            "object_position": null,
            "object_fit": null,
            "grid_auto_columns": null,
            "margin": null,
            "display": null,
            "left": null
          }
        },
        "afad9d6a2a104f7286c7af449f295385": {
          "model_module": "@jupyter-widgets/controls",
          "model_name": "ProgressStyleModel",
          "model_module_version": "1.5.0",
          "state": {
            "_view_name": "StyleView",
            "_model_name": "ProgressStyleModel",
            "description_width": "",
            "_view_module": "@jupyter-widgets/base",
            "_model_module_version": "1.5.0",
            "_view_count": null,
            "_view_module_version": "1.2.0",
            "bar_color": null,
            "_model_module": "@jupyter-widgets/controls"
          }
        },
        "c57c3ca9a430495c83cd82f77cb31178": {
          "model_module": "@jupyter-widgets/base",
          "model_name": "LayoutModel",
          "model_module_version": "1.2.0",
          "state": {
            "_view_name": "LayoutView",
            "grid_template_rows": null,
            "right": null,
            "justify_content": null,
            "_view_module": "@jupyter-widgets/base",
            "overflow": null,
            "_model_module_version": "1.2.0",
            "_view_count": null,
            "flex_flow": null,
            "width": null,
            "min_width": null,
            "border": null,
            "align_items": null,
            "bottom": null,
            "_model_module": "@jupyter-widgets/base",
            "top": null,
            "grid_column": null,
            "overflow_y": null,
            "overflow_x": null,
            "grid_auto_flow": null,
            "grid_area": null,
            "grid_template_columns": null,
            "flex": null,
            "_model_name": "LayoutModel",
            "justify_items": null,
            "grid_row": null,
            "max_height": null,
            "align_content": null,
            "visibility": null,
            "align_self": null,
            "height": null,
            "min_height": null,
            "padding": null,
            "grid_auto_rows": null,
            "grid_gap": null,
            "max_width": null,
            "order": null,
            "_view_module_version": "1.2.0",
            "grid_template_areas": null,
            "object_position": null,
            "object_fit": null,
            "grid_auto_columns": null,
            "margin": null,
            "display": null,
            "left": null
          }
        },
        "359e621fa4e2460ea6cc42757190dc41": {
          "model_module": "@jupyter-widgets/controls",
          "model_name": "DescriptionStyleModel",
          "model_module_version": "1.5.0",
          "state": {
            "_view_name": "StyleView",
            "_model_name": "DescriptionStyleModel",
            "description_width": "",
            "_view_module": "@jupyter-widgets/base",
            "_model_module_version": "1.5.0",
            "_view_count": null,
            "_view_module_version": "1.2.0",
            "_model_module": "@jupyter-widgets/controls"
          }
        },
        "932eda9557d54423a5cf64bec5748b80": {
          "model_module": "@jupyter-widgets/base",
          "model_name": "LayoutModel",
          "model_module_version": "1.2.0",
          "state": {
            "_view_name": "LayoutView",
            "grid_template_rows": null,
            "right": null,
            "justify_content": null,
            "_view_module": "@jupyter-widgets/base",
            "overflow": null,
            "_model_module_version": "1.2.0",
            "_view_count": null,
            "flex_flow": null,
            "width": null,
            "min_width": null,
            "border": null,
            "align_items": null,
            "bottom": null,
            "_model_module": "@jupyter-widgets/base",
            "top": null,
            "grid_column": null,
            "overflow_y": null,
            "overflow_x": null,
            "grid_auto_flow": null,
            "grid_area": null,
            "grid_template_columns": null,
            "flex": null,
            "_model_name": "LayoutModel",
            "justify_items": null,
            "grid_row": null,
            "max_height": null,
            "align_content": null,
            "visibility": null,
            "align_self": null,
            "height": null,
            "min_height": null,
            "padding": null,
            "grid_auto_rows": null,
            "grid_gap": null,
            "max_width": null,
            "order": null,
            "_view_module_version": "1.2.0",
            "grid_template_areas": null,
            "object_position": null,
            "object_fit": null,
            "grid_auto_columns": null,
            "margin": null,
            "display": null,
            "left": null
          }
        }
      }
    }
  },
  "cells": [
    {
      "cell_type": "markdown",
      "metadata": {
        "id": "view-in-github",
        "colab_type": "text"
      },
      "source": [
        "<a href=\"https://colab.research.google.com/github/jsalbr/m3nlp/blob/main/Question_Answering.ipynb\" target=\"_parent\"><img src=\"https://colab.research.google.com/assets/colab-badge.svg\" alt=\"Open In Colab\"/></a>"
      ]
    },
    {
      "cell_type": "markdown",
      "metadata": {
        "id": "BiAcHrZPrBpg"
      },
      "source": [
        "# Question Answering"
      ]
    },
    {
      "cell_type": "markdown",
      "metadata": {
        "id": "BJxDfaburBpm"
      },
      "source": [
        "Dieses Notebook sollte mit GPU ausgeführt werden.  \n",
        "Dafür bitte zunächst im Menü \"Laufzeit\"->\"Laufzeittyp ändern\"->\"Hardwarebeschleuniger: GPU\" einstellen.\n",
        "\n",
        "\n",
        "Credits: Das Notebook verwendet Ideen von\n",
        "  * Natural Language Processing with Transformers von Lewis Tunstall, Leandro von Werra, Thomas Wolf, O'Reilly 2021, https://www.oreilly.com/library/view/natural-language-processing/9781098103231/\n",
        "  * Heise Academy NLP-Kurs von Christian Winkler, https://github.com/heiseacademy/nlp-course/tree/main/09_Transfer_Learning\n",
        "  * Haystack Tutorial von deepset.io, https://github.com/deepset-ai/haystack#mortar_board-tutorials"
      ]
    },
    {
      "cell_type": "markdown",
      "metadata": {
        "id": "LHtRDsDqrBpn"
      },
      "source": [
        "### System vorbereiten"
      ]
    },
    {
      "cell_type": "code",
      "metadata": {
        "id": "sYWJh8F7T8ZY"
      },
      "source": [
        "# suppress warnings\n",
        "import warnings;\n",
        "warnings.filterwarnings('ignore');\n"
      ],
      "execution_count": 1,
      "outputs": []
    },
    {
      "cell_type": "code",
      "metadata": {
        "id": "x_wNzmakrBpo",
        "colab": {
          "base_uri": "https://localhost:8080/"
        },
        "outputId": "14b0ce3e-b857-40b6-ba20-cb20c643b9a8"
      },
      "source": [
        "!pip install -q transformers==4.12.3\n",
        "!pip install datasets\n",
        "!pip install -q farm-haystack"
      ],
      "execution_count": 1,
      "outputs": [
        {
          "output_type": "stream",
          "name": "stdout",
          "text": [
            "\u001b[K     |████████████████████████████████| 3.1 MB 5.5 MB/s \n",
            "\u001b[K     |████████████████████████████████| 3.3 MB 35.4 MB/s \n",
            "\u001b[K     |████████████████████████████████| 596 kB 42.3 MB/s \n",
            "\u001b[K     |████████████████████████████████| 59 kB 5.5 MB/s \n",
            "\u001b[K     |████████████████████████████████| 895 kB 37.0 MB/s \n",
            "\u001b[K     |████████████████████████████████| 200 kB 5.4 MB/s \n",
            "\u001b[K     |████████████████████████████████| 402 kB 38.2 MB/s \n",
            "\u001b[K     |████████████████████████████████| 204 kB 41.4 MB/s \n",
            "\u001b[K     |████████████████████████████████| 3.0 MB 33.3 MB/s \n",
            "\u001b[K     |████████████████████████████████| 51.5 MB 25 kB/s \n",
            "\u001b[K     |████████████████████████████████| 50 kB 5.8 MB/s \n",
            "\u001b[K     |████████████████████████████████| 79 kB 7.6 MB/s \n",
            "\u001b[K     |████████████████████████████████| 56 kB 3.8 MB/s \n",
            "\u001b[K     |████████████████████████████████| 8.4 MB 33.5 MB/s \n",
            "\u001b[K     |████████████████████████████████| 100 kB 8.5 MB/s \n",
            "\u001b[K     |████████████████████████████████| 5.6 MB 40.2 MB/s \n",
            "\u001b[K     |████████████████████████████████| 85 kB 3.8 MB/s \n",
            "\u001b[K     |████████████████████████████████| 54 kB 2.6 MB/s \n",
            "\u001b[K     |████████████████████████████████| 351 kB 38.4 MB/s \n",
            "\u001b[K     |████████████████████████████████| 78 kB 6.3 MB/s \n",
            "\u001b[K     |████████████████████████████████| 51 kB 565 kB/s \n",
            "\u001b[K     |████████████████████████████████| 321 kB 42.9 MB/s \n",
            "\u001b[K     |████████████████████████████████| 3.8 MB 30.5 MB/s \n",
            "\u001b[K     |████████████████████████████████| 981 kB 30.2 MB/s \n",
            "\u001b[K     |████████████████████████████████| 3.4 MB 25.5 MB/s \n",
            "\u001b[K     |████████████████████████████████| 56 kB 4.1 MB/s \n",
            "\u001b[K     |████████████████████████████████| 2.2 MB 21.3 MB/s \n",
            "\u001b[K     |████████████████████████████████| 327 kB 46.7 MB/s \n",
            "\u001b[K     |████████████████████████████████| 43 kB 1.8 MB/s \n",
            "\u001b[K     |████████████████████████████████| 2.5 MB 25.4 MB/s \n",
            "\u001b[K     |████████████████████████████████| 804.1 MB 2.6 kB/s \n",
            "\u001b[K     |████████████████████████████████| 1.2 MB 40.0 MB/s \n",
            "\u001b[K     |████████████████████████████████| 131 kB 44.9 MB/s \n",
            "\u001b[K     |████████████████████████████████| 14.1 MB 30 kB/s \n",
            "\u001b[K     |████████████████████████████████| 10.1 MB 41.5 MB/s \n",
            "\u001b[K     |████████████████████████████████| 78 kB 6.0 MB/s \n",
            "\u001b[K     |████████████████████████████████| 69 kB 5.8 MB/s \n",
            "\u001b[K     |████████████████████████████████| 3.2 MB 37.3 MB/s \n",
            "\u001b[K     |████████████████████████████████| 128 kB 44.4 MB/s \n",
            "\u001b[K     |████████████████████████████████| 72 kB 450 kB/s \n",
            "\u001b[K     |████████████████████████████████| 1.1 MB 37.0 MB/s \n",
            "\u001b[K     |████████████████████████████████| 356 kB 40.7 MB/s \n",
            "\u001b[K     |████████████████████████████████| 1.1 MB 39.8 MB/s \n",
            "\u001b[K     |████████████████████████████████| 58 kB 4.9 MB/s \n",
            "\u001b[K     |████████████████████████████████| 180 kB 47.2 MB/s \n",
            "\u001b[K     |████████████████████████████████| 146 kB 42.3 MB/s \n",
            "\u001b[K     |████████████████████████████████| 75 kB 3.8 MB/s \n",
            "\u001b[K     |████████████████████████████████| 3.5 MB 34.9 MB/s \n",
            "\u001b[K     |████████████████████████████████| 85 kB 3.1 MB/s \n",
            "\u001b[K     |████████████████████████████████| 176 kB 38.0 MB/s \n",
            "\u001b[K     |████████████████████████████████| 52 kB 1.3 MB/s \n",
            "\u001b[K     |████████████████████████████████| 63 kB 1.6 MB/s \n",
            "\u001b[K     |████████████████████████████████| 45 kB 3.0 MB/s \n",
            "\u001b[K     |████████████████████████████████| 271 kB 46.9 MB/s \n",
            "\u001b[K     |████████████████████████████████| 192 kB 48.5 MB/s \n",
            "\u001b[K     |████████████████████████████████| 160 kB 44.5 MB/s \n",
            "\u001b[K     |████████████████████████████████| 79 kB 7.1 MB/s \n",
            "\u001b[K     |████████████████████████████████| 8.1 MB 32.5 MB/s \n",
            "\u001b[K     |████████████████████████████████| 127 kB 42.3 MB/s \n",
            "\u001b[K     |████████████████████████████████| 61 kB 232 kB/s \n",
            "\u001b[K     |████████████████████████████████| 78 kB 5.9 MB/s \n",
            "\u001b[K     |████████████████████████████████| 52 kB 1.2 MB/s \n",
            "\u001b[K     |████████████████████████████████| 4.2 MB 37.6 MB/s \n",
            "\u001b[K     |████████████████████████████████| 214 kB 46.6 MB/s \n",
            "\u001b[K     |████████████████████████████████| 2.5 MB 35.1 MB/s \n",
            "\u001b[K     |████████████████████████████████| 407 kB 39.0 MB/s \n",
            "\u001b[K     |████████████████████████████████| 23.3 MB 2.5 MB/s \n",
            "\u001b[K     |████████████████████████████████| 22.1 MB 1.7 MB/s \n",
            "\u001b[K     |████████████████████████████████| 22.1 MB 1.6 MB/s \n",
            "\u001b[K     |████████████████████████████████| 17.4 MB 131 kB/s \n",
            "\u001b[K     |████████████████████████████████| 5.6 MB 36.5 MB/s \n",
            "\u001b[K     |████████████████████████████████| 496 kB 35.3 MB/s \n",
            "\u001b[K     |████████████████████████████████| 54 kB 2.9 MB/s \n",
            "\u001b[?25h  Building wheel for pytesseract (setup.py) ... \u001b[?25l\u001b[?25hdone\n",
            "  Building wheel for alembic (setup.py) ... \u001b[?25l\u001b[?25hdone\n",
            "  Building wheel for databricks-cli (setup.py) ... \u001b[?25l\u001b[?25hdone\n",
            "  Building wheel for sentence-transformers (setup.py) ... \u001b[?25l\u001b[?25hdone\n",
            "  Building wheel for gpustat (setup.py) ... \u001b[?25l\u001b[?25hdone\n",
            "  Building wheel for langdetect (setup.py) ... \u001b[?25l\u001b[?25hdone\n",
            "  Building wheel for python-docx (setup.py) ... \u001b[?25l\u001b[?25hdone\n",
            "  Building wheel for python-multipart (setup.py) ... \u001b[?25l\u001b[?25hdone\n",
            "  Building wheel for seqeval (setup.py) ... \u001b[?25l\u001b[?25hdone\n",
            "  Building wheel for tika (setup.py) ... \u001b[?25l\u001b[?25hdone\n",
            "\u001b[31mERROR: pip's dependency resolver does not currently take into account all the packages that are installed. This behaviour is the source of the following dependency conflicts.\n",
            "torchtext 0.10.0 requires torch==1.9.0, but you have torch 1.8.1 which is incompatible.\n",
            "pytest 3.6.4 requires pluggy<0.8,>=0.5, but you have pluggy 1.0.0 which is incompatible.\n",
            "datascience 0.10.6 requires folium==0.2.1, but you have folium 0.8.3 which is incompatible.\n",
            "albumentations 0.1.12 requires imgaug<0.2.7,>=0.2.5, but you have imgaug 0.2.9 which is incompatible.\u001b[0m\n"
          ]
        }
      ]
    },
    {
      "cell_type": "code",
      "metadata": {
        "colab": {
          "base_uri": "https://localhost:8080/"
        },
        "id": "FQD3jhTVcBVe",
        "outputId": "6d87787f-ece8-427a-e75b-51058cce539b"
      },
      "source": [
        "!wget https://raw.githubusercontent.com/jsalbr/m3nlp/main/question_answering.patch\n",
        "!patch /usr/local/lib/python3.7/dist-packages/transformers/pipelines/question_answering.py -i question_answering.patch"
      ],
      "execution_count": 5,
      "outputs": [
        {
          "output_type": "stream",
          "name": "stdout",
          "text": [
            "--2021-11-07 13:41:39--  https://raw.githubusercontent.com/jsalbr/m3nlp/main/question_answering.patch\n",
            "Resolving raw.githubusercontent.com (raw.githubusercontent.com)... 185.199.110.133, 185.199.109.133, 185.199.111.133, ...\n",
            "Connecting to raw.githubusercontent.com (raw.githubusercontent.com)|185.199.110.133|:443... connected.\n",
            "HTTP request sent, awaiting response... 200 OK\n",
            "Length: 198 [text/plain]\n",
            "Saving to: ‘question_answering.patch’\n",
            "\n",
            "\rquestion_answering.   0%[                    ]       0  --.-KB/s               \rquestion_answering. 100%[===================>]     198  --.-KB/s    in 0s      \n",
            "\n",
            "2021-11-07 13:41:39 (9.17 MB/s) - ‘question_answering.patch’ saved [198/198]\n",
            "\n",
            "patching file /usr/local/lib/python3.7/dist-packages/transformers/pipelines/question_answering.py\n"
          ]
        }
      ]
    },
    {
      "cell_type": "markdown",
      "metadata": {
        "id": "ixsWFe1JKE8Z"
      },
      "source": [
        "## Modell laden\n",
        "\n",
        "Eine Übersicht über die QA-Modelle auf dem HuggingFace Hub gibt's hier:  \n",
        "https://huggingface.co/models?pipeline_tag=question-answering&sort=downloads\n",
        "\n",
        "\n",
        "https://huggingface.co/Sahajtomar/GBERTQnA\n",
        "https://huggingface.co/Sahajtomar/German-question-answer-Electra\n"
      ]
    },
    {
      "cell_type": "code",
      "metadata": {
        "id": "X_NL5XZ8rBpp",
        "colab": {
          "base_uri": "https://localhost:8080/",
          "height": 533,
          "referenced_widgets": [
            "1ca63bc1b2fe454db941c0aee660f41b",
            "10c95142da4c4431be73e9598f9c58c3",
            "908b906097534bec8acf913b0ecce728",
            "44d3810c8bd94c5d8325694044acd1f0",
            "aa4df3ab62ca4ae3b69b090310bd8338",
            "273611c2fc4744c7b652db279403b226",
            "28dc01cc5888498b9f8d6690b3a8e924",
            "9db6a5508d614772adeb1b52843ea783",
            "983283a09a4c4eaf8532a96bebe6995f",
            "36fa2c2af3fb472393b413f929caa233",
            "464004811881407099eac06e052a260a",
            "8f6d8d023fd840d48a93e4d3bbc01e74",
            "96de5d2d7aa3470e96d4afe0984d129f",
            "dda28d1a46b146aaa9780e0ea1136180",
            "9b6f47782b644abe99be322f508d4bee",
            "49a91ade715d4eca92c97e20ad137f95",
            "ea78080c5d824e90aaabcfb4420b4212",
            "81d8e7def9c44724bde3eb6fd5044da8",
            "14295283b7444ff285c67ec158d9b9fc",
            "558f32fa01c94d59b1336f15e104bcbf",
            "d3e67f6a726443a285f6894382c5f945",
            "bec9f167550a41dfb715bfea1b7742e9",
            "f9d9a90973c540f2b581b2fa8d54edbb",
            "7b852cf6602f43c3a135ce3fa6b729ee",
            "a80e5fa049c6431fb6ec2f60290e7455",
            "9e1371ed67d14aca9ac36e8456421e0e",
            "77224501e4834def8f925995e078e3b3",
            "4d1f6226f173465f8c4259d17077fac6",
            "f83843c0820046db8c1a7b8bb26bf2b4",
            "11ab7dde5f6941afa88bc6eab323ca2b",
            "3969a060ce284d8fa117283e25691ba8",
            "9191d4d9acb642efb3c1e0058f54d77a",
            "e67abc4d44d04c9a8b96acf2f4677585",
            "13c2b01e854b43c08afde3ae9de55d3c",
            "3ac8747bb81a42e29045fce732566630",
            "ea48bd30a3204a18956500e26efdb8f2",
            "bbbad407e3cd4a42ad97094174a646aa",
            "713686079d0a4dc29d20ae0ba924a9c1",
            "9c4f638c89214afb81bb629300c4cf8a",
            "67bd51664be341e983653bcbb1edbd4b",
            "f50fb8729d44447a9244fdf84191e641",
            "18e85d6bd8054d64a01ffff97ca82ee8",
            "582af928d68446509deaf760f100eb91",
            "6ab250f0aad24bbdad7231d95149ac01",
            "a8362781c70a41efac397f43d9e95099",
            "1a2a34e76a64486ebeff6b84b63e831b",
            "6e0d6966a6ce48c3ba30a260d5d19f43",
            "c29be0d8e1c648238af6614452fd5da0",
            "651b145cbe1243c79d0f22375a40a118",
            "3b791bbefd8e48be94b73757ae1d9a6b",
            "7f9ca66b860d495d83cad35bee0db808",
            "ff95f77ccb2c498487acfb3ce5997d86",
            "96f9a2b2e5b5469488c60982915dab12",
            "bf02c8bc2a054333aec3690721bbf564",
            "4b3c383506d64dc0994612993b10c490"
          ]
        },
        "outputId": "d154361d-8b28-43b4-b5d8-eb0ddc88fd7d"
      },
      "source": [
        "from transformers import pipeline\n",
        "\n",
        "model = \"Sahajtomar/German-question-answer-Electra\"\n",
        "qa = pipeline(\"question-answering\", model=model, tokenizer=model, device=0)"
      ],
      "execution_count": 52,
      "outputs": [
        {
          "output_type": "stream",
          "name": "stderr",
          "text": [
            "11/07/2021 17:05:53 - DEBUG - filelock -   Attempting to acquire lock 140074151212496 on /root/.cache/huggingface/transformers/359c5665dbb8cf2551665f80f466eeda9633a5e047a2071c576c48c3d342aba2.344acb8d14990a533c123860dd06b1d0b868ed56abe2592f5988569beefde836.lock\n",
            "11/07/2021 17:05:53 - DEBUG - filelock -   Lock 140074151212496 acquired on /root/.cache/huggingface/transformers/359c5665dbb8cf2551665f80f466eeda9633a5e047a2071c576c48c3d342aba2.344acb8d14990a533c123860dd06b1d0b868ed56abe2592f5988569beefde836.lock\n"
          ]
        },
        {
          "output_type": "display_data",
          "data": {
            "application/vnd.jupyter.widget-view+json": {
              "model_id": "1ca63bc1b2fe454db941c0aee660f41b",
              "version_minor": 0,
              "version_major": 2
            },
            "text/plain": [
              "Downloading:   0%|          | 0.00/674 [00:00<?, ?B/s]"
            ]
          },
          "metadata": {}
        },
        {
          "output_type": "stream",
          "name": "stderr",
          "text": [
            "11/07/2021 17:05:53 - DEBUG - filelock -   Attempting to release lock 140074151212496 on /root/.cache/huggingface/transformers/359c5665dbb8cf2551665f80f466eeda9633a5e047a2071c576c48c3d342aba2.344acb8d14990a533c123860dd06b1d0b868ed56abe2592f5988569beefde836.lock\n",
            "11/07/2021 17:05:53 - DEBUG - filelock -   Lock 140074151212496 released on /root/.cache/huggingface/transformers/359c5665dbb8cf2551665f80f466eeda9633a5e047a2071c576c48c3d342aba2.344acb8d14990a533c123860dd06b1d0b868ed56abe2592f5988569beefde836.lock\n",
            "11/07/2021 17:05:53 - DEBUG - filelock -   Attempting to acquire lock 140074151212496 on /root/.cache/huggingface/transformers/220400d01ad7f721a71b70de999c42a5d0e83d51ee7616b6b37241462629af91.e034d46aac8e1c7918ee222812aaf859960064ae38b68da61ec4a3a2d6d060bd.lock\n",
            "11/07/2021 17:05:53 - DEBUG - filelock -   Lock 140074151212496 acquired on /root/.cache/huggingface/transformers/220400d01ad7f721a71b70de999c42a5d0e83d51ee7616b6b37241462629af91.e034d46aac8e1c7918ee222812aaf859960064ae38b68da61ec4a3a2d6d060bd.lock\n"
          ]
        },
        {
          "output_type": "display_data",
          "data": {
            "application/vnd.jupyter.widget-view+json": {
              "model_id": "8f6d8d023fd840d48a93e4d3bbc01e74",
              "version_minor": 0,
              "version_major": 2
            },
            "text/plain": [
              "Downloading:   0%|          | 0.00/1.34G [00:00<?, ?B/s]"
            ]
          },
          "metadata": {}
        },
        {
          "output_type": "stream",
          "name": "stderr",
          "text": [
            "11/07/2021 17:06:56 - DEBUG - filelock -   Attempting to release lock 140074151212496 on /root/.cache/huggingface/transformers/220400d01ad7f721a71b70de999c42a5d0e83d51ee7616b6b37241462629af91.e034d46aac8e1c7918ee222812aaf859960064ae38b68da61ec4a3a2d6d060bd.lock\n",
            "11/07/2021 17:06:56 - DEBUG - filelock -   Lock 140074151212496 released on /root/.cache/huggingface/transformers/220400d01ad7f721a71b70de999c42a5d0e83d51ee7616b6b37241462629af91.e034d46aac8e1c7918ee222812aaf859960064ae38b68da61ec4a3a2d6d060bd.lock\n",
            "11/07/2021 17:07:01 - DEBUG - filelock -   Attempting to acquire lock 140074214986192 on /root/.cache/huggingface/transformers/da8046fc069326930914229074db1aebbc8cca57be2caa523e83b62fa500dc68.4d65bbd3b91f2762e9d2c779d48ab14052439d3fcc8c3d2fe78c7322a9ac8d64.lock\n",
            "11/07/2021 17:07:01 - DEBUG - filelock -   Lock 140074214986192 acquired on /root/.cache/huggingface/transformers/da8046fc069326930914229074db1aebbc8cca57be2caa523e83b62fa500dc68.4d65bbd3b91f2762e9d2c779d48ab14052439d3fcc8c3d2fe78c7322a9ac8d64.lock\n"
          ]
        },
        {
          "output_type": "display_data",
          "data": {
            "application/vnd.jupyter.widget-view+json": {
              "model_id": "f9d9a90973c540f2b581b2fa8d54edbb",
              "version_minor": 0,
              "version_major": 2
            },
            "text/plain": [
              "Downloading:   0%|          | 0.00/240k [00:00<?, ?B/s]"
            ]
          },
          "metadata": {}
        },
        {
          "output_type": "stream",
          "name": "stderr",
          "text": [
            "11/07/2021 17:07:01 - DEBUG - filelock -   Attempting to release lock 140074214986192 on /root/.cache/huggingface/transformers/da8046fc069326930914229074db1aebbc8cca57be2caa523e83b62fa500dc68.4d65bbd3b91f2762e9d2c779d48ab14052439d3fcc8c3d2fe78c7322a9ac8d64.lock\n",
            "11/07/2021 17:07:01 - DEBUG - filelock -   Lock 140074214986192 released on /root/.cache/huggingface/transformers/da8046fc069326930914229074db1aebbc8cca57be2caa523e83b62fa500dc68.4d65bbd3b91f2762e9d2c779d48ab14052439d3fcc8c3d2fe78c7322a9ac8d64.lock\n",
            "11/07/2021 17:07:02 - DEBUG - filelock -   Attempting to acquire lock 140074147345360 on /root/.cache/huggingface/transformers/15887374dca5a89c9347dd00dc888cb306da950972ae1bee00ba3a78dfc89731.dd8bd9bfd3664b530ea4e645105f557769387b3da9f79bdb55ed556bdd80611d.lock\n",
            "11/07/2021 17:07:02 - DEBUG - filelock -   Lock 140074147345360 acquired on /root/.cache/huggingface/transformers/15887374dca5a89c9347dd00dc888cb306da950972ae1bee00ba3a78dfc89731.dd8bd9bfd3664b530ea4e645105f557769387b3da9f79bdb55ed556bdd80611d.lock\n"
          ]
        },
        {
          "output_type": "display_data",
          "data": {
            "application/vnd.jupyter.widget-view+json": {
              "model_id": "13c2b01e854b43c08afde3ae9de55d3c",
              "version_minor": 0,
              "version_major": 2
            },
            "text/plain": [
              "Downloading:   0%|          | 0.00/112 [00:00<?, ?B/s]"
            ]
          },
          "metadata": {}
        },
        {
          "output_type": "stream",
          "name": "stderr",
          "text": [
            "11/07/2021 17:07:02 - DEBUG - filelock -   Attempting to release lock 140074147345360 on /root/.cache/huggingface/transformers/15887374dca5a89c9347dd00dc888cb306da950972ae1bee00ba3a78dfc89731.dd8bd9bfd3664b530ea4e645105f557769387b3da9f79bdb55ed556bdd80611d.lock\n",
            "11/07/2021 17:07:02 - DEBUG - filelock -   Lock 140074147345360 released on /root/.cache/huggingface/transformers/15887374dca5a89c9347dd00dc888cb306da950972ae1bee00ba3a78dfc89731.dd8bd9bfd3664b530ea4e645105f557769387b3da9f79bdb55ed556bdd80611d.lock\n",
            "11/07/2021 17:07:02 - DEBUG - filelock -   Attempting to acquire lock 140074149782800 on /root/.cache/huggingface/transformers/5d931bcf9a3e980e7ce6955afd57e0bf196b2dece65b1cb6318a4dea96bf167d.39191c6b878e708c701c94df554638c0769e546946fb63ddc9917c7e27837d53.lock\n",
            "11/07/2021 17:07:02 - DEBUG - filelock -   Lock 140074149782800 acquired on /root/.cache/huggingface/transformers/5d931bcf9a3e980e7ce6955afd57e0bf196b2dece65b1cb6318a4dea96bf167d.39191c6b878e708c701c94df554638c0769e546946fb63ddc9917c7e27837d53.lock\n"
          ]
        },
        {
          "output_type": "display_data",
          "data": {
            "application/vnd.jupyter.widget-view+json": {
              "model_id": "a8362781c70a41efac397f43d9e95099",
              "version_minor": 0,
              "version_major": 2
            },
            "text/plain": [
              "Downloading:   0%|          | 0.00/355 [00:00<?, ?B/s]"
            ]
          },
          "metadata": {}
        },
        {
          "output_type": "stream",
          "name": "stderr",
          "text": [
            "11/07/2021 17:07:02 - DEBUG - filelock -   Attempting to release lock 140074149782800 on /root/.cache/huggingface/transformers/5d931bcf9a3e980e7ce6955afd57e0bf196b2dece65b1cb6318a4dea96bf167d.39191c6b878e708c701c94df554638c0769e546946fb63ddc9917c7e27837d53.lock\n",
            "11/07/2021 17:07:02 - DEBUG - filelock -   Lock 140074149782800 released on /root/.cache/huggingface/transformers/5d931bcf9a3e980e7ce6955afd57e0bf196b2dece65b1cb6318a4dea96bf167d.39191c6b878e708c701c94df554638c0769e546946fb63ddc9917c7e27837d53.lock\n"
          ]
        }
      ]
    },
    {
      "cell_type": "markdown",
      "metadata": {
        "id": "8goLLPuUrBpq"
      },
      "source": [
        "## Fragen zu Artikel beantworten\n",
        "\n",
        "Beispielartikel: \n",
        "https://www.heise.de/news/Giga-Factory-Berlin-fast-fertig-Erstes-Tesla-Model-Y-noch-dieses-Jahr-6213528.html"
      ]
    },
    {
      "cell_type": "code",
      "metadata": {
        "id": "TXpMJX2QrBpr"
      },
      "source": [
        "context = \"\"\"Giga Factory Berlin fast fertig – Erstes Tesla Model Y noch dieses Jahr\n",
        "\n",
        "Elon Musk hat in knapp zwei Jahren eine riesige Fabrik vor die Tore Berlins gesetzt. \n",
        "Samstag ließ er erstmals Bürger ein. Nicht alle Nachbarn sind begeistert.\n",
        "\n",
        "Der US-Elektroautobauer Tesla will spätestens im Dezember in Deutschland die Produktion \n",
        "für Europa starten. Dies kündigte Firmengründer Elon Musk am Wochenende bei einem Bürgerfest \n",
        "in seinem ersten europäischen Werk bei Berlin an. Kritik von Anwohnern und Umweltschützern \n",
        "an der in nur zwei Jahren konzipierten und errichteten Industrieanlage widersprach er. \n",
        "Ziel sei \"eine wunderschöne Fabrik in Harmonie mit ihrer Umgebung\".\n",
        "\n",
        "Künftig sollen etwa 12.000 Mitarbeiter in Grünheide bis zu 500.000 Elektroautos im Jahr bauen. \n",
        "Dabei will Tesla möglichst viele Teile vor Ort produzieren, um von Zulieferern unabhängig zu sein. \n",
        "Tesla betont vor allem die Bedeutung der eigenen Druckgussanlage und der hochmodernen Lackiererei. \n",
        "Zudem entsteht neben dem Autowerk eine eigene Batteriefabrik.\n",
        "\"\"\""
      ],
      "execution_count": 119,
      "outputs": []
    },
    {
      "cell_type": "markdown",
      "metadata": {
        "id": "_aSpqF20rBps"
      },
      "source": [
        "Jetzt können wir Fragen stellen:"
      ]
    },
    {
      "cell_type": "code",
      "metadata": {
        "colab": {
          "base_uri": "https://localhost:8080/",
          "height": 35
        },
        "id": "SqJyM2-iLu0D",
        "outputId": "23b97339-0c15-4176-85ff-ffc8e1315480"
      },
      "source": [
        "question=\"Wer ist Elon Musk?\"\n",
        "answer = qa(question, context)\n",
        "answer['answer']"
      ],
      "execution_count": 140,
      "outputs": [
        {
          "output_type": "execute_result",
          "data": {
            "application/vnd.google.colaboratory.intrinsic+json": {
              "type": "string"
            },
            "text/plain": [
              "'Firmengründer'"
            ]
          },
          "metadata": {},
          "execution_count": 140
        }
      ]
    },
    {
      "cell_type": "code",
      "metadata": {
        "id": "UBDnwwb7rBps",
        "colab": {
          "base_uri": "https://localhost:8080/",
          "height": 35
        },
        "outputId": "c4c91586-2d94-4e42-8d96-7f53f8da9b94"
      },
      "source": [
        "question=\"Wer ist der Firmengründer?\"\n",
        "answer = qa(question, context)\n",
        "answer['answer']"
      ],
      "execution_count": 141,
      "outputs": [
        {
          "output_type": "execute_result",
          "data": {
            "application/vnd.google.colaboratory.intrinsic+json": {
              "type": "string"
            },
            "text/plain": [
              "'Elon Musk'"
            ]
          },
          "metadata": {},
          "execution_count": 141
        }
      ]
    },
    {
      "cell_type": "code",
      "metadata": {
        "colab": {
          "base_uri": "https://localhost:8080/",
          "height": 35
        },
        "id": "93EgfnUJLu8Y",
        "outputId": "a38b472b-6a61-4c94-b032-be0cfa2d8c4d"
      },
      "source": [
        "question=\"Wer ist gründete Tesla?\"\n",
        "answer = qa(question=question, context=context)\n",
        "answer['answer']"
      ],
      "execution_count": 143,
      "outputs": [
        {
          "output_type": "execute_result",
          "data": {
            "application/vnd.google.colaboratory.intrinsic+json": {
              "type": "string"
            },
            "text/plain": [
              "'Elon Musk'"
            ]
          },
          "metadata": {},
          "execution_count": 143
        }
      ]
    },
    {
      "cell_type": "code",
      "metadata": {
        "colab": {
          "base_uri": "https://localhost:8080/",
          "height": 35
        },
        "id": "3v4227prpDnE",
        "outputId": "bc3b948b-a70f-4391-fbbe-6f05521f666c"
      },
      "source": [
        "question=\"Was ist Tesla?\"\n",
        "answer = qa(question=question, context=context)\n",
        "answer['answer']"
      ],
      "execution_count": 144,
      "outputs": [
        {
          "output_type": "execute_result",
          "data": {
            "application/vnd.google.colaboratory.intrinsic+json": {
              "type": "string"
            },
            "text/plain": [
              "'US-Elektroautobauer'"
            ]
          },
          "metadata": {},
          "execution_count": 144
        }
      ]
    },
    {
      "cell_type": "code",
      "metadata": {
        "colab": {
          "base_uri": "https://localhost:8080/",
          "height": 35
        },
        "id": "jL3KiHSU9gL0",
        "outputId": "94a55961-ac5d-4c60-e46e-c58591c0395d"
      },
      "source": [
        "question=\"Wer ist Tesla?\"\n",
        "answer = qa(question=question, context=context)\n",
        "answer['answer']"
      ],
      "execution_count": 145,
      "outputs": [
        {
          "output_type": "execute_result",
          "data": {
            "application/vnd.google.colaboratory.intrinsic+json": {
              "type": "string"
            },
            "text/plain": [
              "'Elon Musk'"
            ]
          },
          "metadata": {},
          "execution_count": 145
        }
      ]
    },
    {
      "cell_type": "code",
      "metadata": {
        "colab": {
          "base_uri": "https://localhost:8080/",
          "height": 35
        },
        "id": "dVZQd5c9pKZB",
        "outputId": "49a13dc5-cb5f-4c16-ddd9-3864f6785746"
      },
      "source": [
        "question=\"Wer ist VW?\"\n",
        "answer = qa(question=question, context=context)\n",
        "answer['answer']"
      ],
      "execution_count": 146,
      "outputs": [
        {
          "output_type": "execute_result",
          "data": {
            "application/vnd.google.colaboratory.intrinsic+json": {
              "type": "string"
            },
            "text/plain": [
              "'Tesla'"
            ]
          },
          "metadata": {},
          "execution_count": 146
        }
      ]
    },
    {
      "cell_type": "code",
      "metadata": {
        "colab": {
          "base_uri": "https://localhost:8080/",
          "height": 35
        },
        "id": "wGqLoyly91kd",
        "outputId": "65ff4f0c-19c1-4006-e0f2-801a6596005d"
      },
      "source": [
        "question=\"Wer ist Greta Thunberg?\"\n",
        "answer = qa(question=question, context=context)\n",
        "answer['answer']"
      ],
      "execution_count": 154,
      "outputs": [
        {
          "output_type": "execute_result",
          "data": {
            "application/vnd.google.colaboratory.intrinsic+json": {
              "type": "string"
            },
            "text/plain": [
              "'Elon Musk'"
            ]
          },
          "metadata": {},
          "execution_count": 154
        }
      ]
    },
    {
      "cell_type": "code",
      "metadata": {
        "colab": {
          "base_uri": "https://localhost:8080/",
          "height": 35
        },
        "id": "EHXKqOG7-IXx",
        "outputId": "44891428-b92a-42ef-b0bd-d437acac2200"
      },
      "source": [
        "question=\"Wer ist Greta Thunberg?\"\n",
        "answer = qa(question=question, context=context, handle_impossible_answer=True)\n",
        "answer['answer']"
      ],
      "execution_count": 153,
      "outputs": [
        {
          "output_type": "execute_result",
          "data": {
            "application/vnd.google.colaboratory.intrinsic+json": {
              "type": "string"
            },
            "text/plain": [
              "''"
            ]
          },
          "metadata": {},
          "execution_count": 153
        }
      ]
    },
    {
      "cell_type": "code",
      "metadata": {
        "colab": {
          "base_uri": "https://localhost:8080/"
        },
        "id": "DeB44zwKr6MI",
        "outputId": "8e79af50-c7da-482a-986b-bc93428d75cd"
      },
      "source": [
        "question=\"Was will Elon Musk?\"\n",
        "answer = qa(question=question, context=context, handle_impossible_answer=True)\n",
        "answer"
      ],
      "execution_count": 158,
      "outputs": [
        {
          "output_type": "execute_result",
          "data": {
            "text/plain": [
              "{'answer': 'die Produktion \\nfür Europa starten',\n",
              " 'end': 341,\n",
              " 'score': 0.07014939934015274,\n",
              " 'start': 307}"
            ]
          },
          "metadata": {},
          "execution_count": 158
        }
      ]
    },
    {
      "cell_type": "code",
      "metadata": {
        "colab": {
          "base_uri": "https://localhost:8080/",
          "height": 573
        },
        "id": "o1iPUJgbtC_h",
        "outputId": "8065e3f8-e01f-4a39-f6d1-f2f575a6af5e"
      },
      "source": [
        "# question=\"Wieviele?\" #\"Was ist wichtig?\"\n",
        "question=\"Was will Elon Musk?\"\n",
        "answer = qa(question=question, context=context, handle_impossible_answer=True, top_k=5)\n",
        "display_qa(answer, question, context)"
      ],
      "execution_count": 159,
      "outputs": [
        {
          "output_type": "display_data",
          "data": {
            "text/html": [
              "<table><tr><td>Question:</td><td>Was will Elon Musk?</td></tr><tr><td>&nbsp;<td><td> </td></tr><tr><td>Answer:</td><td>die Produktion \n",
              "für Europa starten</td></tr><tr><td>Score:</td><td>0.07014939934015274</td></tr><tr><td>Span:</td><td>307:341</td></tr><tr><td>Snippet:</td><td> Tesla will spätestens im Dezember in Deutschland <span style='color:blue;font-weight:bold'>die Produktion \n",
              "für Europa starten</span>. Dies kündigte Firmengründer Elon Musk am Wochene</td><tr><td>&nbsp;<td><td> </td></tr><tr><td>Answer:</td><td>answer impossible</td></tr><tr><td>Score:</td><td>0.07014939934015274</td></tr><tr><td>Span:</td><td>0:0</td></tr><tr><td>&nbsp;<td><td> </td></tr><tr><td>Answer:</td><td>Produktion \n",
              "für Europa starten</td></tr><tr><td>Score:</td><td>0.023241372779011726</td></tr><tr><td>Span:</td><td>311:341</td></tr><tr><td>Snippet:</td><td>la will spätestens im Dezember in Deutschland die <span style='color:blue;font-weight:bold'>Produktion \n",
              "für Europa starten</span>. Dies kündigte Firmengründer Elon Musk am Wochene</td><tr><td>&nbsp;<td><td> </td></tr><tr><td>Answer:</td><td>spätestens im Dezember in Deutschland die Produktion \n",
              "für Europa starten</td></tr><tr><td>Score:</td><td>0.016275444999337196</td></tr><tr><td>Span:</td><td>269:341</td></tr><tr><td>Snippet:</td><td>d begeistert.\n",
              "\n",
              "Der US-Elektroautobauer Tesla will <span style='color:blue;font-weight:bold'>spätestens im Dezember in Deutschland die Produktion \n",
              "für Europa starten</span>. Dies kündigte Firmengründer Elon Musk am Wochene</td><tr><td>&nbsp;<td><td> </td></tr><tr><td>Answer:</td><td>die Produktion \n",
              "für Europa</td></tr><tr><td>Score:</td><td>0.01602339558303356</td></tr><tr><td>Span:</td><td>307:333</td></tr><tr><td>Snippet:</td><td> Tesla will spätestens im Dezember in Deutschland <span style='color:blue;font-weight:bold'>die Produktion \n",
              "für Europa</span> starten. Dies kündigte Firmengründer Elon Musk am</td><tr><td>&nbsp;<td><td> </td></tr></table><br/>"
            ],
            "text/plain": [
              "<IPython.core.display.HTML object>"
            ]
          },
          "metadata": {}
        }
      ]
    },
    {
      "cell_type": "code",
      "metadata": {
        "colab": {
          "base_uri": "https://localhost:8080/",
          "height": 573
        },
        "id": "NBILyGm7-1ap",
        "outputId": "204b4e95-c78c-429c-a6db-3e7f39f7ed3f"
      },
      "source": [
        "question=\"Was ist wichtig?\"\n",
        "answer = qa(question=question, context=context, handle_impossible_answer=True, top_k=5)\n",
        "display_qa(answer, question, context)"
      ],
      "execution_count": 160,
      "outputs": [
        {
          "output_type": "display_data",
          "data": {
            "text/html": [
              "<table><tr><td>Question:</td><td>Was ist wichtig?</td></tr><tr><td>&nbsp;<td><td> </td></tr><tr><td>Answer:</td><td>eigenen Druckgussanlage und der hochmodernen Lackiererei</td></tr><tr><td>Score:</td><td>0.27098140120506287</td></tr><tr><td>Span:</td><td>903:959</td></tr><tr><td>Snippet:</td><td>u sein. \n",
              "Tesla betont vor allem die Bedeutung der <span style='color:blue;font-weight:bold'>eigenen Druckgussanlage und der hochmodernen Lackiererei</span>. \n",
              "Zudem entsteht neben dem Autowerk eine eigene B</td><tr><td>&nbsp;<td><td> </td></tr><tr><td>Answer:</td><td>answer impossible</td></tr><tr><td>Score:</td><td>0.27098140120506287</td></tr><tr><td>Span:</td><td>0:0</td></tr><tr><td>&nbsp;<td><td> </td></tr><tr><td>Answer:</td><td>Druckgussanlage und der hochmodernen Lackiererei</td></tr><tr><td>Score:</td><td>0.18363720178604126</td></tr><tr><td>Span:</td><td>911:959</td></tr><tr><td>Snippet:</td><td>\n",
              "Tesla betont vor allem die Bedeutung der eigenen <span style='color:blue;font-weight:bold'>Druckgussanlage und der hochmodernen Lackiererei</span>. \n",
              "Zudem entsteht neben dem Autowerk eine eigene B</td><tr><td>&nbsp;<td><td> </td></tr><tr><td>Answer:</td><td>eigenen Druckgussanlage</td></tr><tr><td>Score:</td><td>0.1721230149269104</td></tr><tr><td>Span:</td><td>903:926</td></tr><tr><td>Snippet:</td><td>u sein. \n",
              "Tesla betont vor allem die Bedeutung der <span style='color:blue;font-weight:bold'>eigenen Druckgussanlage</span> und der hochmodernen Lackiererei. \n",
              "Zudem entsteht</td><tr><td>&nbsp;<td><td> </td></tr><tr><td>Answer:</td><td>Druckgussanlage</td></tr><tr><td>Score:</td><td>0.11664338409900665</td></tr><tr><td>Span:</td><td>911:926</td></tr><tr><td>Snippet:</td><td>\n",
              "Tesla betont vor allem die Bedeutung der eigenen <span style='color:blue;font-weight:bold'>Druckgussanlage</span> und der hochmodernen Lackiererei. \n",
              "Zudem entsteht</td><tr><td>&nbsp;<td><td> </td></tr></table><br/>"
            ],
            "text/plain": [
              "<IPython.core.display.HTML object>"
            ]
          },
          "metadata": {}
        }
      ]
    },
    {
      "cell_type": "code",
      "metadata": {
        "colab": {
          "base_uri": "https://localhost:8080/",
          "height": 573
        },
        "id": "Eif5tAyrMdwH",
        "outputId": "e323d47f-db11-45be-b06e-182c0a3866c9"
      },
      "source": [
        "from IPython.display import display, HTML\n",
        "\n",
        "def display_qa(answers, question='', context='', padding=50):\n",
        "  if type(answers) != list:\n",
        "    answers = [answers]\n",
        "  html = \"<table>\"\n",
        "  if len(question) > 0: \n",
        "      html += f\"<tr><td>Question:</td><td><span style='font-weight:bold'>{question}</span></td></tr>\"\n",
        "      html += f\"<tr><td>&nbsp;<td><td> </td></tr>\"\n",
        "  for a in answers:\n",
        "    if len(a['answer']) > 0:\n",
        "      html += f\"<tr><td>Answer:</td><td><span style='font-weight:bold'>{a['answer']}</span></td></tr>\"\n",
        "    else:\n",
        "      html += f\"<tr><td>Answer:</td><td>answer impossible</td></tr>\"\n",
        "    html += f\"<tr><td>Score:</td><td>{a['score']}</td></tr>\"\n",
        "    html += f\"<tr><td>Span:</td><td>{a['start']}:{a['end']}</td></tr>\"\n",
        "    if len(a['answer']) > 0 and len(context) > 0:\n",
        "      left = max(0, a['start']-padding)\n",
        "      right = min(a['end']+padding, len(context))\n",
        "      html += \"<tr><td>Snippet:</td><td>\"\n",
        "      html += f\"{context[left:a['start']]}<span style='color:blue;font-weight:bold'>\"\n",
        "      html += context[a['start']:a['end']]\n",
        "      html += f\"</span>{context[a['end']:right]}</td>\"\n",
        "    html += f\"<tr><td>&nbsp;<td><td> </td></tr>\"\n",
        "  html += '</table><br/>'\n",
        "  display(HTML(html))\n",
        "\n",
        "display_qa(answer, question, context)"
      ],
      "execution_count": 164,
      "outputs": [
        {
          "output_type": "display_data",
          "data": {
            "text/html": [
              "<table><tr><td>Question:</td><td><span style='font-weight:bold'>Was ist wichtig?</span></td></tr><tr><td>&nbsp;<td><td> </td></tr><tr><td>Answer:</td><td><span style='font-weight:bold'>eigenen Druckgussanlage und der hochmodernen Lackiererei</span></td></tr><tr><td>Score:</td><td>0.27098140120506287</td></tr><tr><td>Span:</td><td>903:959</td></tr><tr><td>Snippet:</td><td>u sein. \n",
              "Tesla betont vor allem die Bedeutung der <span style='color:blue;font-weight:bold'>eigenen Druckgussanlage und der hochmodernen Lackiererei</span>. \n",
              "Zudem entsteht neben dem Autowerk eine eigene B</td><tr><td>&nbsp;<td><td> </td></tr><tr><td>Answer:</td><td>answer impossible</td></tr><tr><td>Score:</td><td>0.27098140120506287</td></tr><tr><td>Span:</td><td>0:0</td></tr><tr><td>&nbsp;<td><td> </td></tr><tr><td>Answer:</td><td><span style='font-weight:bold'>Druckgussanlage und der hochmodernen Lackiererei</span></td></tr><tr><td>Score:</td><td>0.18363720178604126</td></tr><tr><td>Span:</td><td>911:959</td></tr><tr><td>Snippet:</td><td>\n",
              "Tesla betont vor allem die Bedeutung der eigenen <span style='color:blue;font-weight:bold'>Druckgussanlage und der hochmodernen Lackiererei</span>. \n",
              "Zudem entsteht neben dem Autowerk eine eigene B</td><tr><td>&nbsp;<td><td> </td></tr><tr><td>Answer:</td><td><span style='font-weight:bold'>eigenen Druckgussanlage</span></td></tr><tr><td>Score:</td><td>0.1721230149269104</td></tr><tr><td>Span:</td><td>903:926</td></tr><tr><td>Snippet:</td><td>u sein. \n",
              "Tesla betont vor allem die Bedeutung der <span style='color:blue;font-weight:bold'>eigenen Druckgussanlage</span> und der hochmodernen Lackiererei. \n",
              "Zudem entsteht</td><tr><td>&nbsp;<td><td> </td></tr><tr><td>Answer:</td><td><span style='font-weight:bold'>Druckgussanlage</span></td></tr><tr><td>Score:</td><td>0.11664338409900665</td></tr><tr><td>Span:</td><td>911:926</td></tr><tr><td>Snippet:</td><td>\n",
              "Tesla betont vor allem die Bedeutung der eigenen <span style='color:blue;font-weight:bold'>Druckgussanlage</span> und der hochmodernen Lackiererei. \n",
              "Zudem entsteht</td><tr><td>&nbsp;<td><td> </td></tr></table><br/>"
            ],
            "text/plain": [
              "<IPython.core.display.HTML object>"
            ]
          },
          "metadata": {}
        }
      ]
    },
    {
      "cell_type": "markdown",
      "metadata": {
        "id": "QLpj6VOurBpu"
      },
      "source": [
        "## Fragen zu Wikipedia beantworten"
      ]
    },
    {
      "cell_type": "markdown",
      "metadata": {
        "id": "xAW_JrCHrBpu"
      },
      "source": [
        "Steige nun in den nächsten Level ein und nutze einen komplizierteren Text, nämlich einen Wikipedia Artikel über [Die Simpsons](https://de.wikipedia.org/wiki/Die_Simpsons)."
      ]
    },
    {
      "cell_type": "code",
      "metadata": {
        "id": "pQXT98s5rBpu",
        "colab": {
          "base_uri": "https://localhost:8080/"
        },
        "outputId": "62a59ea8-2a35-4c2c-d732-2a41d384d5e1"
      },
      "source": [
        "!pip install readability-lxml"
      ],
      "execution_count": 70,
      "outputs": [
        {
          "output_type": "stream",
          "name": "stdout",
          "text": [
            "Collecting readability-lxml\n",
            "  Downloading readability_lxml-0.8.1-py3-none-any.whl (20 kB)\n",
            "Requirement already satisfied: lxml in /usr/local/lib/python3.7/dist-packages (from readability-lxml) (4.2.6)\n",
            "Requirement already satisfied: chardet in /usr/local/lib/python3.7/dist-packages (from readability-lxml) (3.0.4)\n",
            "Collecting cssselect\n",
            "  Downloading cssselect-1.1.0-py2.py3-none-any.whl (16 kB)\n",
            "Installing collected packages: cssselect, readability-lxml\n",
            "Successfully installed cssselect-1.1.0 readability-lxml-0.8.1\n"
          ]
        }
      ]
    },
    {
      "cell_type": "code",
      "metadata": {
        "id": "vR6FIQHmrBpu",
        "colab": {
          "base_uri": "https://localhost:8080/"
        },
        "outputId": "b71d2f89-6c78-43fe-92ac-1fea627535a9"
      },
      "source": [
        "from readability import Document\n",
        "import requests\n",
        "from bs4 import BeautifulSoup\n",
        "doc = Document(requests.get(\"https://de.wikipedia.org/wiki/Game_of_Thrones\", stream=True).text)\n",
        "soup = BeautifulSoup(doc.summary())            \n",
        "context = soup.text\n",
        "len(context)"
      ],
      "execution_count": 166,
      "outputs": [
        {
          "output_type": "execute_result",
          "data": {
            "text/plain": [
              "99932"
            ]
          },
          "metadata": {},
          "execution_count": 166
        }
      ]
    },
    {
      "cell_type": "markdown",
      "metadata": {
        "id": "ZYBd7bUKrBpv"
      },
      "source": [
        "Das sind ca. 80kB!"
      ]
    },
    {
      "cell_type": "code",
      "metadata": {
        "colab": {
          "base_uri": "https://localhost:8080/",
          "height": 181
        },
        "id": "4y80FzBM3ahg",
        "outputId": "eae2d5f0-d235-4624-dcf8-0a38a324c074"
      },
      "source": [
        "question=\"Wer sind die Geschwister von Arya?\"\n",
        "answer = qa(question=question, context=context)\n",
        "display_qa(answer, question, context)"
      ],
      "execution_count": 169,
      "outputs": [
        {
          "output_type": "display_data",
          "data": {
            "text/html": [
              "<table><tr><td>Question:</td><td><span style='font-weight:bold'>Wer sind die Geschwister von Arya?</span></td></tr><tr><td>&nbsp;<td><td> </td></tr><tr><td>Answer:</td><td><span style='font-weight:bold'>Sansa, Jon und Bran</span></td></tr><tr><td>Score:</td><td>0.9651897549629211</td></tr><tr><td>Span:</td><td>39136:39155</td></tr><tr><td>Snippet:</td><td>andei, vor. Arya setzt die Segel, nachdem sie vor <span style='color:blue;font-weight:bold'>Sansa, Jon und Bran</span> angekündigt hat, die Welt westlich von Westeros z</td><tr><td>&nbsp;<td><td> </td></tr></table><br/>"
            ],
            "text/plain": [
              "<IPython.core.display.HTML object>"
            ]
          },
          "metadata": {}
        }
      ]
    },
    {
      "cell_type": "code",
      "metadata": {
        "colab": {
          "base_uri": "https://localhost:8080/",
          "height": 181
        },
        "id": "dohqqYhSBVPy",
        "outputId": "03902c00-57c3-438e-e33b-60324b504c97"
      },
      "source": [
        "question=\"Wen heiratet Tyrion?\"\n",
        "answer = qa(question=question, context=context)\n",
        "display_qa(answer, question, context)"
      ],
      "execution_count": 177,
      "outputs": [
        {
          "output_type": "display_data",
          "data": {
            "text/html": [
              "<table><tr><td>Question:</td><td><span style='font-weight:bold'>Wen heiratet Tyrion?</span></td></tr><tr><td>&nbsp;<td><td> </td></tr><tr><td>Answer:</td><td><span style='font-weight:bold'>Sansa Stark</span></td></tr><tr><td>Score:</td><td>0.9884737133979797</td></tr><tr><td>Span:</td><td>16156:16167</td></tr><tr><td>Snippet:</td><td>al Casterly Rock) anzutreten. Tyrion wird nun mit <span style='color:blue;font-weight:bold'>Sansa Stark</span> verheiratet, die von den Nachrichten über die bru</td><tr><td>&nbsp;<td><td> </td></tr></table><br/>"
            ],
            "text/plain": [
              "<IPython.core.display.HTML object>"
            ]
          },
          "metadata": {}
        }
      ]
    },
    {
      "cell_type": "code",
      "metadata": {
        "id": "d-VVEdslrBpv",
        "colab": {
          "base_uri": "https://localhost:8080/",
          "height": 181
        },
        "outputId": "a5ccca4e-baac-4224-f5f1-e7c5f1447b2d"
      },
      "source": [
        "question=\"Wer ist Tyrion Lennister?\"\n",
        "answer = qa(question=question, context=context) #, top_k=5)\n",
        "display_qa(answer, question, context)"
      ],
      "execution_count": 176,
      "outputs": [
        {
          "output_type": "display_data",
          "data": {
            "text/html": [
              "<table><tr><td>Question:</td><td><span style='font-weight:bold'>Wer ist Tyrion Lennister?</span></td></tr><tr><td>&nbsp;<td><td> </td></tr><tr><td>Answer:</td><td><span style='font-weight:bold'>Peter Dinklage</span></td></tr><tr><td>Score:</td><td>0.9860454201698303</td></tr><tr><td>Span:</td><td>59797:59811</td></tr><tr><td>Snippet:</td><td>ch und irisch. Am 5. Mai 2009 wurde bekannt, dass <span style='color:blue;font-weight:bold'>Peter Dinklage</span> für die Rolle des Tyrion Lennister in der Serie u</td><tr><td>&nbsp;<td><td> </td></tr></table><br/>"
            ],
            "text/plain": [
              "<IPython.core.display.HTML object>"
            ]
          },
          "metadata": {}
        }
      ]
    },
    {
      "cell_type": "code",
      "metadata": {
        "colab": {
          "base_uri": "https://localhost:8080/",
          "height": 594
        },
        "id": "i21fgE6A4i5_",
        "outputId": "46e02448-5017-4bb6-f638-1c9ec767b09e"
      },
      "source": [
        "question=\"Wann stirbt Eddard Stark?\"\n",
        "answer = qa(question=question, context=context, top_k=5, handle_impossible_answers=True)\n",
        "display_qa(answer, question, context)"
      ],
      "execution_count": 173,
      "outputs": [
        {
          "output_type": "display_data",
          "data": {
            "text/html": [
              "<table><tr><td>Question:</td><td><span style='font-weight:bold'>Wann stirbt Eddard Stark?</span></td></tr><tr><td>&nbsp;<td><td> </td></tr><tr><td>Answer:</td><td><span style='font-weight:bold'>Dezember 2011</span></td></tr><tr><td>Score:</td><td>0.6822364926338196</td></tr><tr><td>Span:</td><td>90460:90473</td></tr><tr><td>Snippet:</td><td>ert vom Original am 9. Mai 2009; abgerufen am 12. <span style='color:blue;font-weight:bold'>Dezember 2011</span> (englisch): „Director McCarthy, actor Dinklage in</td><tr><td>&nbsp;<td><td> </td></tr><tr><td>Answer:</td><td><span style='font-weight:bold'>Königsmund</span></td></tr><tr><td>Score:</td><td>0.6105515956878662</td></tr><tr><td>Span:</td><td>9471:9481</td></tr><tr><td>Snippet:</td><td>en hat sich nach der Hinrichtung Eddard Starks in <span style='color:blue;font-weight:bold'>Königsmund</span> unter Robb Stark, Eddards Sohn und dem König des </td><tr><td>&nbsp;<td><td> </td></tr><tr><td>Answer:</td><td><span style='font-weight:bold'>1. April 2013</span></td></tr><tr><td>Score:</td><td>0.29762136936187744</td></tr><tr><td>Span:</td><td>93806:93819</td></tr><tr><td>Snippet:</td><td> season 3 premiere ratings break records, EW.com (<span style='color:blue;font-weight:bold'>1. April 2013</span>)\n",
              "\n",
              "↑ Sara Bibel: HBO Confirms Premiere Dates for ‘</td><tr><td>&nbsp;<td><td> </td></tr><tr><td>Answer:</td><td><span style='font-weight:bold'>König Robert Baratheon</span></td></tr><tr><td>Score:</td><td>0.2929563522338867</td></tr><tr><td>Span:</td><td>7105:7127</td></tr><tr><td>Snippet:</td><td>gen Adelsfamilien Stark, Lennister und Baratheon. <span style='color:blue;font-weight:bold'>König Robert Baratheon</span> fragt seinen alten Freund Eddard Stark, ob dieser</td><tr><td>&nbsp;<td><td> </td></tr><tr><td>Answer:</td><td><span style='font-weight:bold'>19. Juli 2009</span></td></tr><tr><td>Score:</td><td>0.27247658371925354</td></tr><tr><td>Span:</td><td>60229:60242</td></tr><tr><td>Snippet:</td><td>n Jennifer Ehle dargestellt werden würde.[36] \n",
              "Am <span style='color:blue;font-weight:bold'>19. Juli 2009</span> wurden eine Reihe von Besetzungsentscheidungen ge</td><tr><td>&nbsp;<td><td> </td></tr></table><br/>"
            ],
            "text/plain": [
              "<IPython.core.display.HTML object>"
            ]
          },
          "metadata": {}
        }
      ]
    },
    {
      "cell_type": "code",
      "metadata": {
        "colab": {
          "base_uri": "https://localhost:8080/",
          "height": 594
        },
        "id": "VJja_3Jz5mvL",
        "outputId": "6841846e-4043-4163-dced-b9c71feac5fb"
      },
      "source": [
        "question=\"Wo stirbt Eddard Stark?\"\n",
        "answer = qa(question=question, context=context, top_k=5, handle_impossible_answers=True)\n",
        "display_qa(answer, question, context)"
      ],
      "execution_count": 117,
      "outputs": [
        {
          "output_type": "display_data",
          "data": {
            "text/html": [
              "<table><tr><td>Question:</td><td>Wo stirbt Eddard Stark?</td></tr><tr><td>&nbsp;<td><td> </td></tr><tr><td>Answer:</td><td>in Königsmund</td></tr><tr><td>Score:</td><td>0.9477806091308594</td></tr><tr><td>Span:</td><td>9468:9481</td></tr><tr><td>Snippet:</td><td>orden hat sich nach der Hinrichtung Eddard Starks <span style='color:blue;font-weight:bold'>in Königsmund</span> unter Robb Stark, Eddards Sohn und dem König des </td><tr><td>&nbsp;<td><td> </td></tr><tr><td>Answer:</td><td>in Königsmund</td></tr><tr><td>Score:</td><td>0.9302961230278015</td></tr><tr><td>Span:</td><td>9468:9481</td></tr><tr><td>Snippet:</td><td>orden hat sich nach der Hinrichtung Eddard Starks <span style='color:blue;font-weight:bold'>in Königsmund</span> unter Robb Stark, Eddards Sohn und dem König des </td><tr><td>&nbsp;<td><td> </td></tr><tr><td>Answer:</td><td>vor den Toren von Winterfell</td></tr><tr><td>Score:</td><td>0.5061019659042358</td></tr><tr><td>Span:</td><td>34197:34225</td></tr><tr><td>Snippet:</td><td>r magisches Halsband ab, altert rapide und stirbt <span style='color:blue;font-weight:bold'>vor den Toren von Winterfell</span>.\n",
              "Im Anschluss an die Feierlichkeiten nach der gew</td><tr><td>&nbsp;<td><td> </td></tr><tr><td>Answer:</td><td>in Harrenhal</td></tr><tr><td>Score:</td><td>0.4206433594226837</td></tr><tr><td>Span:</td><td>73465:73477</td></tr><tr><td>Snippet:</td><td>Szenen (so die mit Tywin Lennister und Arya Stark <span style='color:blue;font-weight:bold'>in Harrenhal</span>). In der dritten Staffel wird die erste Hälfte vo</td><tr><td>&nbsp;<td><td> </td></tr><tr><td>Answer:</td><td>Harrenhal</td></tr><tr><td>Score:</td><td>0.21664822101593018</td></tr><tr><td>Span:</td><td>73468:73477</td></tr><tr><td>Snippet:</td><td>nen (so die mit Tywin Lennister und Arya Stark in <span style='color:blue;font-weight:bold'>Harrenhal</span>). In der dritten Staffel wird die erste Hälfte vo</td><tr><td>&nbsp;<td><td> </td></tr></table><br/>"
            ],
            "text/plain": [
              "<IPython.core.display.HTML object>"
            ]
          },
          "metadata": {}
        }
      ]
    },
    {
      "cell_type": "markdown",
      "metadata": {
        "id": "UG5eCuI8rBpx"
      },
      "source": [
        "## Retriever-Reader mit Haystack\n",
        "\n"
      ]
    },
    {
      "cell_type": "code",
      "metadata": {
        "colab": {
          "base_uri": "https://localhost:8080/"
        },
        "id": "sMLVOeAgE4dj",
        "outputId": "2ec2ea8f-3850-431c-fc84-cdbe1d608be5"
      },
      "source": [
        "!pip install datasets"
      ],
      "execution_count": 2,
      "outputs": [
        {
          "output_type": "stream",
          "name": "stdout",
          "text": [
            "Collecting datasets\n",
            "  Downloading datasets-1.15.1-py3-none-any.whl (290 kB)\n",
            "\u001b[?25l\r\u001b[K     |█▏                              | 10 kB 19.6 MB/s eta 0:00:01\r\u001b[K     |██▎                             | 20 kB 21.5 MB/s eta 0:00:01\r\u001b[K     |███▍                            | 30 kB 11.0 MB/s eta 0:00:01\r\u001b[K     |████▌                           | 40 kB 8.7 MB/s eta 0:00:01\r\u001b[K     |█████▋                          | 51 kB 5.3 MB/s eta 0:00:01\r\u001b[K     |██████▊                         | 61 kB 5.5 MB/s eta 0:00:01\r\u001b[K     |████████                        | 71 kB 6.0 MB/s eta 0:00:01\r\u001b[K     |█████████                       | 81 kB 6.7 MB/s eta 0:00:01\r\u001b[K     |██████████▏                     | 92 kB 6.3 MB/s eta 0:00:01\r\u001b[K     |███████████▎                    | 102 kB 5.5 MB/s eta 0:00:01\r\u001b[K     |████████████▍                   | 112 kB 5.5 MB/s eta 0:00:01\r\u001b[K     |█████████████▌                  | 122 kB 5.5 MB/s eta 0:00:01\r\u001b[K     |██████████████▋                 | 133 kB 5.5 MB/s eta 0:00:01\r\u001b[K     |███████████████▉                | 143 kB 5.5 MB/s eta 0:00:01\r\u001b[K     |█████████████████               | 153 kB 5.5 MB/s eta 0:00:01\r\u001b[K     |██████████████████              | 163 kB 5.5 MB/s eta 0:00:01\r\u001b[K     |███████████████████▏            | 174 kB 5.5 MB/s eta 0:00:01\r\u001b[K     |████████████████████▎           | 184 kB 5.5 MB/s eta 0:00:01\r\u001b[K     |█████████████████████▍          | 194 kB 5.5 MB/s eta 0:00:01\r\u001b[K     |██████████████████████▌         | 204 kB 5.5 MB/s eta 0:00:01\r\u001b[K     |███████████████████████▊        | 215 kB 5.5 MB/s eta 0:00:01\r\u001b[K     |████████████████████████▉       | 225 kB 5.5 MB/s eta 0:00:01\r\u001b[K     |██████████████████████████      | 235 kB 5.5 MB/s eta 0:00:01\r\u001b[K     |███████████████████████████     | 245 kB 5.5 MB/s eta 0:00:01\r\u001b[K     |████████████████████████████▏   | 256 kB 5.5 MB/s eta 0:00:01\r\u001b[K     |█████████████████████████████▎  | 266 kB 5.5 MB/s eta 0:00:01\r\u001b[K     |██████████████████████████████▍ | 276 kB 5.5 MB/s eta 0:00:01\r\u001b[K     |███████████████████████████████▋| 286 kB 5.5 MB/s eta 0:00:01\r\u001b[K     |████████████████████████████████| 290 kB 5.5 MB/s \n",
            "\u001b[?25hRequirement already satisfied: pyarrow!=4.0.0,>=1.0.0 in /usr/local/lib/python3.7/dist-packages (from datasets) (3.0.0)\n",
            "Requirement already satisfied: pandas in /usr/local/lib/python3.7/dist-packages (from datasets) (1.1.5)\n",
            "Requirement already satisfied: multiprocess in /usr/local/lib/python3.7/dist-packages (from datasets) (0.70.12.2)\n",
            "Requirement already satisfied: packaging in /usr/local/lib/python3.7/dist-packages (from datasets) (21.0)\n",
            "Requirement already satisfied: numpy>=1.17 in /usr/local/lib/python3.7/dist-packages (from datasets) (1.19.5)\n",
            "Requirement already satisfied: dill in /usr/local/lib/python3.7/dist-packages (from datasets) (0.3.4)\n",
            "Requirement already satisfied: importlib-metadata in /usr/local/lib/python3.7/dist-packages (from datasets) (4.8.1)\n",
            "Requirement already satisfied: requests>=2.19.0 in /usr/local/lib/python3.7/dist-packages (from datasets) (2.23.0)\n",
            "Requirement already satisfied: aiohttp in /usr/local/lib/python3.7/dist-packages (from datasets) (3.8.0)\n",
            "Collecting huggingface-hub<1.0.0,>=0.1.0\n",
            "  Using cached huggingface_hub-0.1.1-py3-none-any.whl (59 kB)\n",
            "Collecting fsspec[http]>=2021.05.0\n",
            "  Downloading fsspec-2021.11.0-py3-none-any.whl (132 kB)\n",
            "\u001b[K     |████████████████████████████████| 132 kB 49.6 MB/s \n",
            "\u001b[?25hCollecting xxhash\n",
            "  Downloading xxhash-2.0.2-cp37-cp37m-manylinux2010_x86_64.whl (243 kB)\n",
            "\u001b[K     |████████████████████████████████| 243 kB 39.7 MB/s \n",
            "\u001b[?25hRequirement already satisfied: tqdm>=4.62.1 in /usr/local/lib/python3.7/dist-packages (from datasets) (4.62.3)\n",
            "Requirement already satisfied: filelock in /usr/local/lib/python3.7/dist-packages (from huggingface-hub<1.0.0,>=0.1.0->datasets) (3.3.0)\n",
            "Requirement already satisfied: pyyaml in /usr/local/lib/python3.7/dist-packages (from huggingface-hub<1.0.0,>=0.1.0->datasets) (6.0)\n",
            "Requirement already satisfied: typing-extensions>=3.7.4.3 in /usr/local/lib/python3.7/dist-packages (from huggingface-hub<1.0.0,>=0.1.0->datasets) (3.7.4.3)\n",
            "Requirement already satisfied: pyparsing>=2.0.2 in /usr/local/lib/python3.7/dist-packages (from packaging->datasets) (2.4.7)\n",
            "Requirement already satisfied: chardet<4,>=3.0.2 in /usr/local/lib/python3.7/dist-packages (from requests>=2.19.0->datasets) (3.0.4)\n",
            "Requirement already satisfied: urllib3!=1.25.0,!=1.25.1,<1.26,>=1.21.1 in /usr/local/lib/python3.7/dist-packages (from requests>=2.19.0->datasets) (1.25.11)\n",
            "Requirement already satisfied: idna<3,>=2.5 in /usr/local/lib/python3.7/dist-packages (from requests>=2.19.0->datasets) (2.10)\n",
            "Requirement already satisfied: certifi>=2017.4.17 in /usr/local/lib/python3.7/dist-packages (from requests>=2.19.0->datasets) (2021.5.30)\n",
            "Requirement already satisfied: attrs>=17.3.0 in /usr/local/lib/python3.7/dist-packages (from aiohttp->datasets) (21.2.0)\n",
            "Requirement already satisfied: multidict<7.0,>=4.5 in /usr/local/lib/python3.7/dist-packages (from aiohttp->datasets) (5.2.0)\n",
            "Requirement already satisfied: charset-normalizer<3.0,>=2.0 in /usr/local/lib/python3.7/dist-packages (from aiohttp->datasets) (2.0.7)\n",
            "Requirement already satisfied: aiosignal>=1.1.2 in /usr/local/lib/python3.7/dist-packages (from aiohttp->datasets) (1.2.0)\n",
            "Requirement already satisfied: frozenlist>=1.1.1 in /usr/local/lib/python3.7/dist-packages (from aiohttp->datasets) (1.2.0)\n",
            "Requirement already satisfied: async-timeout<5.0,>=4.0.0a3 in /usr/local/lib/python3.7/dist-packages (from aiohttp->datasets) (4.0.0)\n",
            "Requirement already satisfied: yarl<2.0,>=1.0 in /usr/local/lib/python3.7/dist-packages (from aiohttp->datasets) (1.7.2)\n",
            "Requirement already satisfied: asynctest==0.13.0 in /usr/local/lib/python3.7/dist-packages (from aiohttp->datasets) (0.13.0)\n",
            "Requirement already satisfied: zipp>=0.5 in /usr/local/lib/python3.7/dist-packages (from importlib-metadata->datasets) (3.6.0)\n",
            "Requirement already satisfied: pytz>=2017.2 in /usr/local/lib/python3.7/dist-packages (from pandas->datasets) (2018.9)\n",
            "Requirement already satisfied: python-dateutil>=2.7.3 in /usr/local/lib/python3.7/dist-packages (from pandas->datasets) (2.8.2)\n",
            "Requirement already satisfied: six>=1.5 in /usr/local/lib/python3.7/dist-packages (from python-dateutil>=2.7.3->pandas->datasets) (1.15.0)\n",
            "Installing collected packages: fsspec, xxhash, huggingface-hub, datasets\n",
            "  Attempting uninstall: huggingface-hub\n",
            "    Found existing installation: huggingface-hub 0.0.8\n",
            "    Uninstalling huggingface-hub-0.0.8:\n",
            "      Successfully uninstalled huggingface-hub-0.0.8\n",
            "\u001b[31mERROR: pip's dependency resolver does not currently take into account all the packages that are installed. This behaviour is the source of the following dependency conflicts.\n",
            "transformers 4.6.1 requires huggingface-hub==0.0.8, but you have huggingface-hub 0.1.1 which is incompatible.\u001b[0m\n",
            "Successfully installed datasets-1.15.1 fsspec-2021.11.0 huggingface-hub-0.1.1 xxhash-2.0.2\n"
          ]
        }
      ]
    },
    {
      "cell_type": "markdown",
      "metadata": {
        "id": "xpgT0FOqFR0F"
      },
      "source": [
        "https://huggingface.co/datasets/subjqa"
      ]
    },
    {
      "cell_type": "code",
      "metadata": {
        "id": "82D4tSavG7U1"
      },
      "source": [
        "import pandas as pd\n",
        "pd.options.display.max_colwidth = 200 # default 50; -1 = all\n",
        "pd.options.display.float_format = '{:.2f}'.format"
      ],
      "execution_count": 2,
      "outputs": []
    },
    {
      "cell_type": "code",
      "metadata": {
        "colab": {
          "base_uri": "https://localhost:8080/",
          "height": 136,
          "referenced_widgets": [
            "cb7f51b3c8284132a77699299ece2a79",
            "4edb993259c04e17a0bfd9965d3f22af",
            "31c47dc36e7942f7b5521c3283c19c39",
            "564a55631f3b45e7a0f14765138b7278",
            "66e177b1fad342f5974eceabea3a5625",
            "1aade08b20c7453a88997605ded31bea",
            "ad70e25b83e743f4b964b7775adddacc",
            "afad9d6a2a104f7286c7af449f295385",
            "c57c3ca9a430495c83cd82f77cb31178",
            "359e621fa4e2460ea6cc42757190dc41",
            "932eda9557d54423a5cf64bec5748b80"
          ]
        },
        "id": "6AI18Ny_CBmG",
        "outputId": "00cf3e98-e2f9-452f-d853-831c5986f750"
      },
      "source": [
        "from datasets import load_dataset\n",
        "\n",
        "# other options include: books, grocery, movies, restaurants, tripadvisor\n",
        "subjqa = load_dataset(\"subjqa\", \"electronics\")\n",
        "subjqa.set_format(\"pandas\")\n",
        "\n",
        "# flatten the nested dataset columns for easy access\n",
        "df = [ds[:] for split, ds in subjqa.flatten().items() if split == 'train'][0]\n",
        "\n",
        "# select some columns\n",
        "#df = df[[\"title\", \"question\", \"answers.text\", \"answers.answer_start\", \"context\"]]\n",
        "df = df.drop_duplicates(subset=\"context\").rename(columns={\"answers.text\": \"answer\", \"answers.answer_start\": \"start\"})\n",
        "\n",
        "print(list(df.columns))\n",
        "print(f\"\\n{len(df)} rows\")"
      ],
      "execution_count": 12,
      "outputs": [
        {
          "output_type": "stream",
          "name": "stderr",
          "text": [
            "11/07/2021 16:49:26 - WARNING - datasets.builder -   Reusing dataset subjqa (/root/.cache/huggingface/datasets/subjqa/electronics/1.1.0/e5588f9298ff2d70686a00cc377e4bdccf4e32287459e3c6baf2dc5ab57fe7fd)\n"
          ]
        },
        {
          "output_type": "display_data",
          "data": {
            "application/vnd.jupyter.widget-view+json": {
              "model_id": "cb7f51b3c8284132a77699299ece2a79",
              "version_minor": 0,
              "version_major": 2
            },
            "text/plain": [
              "  0%|          | 0/3 [00:00<?, ?it/s]"
            ]
          },
          "metadata": {}
        },
        {
          "output_type": "stream",
          "name": "stdout",
          "text": [
            "['domain', 'nn_mod', 'nn_asp', 'query_mod', 'query_asp', 'q_reviews_id', 'question_subj_level', 'ques_subj_score', 'is_ques_subjective', 'review_id', 'id', 'title', 'context', 'question', 'answer', 'start', 'answers.answer_subj_level', 'answers.ans_subj_score', 'answers.is_ans_subjective']\n",
            "\n",
            "1265 rows\n"
          ]
        }
      ]
    },
    {
      "cell_type": "code",
      "metadata": {
        "colab": {
          "base_uri": "https://localhost:8080/",
          "height": 784
        },
        "id": "tV5cIfXPJVQr",
        "outputId": "9d6a20ad-af0f-45d7-8224-f34b02193e3b"
      },
      "source": [
        "df.sample(3)"
      ],
      "execution_count": 13,
      "outputs": [
        {
          "output_type": "execute_result",
          "data": {
            "text/html": [
              "<div>\n",
              "<style scoped>\n",
              "    .dataframe tbody tr th:only-of-type {\n",
              "        vertical-align: middle;\n",
              "    }\n",
              "\n",
              "    .dataframe tbody tr th {\n",
              "        vertical-align: top;\n",
              "    }\n",
              "\n",
              "    .dataframe thead th {\n",
              "        text-align: right;\n",
              "    }\n",
              "</style>\n",
              "<table border=\"1\" class=\"dataframe\">\n",
              "  <thead>\n",
              "    <tr style=\"text-align: right;\">\n",
              "      <th></th>\n",
              "      <th>domain</th>\n",
              "      <th>nn_mod</th>\n",
              "      <th>nn_asp</th>\n",
              "      <th>query_mod</th>\n",
              "      <th>query_asp</th>\n",
              "      <th>q_reviews_id</th>\n",
              "      <th>question_subj_level</th>\n",
              "      <th>ques_subj_score</th>\n",
              "      <th>is_ques_subjective</th>\n",
              "      <th>review_id</th>\n",
              "      <th>id</th>\n",
              "      <th>title</th>\n",
              "      <th>context</th>\n",
              "      <th>question</th>\n",
              "      <th>answer</th>\n",
              "      <th>start</th>\n",
              "      <th>answers.answer_subj_level</th>\n",
              "      <th>answers.ans_subj_score</th>\n",
              "      <th>answers.is_ans_subjective</th>\n",
              "    </tr>\n",
              "  </thead>\n",
              "  <tbody>\n",
              "    <tr>\n",
              "      <th>418</th>\n",
              "      <td>electronics</td>\n",
              "      <td>better</td>\n",
              "      <td>price</td>\n",
              "      <td>more</td>\n",
              "      <td>price</td>\n",
              "      <td>95d3e35080f3c6c20f1c11c4f3c629c3</td>\n",
              "      <td>5</td>\n",
              "      <td>0.00</td>\n",
              "      <td>False</td>\n",
              "      <td>a4adcf4ff0eaacd5a3af73bd6251472c</td>\n",
              "      <td>04fc710df6e577a31ca19cbaa90ac4f1</td>\n",
              "      <td>B002WE6D44</td>\n",
              "      <td>I'm glad I went for this 32 gb, class 10 card when I bought my new camera. It works great, it's fast, it has a lot of room on it... I feel like it's going to be quite a while before I even need to...</td>\n",
              "      <td>What is the price?</td>\n",
              "      <td>[The price on this card is definitely better than I could find for other brands of the same size]</td>\n",
              "      <td>[334]</td>\n",
              "      <td>[1]</td>\n",
              "      <td>[0.33333334]</td>\n",
              "      <td>[False]</td>\n",
              "    </tr>\n",
              "    <tr>\n",
              "      <th>1059</th>\n",
              "      <td>electronics</td>\n",
              "      <td>excellent</td>\n",
              "      <td>image quality</td>\n",
              "      <td>good</td>\n",
              "      <td>result</td>\n",
              "      <td>971b78a0775380b4bb0eca91c221d542</td>\n",
              "      <td>1</td>\n",
              "      <td>0.30</td>\n",
              "      <td>False</td>\n",
              "      <td>260d33a7e2073c34289dcb1a534e2c8d</td>\n",
              "      <td>1b51b97f23a454578c869c4d9531dce1</td>\n",
              "      <td>B00889ST2G</td>\n",
              "      <td>The Sony RX100 is a great camera overall, but has some weaknesses in the performance area that take some of the shine away from the overall shooting experience.Image quality at lower ISOs is excel...</td>\n",
              "      <td>What was the best result?</td>\n",
              "      <td>[Image quality at lower ISOs is excellent]</td>\n",
              "      <td>[160]</td>\n",
              "      <td>[1]</td>\n",
              "      <td>[1.0]</td>\n",
              "      <td>[True]</td>\n",
              "    </tr>\n",
              "    <tr>\n",
              "      <th>1005</th>\n",
              "      <td>electronics</td>\n",
              "      <td>large</td>\n",
              "      <td>keyboard</td>\n",
              "      <td>good</td>\n",
              "      <td>touch</td>\n",
              "      <td>7cfa40788187db54e80b0a0e535c54fc</td>\n",
              "      <td>2</td>\n",
              "      <td>0.70</td>\n",
              "      <td>True</td>\n",
              "      <td>02db471cf67c5a593f2412b0a2a556de</td>\n",
              "      <td>ca1bc25bd744d38216c2ad9880d792db</td>\n",
              "      <td>B007PRHNHO</td>\n",
              "      <td>I bought this used but it appears &amp;#34;like new.&amp;#34;  Having had a very bad experience with a less expensive transparent keyboard that magnetically fit over the iPad keyboard, this is a delight. ...</td>\n",
              "      <td>How light touch of polish should be given for the screen?</td>\n",
              "      <td>[]</td>\n",
              "      <td>[]</td>\n",
              "      <td>[]</td>\n",
              "      <td>[]</td>\n",
              "      <td>[]</td>\n",
              "    </tr>\n",
              "  </tbody>\n",
              "</table>\n",
              "</div>"
            ],
            "text/plain": [
              "           domain     nn_mod  ... answers.ans_subj_score answers.is_ans_subjective\n",
              "418   electronics     better  ...           [0.33333334]                   [False]\n",
              "1059  electronics  excellent  ...                  [1.0]                    [True]\n",
              "1005  electronics      large  ...                     []                        []\n",
              "\n",
              "[3 rows x 19 columns]"
            ]
          },
          "metadata": {},
          "execution_count": 13
        }
      ]
    },
    {
      "cell_type": "code",
      "metadata": {
        "colab": {
          "base_uri": "https://localhost:8080/",
          "height": 592
        },
        "id": "naaG5XpPJbuI",
        "outputId": "38fa7ce1-2c04-414a-df2d-374068336ed8"
      },
      "source": [
        "df['title'].value_counts().head(20).to_frame().plot(kind=\"barh\", figsize=(10,10)).invert_yaxis()"
      ],
      "execution_count": 14,
      "outputs": [
        {
          "output_type": "display_data",
          "data": {
            "image/png": "[encoded data removed]",
            "text/plain": [
              "<Figure size 720x720 with 1 Axes>"
            ]
          },
          "metadata": {
            "needs_background": "light"
          }
        }
      ]
    },
    {
      "cell_type": "markdown",
      "metadata": {
        "id": "xXFkv1RPLM6C"
      },
      "source": [
        "https://www.amazon.com/dp/B003ELYQGG\n",
        "\n",
        "https://amazon-asin.com/asincheck/?product_id=B003ELYQGG\n",
        "\n",
        "<img src=\"https://m.media-amazon.com/images/I/31oE5NluLhL.jpg\" width=\"100\"/>\n",
        "\n",
        "Panasonic ErgoFit In-Ear Earbud Headphones RP-HJE120-D (Orange) Dynamic Crystal Clear Sound, Ergonomic Comfort-Fit"
      ]
    },
    {
      "cell_type": "code",
      "metadata": {
        "id": "AnJfD125Sziq"
      },
      "source": [
        "item_id = \"B003ELYQGG\""
      ],
      "execution_count": 16,
      "outputs": []
    },
    {
      "cell_type": "code",
      "metadata": {
        "colab": {
          "base_uri": "https://localhost:8080/",
          "height": 265
        },
        "id": "NPcSYzIFIrqP",
        "outputId": "b70a084f-0a79-43a7-cf5a-aebc91e27de7"
      },
      "source": [
        "counts = {}\n",
        "question_types = [\"What\", \"How\", \"Is\", \"Does\", \"Do\", \"Was\", \"Where\", \"Why\"]\n",
        "\n",
        "for q in question_types:\n",
        "    counts[q] = df[\"question\"].str.startswith(q).value_counts()[True]\n",
        "\n",
        "pd.Series(counts).sort_values().plot(kind=\"barh\");"
      ],
      "execution_count": 47,
      "outputs": [
        {
          "output_type": "display_data",
          "data": {
            "image/png": "[encoded data removed]",
            "text/plain": [
              "<Figure size 432x288 with 1 Axes>"
            ]
          },
          "metadata": {
            "needs_background": "light"
          }
        }
      ]
    },
    {
      "cell_type": "code",
      "metadata": {
        "id": "-Uof3_35HG_Y"
      },
      "source": [
        "from haystack.nodes import FARMReader, TransformersReader"
      ],
      "execution_count": null,
      "outputs": []
    },
    {
      "cell_type": "markdown",
      "metadata": {
        "id": "5KVNsIdVNbE7"
      },
      "source": [
        "## Befüllen des Document Stores für den Retriever\n",
        "\n",
        "Haystack unterstützt folgende Document Stores:\n",
        "  * Elasticsearch (Sparse BM25/TF-IDF + Dense Vectors, https://elastic.co)\n",
        "  * FAISS (von Facebook AI für Dense Vectors, https://faiss.ai/)\n",
        "  * SQL (SQLite, PostgreSQL, MySQL)\n",
        "  * InMemoryDocumentStore"
      ]
    },
    {
      "cell_type": "code",
      "metadata": {
        "colab": {
          "base_uri": "https://localhost:8080/"
        },
        "id": "xpdXThooNaFm",
        "outputId": "30a1a059-2f69-4bb1-afff-cad3552935d6"
      },
      "source": [
        "# In-Memory Document Store\n",
        "from haystack.document_store import InMemoryDocumentStore\n",
        "document_store = InMemoryDocumentStore()"
      ],
      "execution_count": 1,
      "outputs": [
        {
          "output_type": "stream",
          "name": "stderr",
          "text": [
            "/usr/local/lib/python3.7/dist-packages/ray/autoscaler/_private/cli_logger.py:61: FutureWarning: Not all Ray CLI dependencies were found. In Ray 1.4+, the Ray CLI, autoscaler, and dashboard will only be usable via `pip install 'ray[default]'`. Please update your install command.\n",
            "  \"update your install command.\", FutureWarning)\n"
          ]
        }
      ]
    },
    {
      "cell_type": "code",
      "metadata": {
        "colab": {
          "base_uri": "https://localhost:8080/",
          "height": 305
        },
        "id": "hLvN16UdRoqd",
        "outputId": "a9db5694-7246-4959-f2d5-e5e2d188f4f3"
      },
      "source": [
        "!pip install \"grpcio==1.41.0\""
      ],
      "execution_count": 64,
      "outputs": [
        {
          "output_type": "stream",
          "name": "stdout",
          "text": [
            "Collecting grpcio==1.41.0\n",
            "  Downloading grpcio-1.41.0-cp37-cp37m-manylinux_2_17_x86_64.manylinux2014_x86_64.whl (3.9 MB)\n",
            "\u001b[K     |████████████████████████████████| 3.9 MB 5.4 MB/s \n",
            "\u001b[?25hRequirement already satisfied: six>=1.5.2 in /usr/local/lib/python3.7/dist-packages (from grpcio==1.41.0) (1.15.0)\n",
            "Installing collected packages: grpcio\n",
            "  Attempting uninstall: grpcio\n",
            "    Found existing installation: grpcio 1.37.1\n",
            "    Uninstalling grpcio-1.37.1:\n",
            "      Successfully uninstalled grpcio-1.37.1\n",
            "\u001b[31mERROR: pip's dependency resolver does not currently take into account all the packages that are installed. This behaviour is the source of the following dependency conflicts.\n",
            "pymilvus 1.1.2 requires grpcio<1.38.0,>=1.22.0, but you have grpcio 1.41.0 which is incompatible.\u001b[0m\n",
            "Successfully installed grpcio-1.41.0\n"
          ]
        },
        {
          "output_type": "display_data",
          "data": {
            "application/vnd.colab-display-data+json": {
              "pip_warning": {
                "packages": [
                  "grpc"
                ]
              }
            }
          },
          "metadata": {}
        }
      ]
    },
    {
      "cell_type": "code",
      "metadata": {
        "colab": {
          "base_uri": "https://localhost:8080/"
        },
        "id": "fZuMKoz3OmbP",
        "outputId": "a6fb6aab-d91f-497a-e53e-cf259249875d"
      },
      "source": [
        "docs = []\n",
        "for _, row in df.query(f\"title == '{item_id}'\").iterrows():\n",
        "    doc = {\"text\": row[\"context\"],\n",
        "           \"meta\": {\"item_id\": row[\"title\"], \n",
        "                    \"qid\": row[\"id\"],\n",
        "                    \"aspect\": row[\"query_asp\"]}}\n",
        "    docs.append(doc)\n",
        "print(len(docs))\n",
        "docs"
      ],
      "execution_count": 20,
      "outputs": [
        {
          "output_type": "stream",
          "name": "stdout",
          "text": [
            "35\n"
          ]
        },
        {
          "output_type": "execute_result",
          "data": {
            "text/plain": [
              "[{'meta': {'aspect': 'quality',\n",
              "   'item_id': 'B003ELYQGG',\n",
              "   'qid': '6b2766870a84ac516022094e71c6fc53'},\n",
              "  'text': \"I needed new headphones so I got these and the JBuds J3 Micro Atomic In-Ear Earbuds (purchased them for $19.99 now they are $9.99) and planned to test between them and return one. My quick response is that I'll keep the Panasonic. Bass, treble, and mids seem pretty decent. Fit in the ear well and for the $6 I spent, great price. The JBuds have slightly better sound but aren't as good for working out but not good enough to pay an extra $14. So if you want to use your earbuds while running/working out, get the Panasonic. If you're using them to just relax/walk around, the JBuds are slightly better and work it at $9.99.\"},\n",
              " {'meta': {'aspect': 'rating',\n",
              "   'item_id': 'B003ELYQGG',\n",
              "   'qid': '9dde62500b59148cbcd2f1b2fa28199d'},\n",
              "  'text': \"I bought these to replace my i-Luv earbud headphones that only lasted a couple of months. Compared the iLuv product, this product fails to meet the mark. First off, no one company were selling all the different colours and I was forced to buy 2 pink ones from Amazon. While the packaging was aesthetically pleasing, it was a mother to open. Really, the packaging was EVIL! I also didn't expect the cord to be hot pink all the way through. I don't really like that. The sound quality is meh, especially when compared to the iLuv. I am not impressed at all. The only thing that could redeem this product is if it lasts about a year. We'll see how that goes, but I don't really have high expectations seeing as I've been disappointed by nearly everything thus far.\"},\n",
              " {'meta': {'aspect': 'base',\n",
              "   'item_id': 'B003ELYQGG',\n",
              "   'qid': 'ef7fe850950195b78c0182bd881b5c78'},\n",
              "  'text': 'Once I adjusted the eq on my media player and installed my favorite eartips from my broken earphones, these are amazing for the price.  The base really thumps which I did not expect and overall the sound is a good balanced neutral and true.  Only issue is the cord.  Wish it was thicker or covered in a cloth casing.  Will be buying another and pit away in case these are discontinued or changed in a bad way.'},\n",
              " {'meta': {'aspect': 'isolation',\n",
              "   'item_id': 'B003ELYQGG',\n",
              "   'qid': '83b0683bdfae170d4fa9d7916d9fcd63'},\n",
              "  'text': 'The headphones are perfect. I have bought 4 pairs. One for work, one for home and 2 for wife.The sound quality is good and the fit is just perfect.'},\n",
              " {'meta': {'aspect': 'sound',\n",
              "   'item_id': 'B003ELYQGG',\n",
              "   'qid': '7bbea4e52f46fb7d069748b985a1985b'},\n",
              "  'text': 'Perfect, do what they need to for the price, using them now, for the price, no complaints. Fit in the ear nicely, sound is decent, nice and light.. they are what they are.'},\n",
              " {'meta': {'aspect': 'bass',\n",
              "   'item_id': 'B003ELYQGG',\n",
              "   'qid': '19fef6e6ad78e46b0a46ae41ab4dba71'},\n",
              "  'text': 'Although the sound is nice and neutral, the bass is practically non-existent. The fit, with the right rubber socks, is fine. It stays in your ears while moving. I suppose you gets what you pays for.'},\n",
              " {'meta': {'aspect': 'reviewer',\n",
              "   'item_id': 'B003ELYQGG',\n",
              "   'qid': '59b24d7e21fcc1c0c8c6081e505349be'},\n",
              "  'text': \"I bought these after reading the reviews of multiple In-Ear Headphones. The reviews were mostly positive and the price was right so I bought them.  They sound great. I am no audiophile so take my review for what it's worth. The price was good and so are the ear phones.\"},\n",
              " {'meta': {'aspect': 'bass',\n",
              "   'item_id': 'B003ELYQGG',\n",
              "   'qid': '85157eefb3bbf908787115eec6b2995b'},\n",
              "  'text': \"great for the money and might order again if i needed a quick pair of headphones but even after little time using them my ears get sore. i've had earbud headphones before these are just like many of them , almost all hurt eventually at some point these are better than round plastic knockoffs and work great and sound good, at least has some good base. very cheap price so worth the money they are okay. I still use them, constantly going on walks or waiting time, works fine just ears probably aren't meant to have objects in them nor are they touched often so they are sensitive to the touch and earbuds rubbing on them for a hour will leave your ears kind of sore haha\"},\n",
              " {'meta': {'aspect': 'sound',\n",
              "   'item_id': 'B003ELYQGG',\n",
              "   'qid': 'b7aa560f0715450916013d3830ec140d'},\n",
              "  'text': \"The price of these earphones led me to modest expectations, yet the rave reviews led me to expect more. As far as fit goes, I am very pleased with the comfortable fit of the buds that fit into my ears nicely.I use these mostly to listen to a radio while drifting off to sleep. At this moment I am listening to music from my laptop. The separation of sound with earbuds is excellent, while the quality of the sound experience is only average at best, about $6.50 worth. The sound is thin as if there is no bass and treble is turned up to its highest setting. After fiddling with the settings on the laptop, I attained some improvement but the sound was never more than just adequate. Of all the songs I sampled, Lather by Jefferson Airplane sounded the best.These phones are great for someone like me with a little dog who chews up headphones with regularity. Audiophiles will have to spend more money for some auditory satisfaction.Another thought - I must say that the wires on these buds are easier to untangle than on past headphone sets. At least once a week I have to do some detangling, and so far it's been easy as mashed potates.\"},\n",
              " {'meta': {'aspect': 'bass',\n",
              "   'item_id': 'B003ELYQGG',\n",
              "   'qid': 'fe54bf7d58802b090a965ac0fed2f9f5'},\n",
              "  'text': \"Im a little surprised at how people are just gushing about how great these are. Yeah they're good for the price but people are comparing them to high end earbuds and thats just crazy. I compared them to my soundmagic e10s which go for around 30 bucks. The panasonic earbuds don't even come close in terms of sound quality. The mids in particular are muddy. The panasonic earbuds will do if you're broke and just can't spend much money. Otherwise do yourself a favor and spend a few more bucks on some soundmagic e-10, Jvc Ha-fx67 or MEElectronics CW31. You'll notice a big difference. Obviously, the more costlier earbuds are going to have better, and often multiple drivers.\"},\n",
              " {'meta': {'aspect': 'bass',\n",
              "   'item_id': 'B003ELYQGG',\n",
              "   'qid': '48bcabe8bc32c7b110a6c69809965184'},\n",
              "  'text': \"These earbuds are nothing special. Their best attribute is that they are cheap. The sound from them is nothing special. In comparison to my standard white IPod buds these seem to emphasize the higher frequencies. There seems to be nothing happening in the bass range with these. I don't think they are efficient enough to have much bass at all. To be fair, my IPod buds overly emphasize bass so they are not that accurate either. I also compared these to a pricy Sennheiser set that I've owned for a couple of years and let's just say there is a reason why the Sennheisers cost more.Surely these Panasonic buds are very nice to use if you think they might get damaged somehow in use as it will not break your heart to have to replace them. These might be especially useful if you only listen to talk radio or have high frequency hearing loss. If you really like to listen to the most of your music and you must wear earbuds then these are not for you.I also have to note that these are packaged in a difficult to open blister pack that required several passes with utility shears to break into. I hate to see all the plastic that has to be discarded just to get this product out of the package.Cosmetically, they are OK. They don't hurt my ears and are comfortable to me. They come with a couple of other size ear pieces if you are hard to fit. The wires take a set when folded so they are not very well-behaved and don't coil nicely and lie flat when you put them away. These will be a little bird's nest of tangled wires when you set them aside.\"},\n",
              " {'meta': {'aspect': 'color',\n",
              "   'item_id': 'B003ELYQGG',\n",
              "   'qid': 'ba69706a337b0db2ac06e5d66ef2d4ef'},\n",
              "  'text': \"The design is pretty simple. They reduce outside noise pretty well and fit pretty comfortably too. The color is okay but I'm wondering if I should have just gotten black because the pink cords are quite conspicuous.\"},\n",
              " {'meta': {'aspect': 'bass',\n",
              "   'item_id': 'B003ELYQGG',\n",
              "   'qid': 'eb29157a8a0c4669049f7715de1217b1'},\n",
              "  'text': \"These are so good! To me, they sound better than my skullcandy ink'd earbuds which were my best before I got these. The skullcandy ones sounded really harsh and weren't very clear, but they had awesome bass because they sort of made a seal with your ear. These ones have less bass, yet deeper and more precise bass. They don't really make that seal with your ear, but it's kind of nice because they don't hurt your ear drums if you take them out fast. The skullcandy headphones were just kind of like TONS of OK bass, but these you can play deep rap or electronic music on and hear all those low notes along with the 10-16k high pitched stuff as well, without all the 3-4k harsh stuff (for the more technichal people out there). These are just amazing. Buy them.\"},\n",
              " {'meta': {'aspect': 'sound',\n",
              "   'item_id': 'B003ELYQGG',\n",
              "   'qid': 'f4f6289894e6c75fc688268bb5d48b5d'},\n",
              "  'text': 'the sound is not good and I have to turn the volume up more than half way just to barely hear anything.'},\n",
              " {'meta': {'aspect': 'plastic',\n",
              "   'item_id': 'B003ELYQGG',\n",
              "   'qid': 'b98fdaad03e5f10a3b99b0169b5796ed'},\n",
              "  'text': \"First off, for those giving this item poor reviews for quality: you know these are $5 headphones right?I think it's a great brand name product for $5, which is hard to find in stores such as Target and even Walmart. (Unless you want brands you never heard of) Anyway, the sound and bass is good, I heard things I didn't hear with my old headphones. Also the fit is great, it comes with 3 different sizes for comfort which comes in handy when going to the gym. I went through my normal routine with no problem, although haven't tested it on the treadmill yet.One minor, minor complaint: even on low volume, it's hard to hear what's going on in the background because of the shape of the headphones in your ears. (Basically ear plugs) It's great if you ONLY want to listen to music, but if you still want to listen to the background, it's very difficult.I'd still give these headphones 5/5 if it were $10.Update: After about 3 months, the sound sometimes cuts in and out when the wire changes position.\"},\n",
              " {'meta': {'aspect': 'item',\n",
              "   'item_id': 'B003ELYQGG',\n",
              "   'qid': '36d8abf8739b24ee4f470e273ad5f86b'},\n",
              "  'text': 'Item received right on time, and delivery was Quick. Came with spare earbuds, which is always a plus. Odd shaped earpieces, but they fit suprisingly well, and sound better than the price would suggest. And I Love the \"L\" shaped haedphone jack, which seems more durable than the traditional straight-ilne jack. Worth the money, Thanks.'},\n",
              " {'meta': {'aspect': 'packaging',\n",
              "   'item_id': 'B003ELYQGG',\n",
              "   'qid': '07df9331e19414d4fac37874365c8710'},\n",
              "  'text': \"I purchased these because others recommended them and I thought I would take a chance.  I like the angle of the earbuds and the fact that there are 3 interchangeable pads to be certain you get a comfortable fit.  I mainly use them to listen to white noise while I'm sleeping so I can't say much about the quality of the sound - but they don't fall out of my ears like the old ones I was using.  For me that makes them a great buy - plus the cost is very reasonable!\"},\n",
              " {'meta': {'aspect': 'quality',\n",
              "   'item_id': 'B003ELYQGG',\n",
              "   'qid': 'c955465eb542f00edb7aee607d281243'},\n",
              "  'text': \"I decided to buy these despite the negative reviews, and I'm glad I did. They may not be the cadillac of in-ear earbuds, but they are well worth the $6 total cost. When I first stuck them in my ears, the words from the negative reviews rang true, but when I changed the shields to the larger size, it was a whole new experience. I bought them for a long road trip with 3 grandkids (one a 10 month old baby). The noise isolating quality was better than I expected based on the reviews, and the sound quality was totally acceptable.\"},\n",
              " {'meta': {'aspect': 'sound',\n",
              "   'item_id': 'B003ELYQGG',\n",
              "   'qid': '7509fd3ee1c341e0440e490be3a44f0b'},\n",
              "  'text': 'Simply Amazing.Bought these to replace my Apple Earpods that broke, these are extremely better.These earpods have great bass, perfect for dubstep.Highly Recommend, Plus you can beat anything under $10 :)'},\n",
              " {'meta': {'aspect': 'price',\n",
              "   'item_id': 'B003ELYQGG',\n",
              "   'qid': 'e96c52c090c79767279141acf688b3ab'},\n",
              "  'text': \"Holy hell. How is this even possible? These headphones were like 6 bucks (the white ones are cheaper) and... they have great sound. If you turn them up super loud, there's a little rattling or &#34;fuzz,&#34; but whatever they're 6 dollar ear buds lol. They have seriously impressive bass and the fit is fantastic. I've tried several pairs of ear buds in my life, and I've always thought I had stupid ears because they always fall out. These ARE NOT CYLINDERS. The whole thing is shaped... weird. And it's awesome. SERIOUSLY, THIS BASS DUDE. Get these. These are the ones you want. Jeeze this bass is f****** incredible.\"},\n",
              " {'meta': {'aspect': 'color',\n",
              "   'item_id': 'B003ELYQGG',\n",
              "   'qid': '6b4276cdadb13e3d72e29198dbd60255'},\n",
              "  'text': 'Great product. Super fast delivery. This new design is so comfortable.They fit perfectly in my ear. The new design is perfect for the way your ear is actually shaped, therefore provides perfect sound, including bass and highs. So happy with them! Will be ordering more.'},\n",
              " {'meta': {'aspect': 'bass',\n",
              "   'item_id': 'B003ELYQGG',\n",
              "   'qid': '8800d243e72484ba7db8613bd26f2af3'},\n",
              "  'text': 'Better than Monoprice 8320!  The bass is deeper and cleaner.  The highs and mids are more colorful.  The bass was enhanced by adding the Comply 400 tips and setting the equalizer setting on the iPod from &#34;Off&#34; to &#34;Lounge&#34;.'},\n",
              " {'meta': {'aspect': 'headphone',\n",
              "   'item_id': 'B003ELYQGG',\n",
              "   'qid': '077d9c3a57febb03d3b2461c6f6df07e'},\n",
              "  'text': 'Love the color and the sound quality is fine.  They get slightly uncomfortably during long use, as they are shaped funny (kind of bent instead of a straight plug into the ear).  I have small eats and headphones are notoriously difficult for me to find, so they may be more comfortable for long periods for others.  For the price, they are worth a try.'},\n",
              " {'meta': {'aspect': 'reason',\n",
              "   'item_id': 'B003ELYQGG',\n",
              "   'qid': '8fc41760eea208d30de0ab0f1d2a0015'},\n",
              "  'text': \"The highs are good. Mids are good. Bass is good.  Everything about these is just average good sound.  Nothing great, but also nothing that blows my ears away.  You're gonna have a hard time finding a better ear bud for the price.  These do sound good.\"},\n",
              " {'meta': {'aspect': 'size',\n",
              "   'item_id': 'B003ELYQGG',\n",
              "   'qid': '513ef384fcd18d2459c2c0def055689a'},\n",
              "  'text': \"I got these headphones because they were cheap and had good reviews.So far I like them. The cord isn't ridiculously long. The sound quality is pretty good. Compared to my old SkullCandy Inkd headphones, the bass could be a little better but for only $6, I can't complain!Would recommend them to someone who needed a cheap pair. Would probably buy again.\"},\n",
              " {'meta': {'aspect': 'quality',\n",
              "   'item_id': 'B003ELYQGG',\n",
              "   'qid': 'd17e52e3c722f5ebd313de5c65df276a'},\n",
              "  'text': 'My son purchased these because his last pair of apple earbuds and the Philips were terrible.  He decided on these in-ear headphones and loves them.  He says the sound quality is great and so much better than the apple and the Philips.  He said that he had to get use to the in-ear but he got use to them really fast.  Highly recommend and will buy again.'},\n",
              " {'meta': {'aspect': 'design',\n",
              "   'item_id': 'B003ELYQGG',\n",
              "   'qid': 'd52b3a89abe7e8f11a7589505cfefedd'},\n",
              "  'text': \"These are some cool little ear buds.  The bud part is oval shaped (after being inserted onto the post, otherwise the silicone buds do look round in the package) instead of perfectly round and they seem to fit in my ear better than any other buds I have tried.  I have VERY small ears so I have a difficult time finding earbuds that are comfortable, and these fit the bill.  The in ear part is also slightly off center so they seem to block noise better and have a more secure fit.  I have shaken my head around quite a bit with these in and they refuse to fall out.  Other buds have not been so kind to me.  The sound is acceptable, and for the price you seriously cannot go wrong.  They come with three different sized in ear pieces.  They are a little more difficult to swap out due to the shape of the bud post being oval and the bud itself being round, but it isn't that big of a deal.\"},\n",
              " {'meta': {'aspect': 'quality',\n",
              "   'item_id': 'B003ELYQGG',\n",
              "   'qid': '18ae0272d09898c3f48098407316a511'},\n",
              "  'text': 'This is a great value for casual listening.  I usually fall asleep listening to old spoken-word recordings which means I go through a lot of earbuds (tossing and turning pulls on the wires).  So to remain well-rested and financially solvent I need earbuds that are inexpensive and comfortable. I\\'m also a former (alas) musician and am demanding of sound quality.These Panasonic units fit the bill as decent, semi-disposable earbuds. They\\'re very comfortable for my purpose. Since the earbud part is offset from the body of the driver, the driver doesn\\'t press against the ear when sleeping on one\\'s side. They\\'ve also held up to a couple months\\' use.The weakest point is sound quality. While not really objectionable, these buds are weak in bass and have a noticeable upper-midrange peak that the casual listener may perceive as \"clarity.\" I\\'d rather the response was more even. But for 6 bucks who can complain?Bottom line, if you have reasonable expectations these earbuds are an excellent price-performance value.'},\n",
              " {'meta': {'aspect': 'color',\n",
              "   'item_id': 'B003ELYQGG',\n",
              "   'qid': '0c6369a2bb9802d362d2b7c8d8442000'},\n",
              "  'text': \"I was going to order from musician's friend. Their products are high quality, but priced out of my range. Amazon's price was very low but got many good reviews.  I have no complaints about this product.  Some complained about the bass response, but I found no problems.\"},\n",
              " {'meta': {'aspect': 'isolation',\n",
              "   'item_id': 'B003ELYQGG',\n",
              "   'qid': '1f754dbd1f796fd719b4030f839a3132'},\n",
              "  'text': 'Great headphones this is my second time buying them, these headphone are perfect if you looking for headphones with some bass.'},\n",
              " {'meta': {'aspect': 'bass',\n",
              "   'item_id': 'B003ELYQGG',\n",
              "   'qid': '9c72021db55fe2e1922bf000a95340d5'},\n",
              "  'text': 'These are amazing headphones, not to mention the price. The sound is incredible - comparable to $20 Skullcandy headphones. The cord is not obnoxiously long either and the ear buds fit in the ears wonderfully. It even cancels out noise from your environment pretty decently.'},\n",
              " {'meta': {'aspect': 'base',\n",
              "   'item_id': 'B003ELYQGG',\n",
              "   'qid': '5ce010c604b72efa5a62b13decd4e40e'},\n",
              "  'text': \"These are the best sounding ear-buds I've ever put in my ears. I ordered a Red, Blue and Green pair and broke each of them in over 24 hours by playing some Trentemoller to work the kinks out of the bass. The sound is clean, balanced and the bass is very smooth and powerful without being overpowering. I had 2 pair of J-Buds that I spiked in the trash because these are far superior - for as low as a third of the cost. I should also note I don't spend over $20 for ear-buds due to the short lifespan the inherently have - but these are a steal and I'll likely keep a few pair in reserve in case the inevitable snag or loss occurs.If you're on the fence, order a red pair (cheaper for some reason) and then be prepared to pick out other colors to tell them from your significant other's/kid's/etc, because they'll try to nab them from you if they hear themPanasonic RP-HJE120-R In-Ear Earbud Ergo-Fit Headphone (Red).\"},\n",
              " {'meta': {'aspect': 'base',\n",
              "   'item_id': 'B003ELYQGG',\n",
              "   'qid': 'b1673d47477f01f24425e2d9395781bc'},\n",
              "  'text': 'The sound is well balanced, beautiful.I tried several brands and this was the best... even better than the original buds that came with my RCA MP3 player.'},\n",
              " {'meta': {'aspect': 'sound',\n",
              "   'item_id': 'B003ELYQGG',\n",
              "   'qid': '14092f99784dec204df6fa2063830fbc'},\n",
              "  'text': \"Don't be fooled by the high star ratings on this piece of junk---the sound is unbelievably poor, muffled and tinny, and the earbuds themselves have to be shoved in your ears to stay on.  I've previously bought several Panasonic earbuds( RP-HV152 ) and by comparison those sounded glorious( although the price has gone way up and longevity is an issue).  These sorry earbuds are a waste even at the low price.\"},\n",
              " {'meta': {'aspect': 'quality',\n",
              "   'item_id': 'B003ELYQGG',\n",
              "   'qid': 'fd302e1baab30c638526f4c6276f5da9'},\n",
              "  'text': \"The design of these is great. Unlike so many others these are designed to sit comfortably and stay there. No slippage or constant readjusting like I've experienced with my Skull Candy Inked or Apple buds. Cord keeper would have been nice addition. For the money, this is one heck of a steal. Sound quality is fantastic. Not sure how long they will last but I will get another pair as they are unbeatable for the price. Shipping took a little longer than expected due to combining purchase from this seller and another from Amazon fullfilment). Shipping was free and the wait was worthwhile, Thank you!!!\"}]"
            ]
          },
          "metadata": {},
          "execution_count": 20
        }
      ]
    },
    {
      "cell_type": "code",
      "metadata": {
        "id": "JxzzDnfmRN8g"
      },
      "source": [
        "document_store.write_documents(docs, index=\"document\")"
      ],
      "execution_count": 18,
      "outputs": []
    },
    {
      "cell_type": "code",
      "metadata": {
        "colab": {
          "base_uri": "https://localhost:8080/"
        },
        "id": "x0ORl6jwSZFO",
        "outputId": "331b5f57-1ca3-4664-d3ca-4f91f7a1415e"
      },
      "source": [
        "from haystack.retriever.sparse import TfidfRetriever\n",
        "retriever = TfidfRetriever(document_store=document_store)"
      ],
      "execution_count": 19,
      "outputs": [
        {
          "output_type": "stream",
          "name": "stderr",
          "text": [
            "11/07/2021 16:50:50 - INFO - haystack.retriever.sparse -   Found 1265 candidate paragraphs from 1265 docs in DB\n"
          ]
        }
      ]
    },
    {
      "cell_type": "code",
      "metadata": {
        "id": "tdKHqYIkU9vZ"
      },
      "source": [
        "from textwrap import wrap, fill"
      ],
      "execution_count": 43,
      "outputs": []
    },
    {
      "cell_type": "code",
      "metadata": {
        "colab": {
          "base_uri": "https://localhost:8080/"
        },
        "id": "r60Uw4ExSSRn",
        "outputId": "d8868dc7-9d85-4428-8c35-d943352314dd"
      },
      "source": [
        "question = \"How is the bass?\"\n",
        "\n",
        "retrieved_docs = retriever.retrieve(query=question, top_k=3)\n",
        "\n",
        "for doc in retrieved_docs:\n",
        "    print(fill(doc.text), end=\"\\n\\n\")"
      ],
      "execution_count": 59,
      "outputs": [
        {
          "output_type": "stream",
          "name": "stdout",
          "text": [
            "I bought these thinking, what the heck? 20 bucks? And i was blown away\n",
            "with the sound quality, these headphones have incredible sound quality\n",
            "for an incredible price. They do not have a lot off bass, so all of\n",
            "you people looking for tons of bass, you won't get a ton of it here,\n",
            "but the bass present is rich and sounds great.\n",
            "\n",
            "I don't consider myself an audiofile, but I can still tell the\n",
            "difference between good and bad headphones.  I don't like when\n",
            "speakers/headphones have strong bass, but make everything sound muddy.\n",
            "These headphones aren't very heavy on the bass, but the bass that it\n",
            "does put out is very clear and solid.  I had a pair of Koss UR-20s\n",
            "that sounded terribly muddy after listening to the HD-202s.\n",
            "\n",
            "These headphones are my first pair of Bluetooth ear buds. The ear\n",
            "pieces themselves are huge! You really need to adjust it correctly in\n",
            "order to keep it in. Then again, my ears are pretty tiny. I don't know\n",
            "about the other reviews that say the bass is rubbish, when it's\n",
            "amazing. It's not $200 headphones, were you would except the best\n",
            "bass, but the bass is excellent for the price. The fact that it's\n",
            "water resistant is even greater. The battery life is okay for me. I\n",
            "only listen to music about 1-3 hours a day, so it's perfect for me.\n",
            "Call quality isn't that great though. My friends had a hard time\n",
            "hearing me. Still, the best ear buds i have owned in general. I would\n",
            "recommend it.\n",
            "\n"
          ]
        }
      ]
    },
    {
      "cell_type": "code",
      "metadata": {
        "id": "Zzb2nsSqWOwB"
      },
      "source": [
        "## Reader"
      ],
      "execution_count": 45,
      "outputs": []
    },
    {
      "cell_type": "code",
      "metadata": {
        "colab": {
          "base_uri": "https://localhost:8080/"
        },
        "id": "cuNAyeEWXdNB",
        "outputId": "0f127c04-9721-4b90-95be-296504b24b73"
      },
      "source": [
        "!pip show haystack"
      ],
      "execution_count": 54,
      "outputs": [
        {
          "output_type": "stream",
          "name": "stdout",
          "text": [
            "\u001b[33mWARNING: Package(s) not found: haystack\u001b[0m\n"
          ]
        }
      ]
    },
    {
      "cell_type": "code",
      "metadata": {
        "colab": {
          "base_uri": "https://localhost:8080/"
        },
        "id": "5brl7ejyWRVW",
        "outputId": "42ad8602-efdf-42e3-f34a-021a90c405a5"
      },
      "source": [
        "from haystack.reader.farm import FARMReader\n",
        "\n",
        "max_seq_length = 384\n",
        "doc_stride = 128\n",
        "\n",
        "reader = FARMReader(model_name_or_path=model, progress_bar=False,\n",
        "                    # max_seq_len=max_seq_length, doc_stride=doc_stride,\n",
        "                    return_no_answer=False, use_gpu=True)"
      ],
      "execution_count": 81,
      "outputs": [
        {
          "output_type": "stream",
          "name": "stderr",
          "text": [
            "11/07/2021 17:20:59 - INFO - farm.utils -   Using device: CUDA \n",
            "11/07/2021 17:20:59 - INFO - farm.utils -   Number of GPUs: 1\n",
            "11/07/2021 17:20:59 - INFO - farm.utils -   Distributed Training: False\n",
            "11/07/2021 17:20:59 - INFO - farm.utils -   Automatic Mixed Precision: None\n",
            "Some weights of the model checkpoint at Sahajtomar/German-question-answer-Electra were not used when initializing ElectraModel: ['qa_outputs.bias', 'qa_outputs.weight']\n",
            "- This IS expected if you are initializing ElectraModel from the checkpoint of a model trained on another task or with another architecture (e.g. initializing a BertForSequenceClassification model from a BertForPreTraining model).\n",
            "- This IS NOT expected if you are initializing ElectraModel from the checkpoint of a model that you expect to be exactly identical (initializing a BertForSequenceClassification model from a BertForSequenceClassification model).\n",
            "11/07/2021 17:21:17 - WARNING - farm.utils -   ML Logging is turned off. No parameters, metrics or artifacts will be logged to MLFlow.\n",
            "11/07/2021 17:21:17 - INFO - farm.utils -   Using device: CUDA \n",
            "11/07/2021 17:21:17 - INFO - farm.utils -   Number of GPUs: 1\n",
            "11/07/2021 17:21:17 - INFO - farm.utils -   Distributed Training: False\n",
            "11/07/2021 17:21:17 - INFO - farm.utils -   Automatic Mixed Precision: None\n",
            "11/07/2021 17:21:17 - INFO - farm.infer -   Got ya 2 parallel workers to do inference ...\n",
            "11/07/2021 17:21:17 - INFO - farm.infer -    0    0 \n",
            "11/07/2021 17:21:17 - INFO - farm.infer -   /w\\  /w\\\n",
            "11/07/2021 17:21:17 - INFO - farm.infer -   /'\\  / \\\n",
            "11/07/2021 17:21:17 - INFO - farm.infer -     \n",
            "11/07/2021 17:21:17 - INFO - farm.utils -   Using device: CUDA \n",
            "11/07/2021 17:21:17 - INFO - farm.utils -   Number of GPUs: 1\n",
            "11/07/2021 17:21:17 - INFO - farm.utils -   Distributed Training: False\n",
            "11/07/2021 17:21:17 - INFO - farm.utils -   Automatic Mixed Precision: None\n",
            "11/07/2021 17:21:17 - WARNING - farm.data_handler.dataset -   Could not determine type for feature 'labels'. Converting now to a tensor of default type long.\n"
          ]
        }
      ]
    },
    {
      "cell_type": "code",
      "metadata": {
        "colab": {
          "base_uri": "https://localhost:8080/",
          "height": 52
        },
        "id": "LiAtYHn0RfZd",
        "outputId": "731df675-e624-45b5-e1c3-17a60fb9a269"
      },
      "source": [
        "context = retrieved_docs[0].text\n",
        "context"
      ],
      "execution_count": 66,
      "outputs": [
        {
          "output_type": "execute_result",
          "data": {
            "application/vnd.google.colaboratory.intrinsic+json": {
              "type": "string"
            },
            "text/plain": [
              "\"I bought these thinking, what the heck? 20 bucks? And i was blown away with the sound quality, these headphones have incredible sound quality for an incredible price. They do not have a lot off bass, so all of you people looking for tons of bass, you won't get a ton of it here, but the bass present is rich and sounds great.\""
            ]
          },
          "metadata": {},
          "execution_count": 66
        }
      ]
    },
    {
      "cell_type": "code",
      "metadata": {
        "colab": {
          "base_uri": "https://localhost:8080/"
        },
        "id": "D31HmRPEUymR",
        "outputId": "dcc47316-e2fc-43dc-95a4-b04322cc8956"
      },
      "source": [
        "question = \"How is the bass?\"\n",
        "answers = reader.predict_on_texts(question=question, texts=[context], top_k=3)\n",
        "answers"
      ],
      "execution_count": 82,
      "outputs": [
        {
          "output_type": "execute_result",
          "data": {
            "text/plain": [
              "{'answers': [{'answer': 'rich',\n",
              "   'context': \"not have a lot off bass, so all of you people looking for tons of bass, you won't get a ton of it here, but the bass present is rich and sounds great.\",\n",
              "   'document_id': 'c6297226696fbfff2ad8d1dc884dc6f2',\n",
              "   'offset_end': 132,\n",
              "   'offset_end_in_doc': 307,\n",
              "   'offset_start': 128,\n",
              "   'offset_start_in_doc': 303,\n",
              "   'score': 0.5839043855667114}],\n",
              " 'no_ans_gap': 19.3818359375,\n",
              " 'query': 'How is the bass?'}"
            ]
          },
          "metadata": {},
          "execution_count": 82
        }
      ]
    },
    {
      "cell_type": "code",
      "metadata": {
        "colab": {
          "base_uri": "https://localhost:8080/",
          "height": 197
        },
        "id": "2vRmKE90YVn0",
        "outputId": "9a4bc99d-5866-4090-e21e-6c96d99795e0"
      },
      "source": [
        "answer = answers[0]\n",
        "\n",
        "print(answer['answer'])"
      ],
      "execution_count": 83,
      "outputs": [
        {
          "output_type": "error",
          "ename": "KeyError",
          "evalue": "ignored",
          "traceback": [
            "\u001b[0;31m---------------------------------------------------------------------------\u001b[0m",
            "\u001b[0;31mKeyError\u001b[0m                                  Traceback (most recent call last)",
            "\u001b[0;32m<ipython-input-83-950bd402ee4c>\u001b[0m in \u001b[0;36m<module>\u001b[0;34m()\u001b[0m\n\u001b[0;32m----> 1\u001b[0;31m \u001b[0manswer\u001b[0m \u001b[0;34m=\u001b[0m \u001b[0manswers\u001b[0m\u001b[0;34m[\u001b[0m\u001b[0;36m0\u001b[0m\u001b[0;34m]\u001b[0m\u001b[0;34m\u001b[0m\u001b[0;34m\u001b[0m\u001b[0m\n\u001b[0m\u001b[1;32m      2\u001b[0m \u001b[0;34m\u001b[0m\u001b[0m\n\u001b[1;32m      3\u001b[0m \u001b[0mprint\u001b[0m\u001b[0;34m(\u001b[0m\u001b[0manswer\u001b[0m\u001b[0;34m[\u001b[0m\u001b[0;34m'answer'\u001b[0m\u001b[0;34m]\u001b[0m\u001b[0;34m)\u001b[0m\u001b[0;34m\u001b[0m\u001b[0;34m\u001b[0m\u001b[0m\n",
            "\u001b[0;31mKeyError\u001b[0m: 0"
          ]
        }
      ]
    },
    {
      "cell_type": "code",
      "metadata": {
        "id": "W0HTZb4uZFH0"
      },
      "source": [
        "from haystack.pipeline import ExtractiveQAPipeline\n",
        "\n",
        "pipe = ExtractiveQAPipeline(reader, retriever)"
      ],
      "execution_count": null,
      "outputs": []
    },
    {
      "cell_type": "code",
      "metadata": {
        "id": "zHp3RimuZFg8"
      },
      "source": [
        "question = \"How is the bass?\"\n",
        "question = \"Do they sound good?\"\n",
        "question = \"How do they fit?\"\n",
        "answers = pipe.run(query=question, params={\"Retriever\": {\"top_k\": 10}, \n",
        "                                         \"Reader\": {\"top_k\": 5}})\n",
        "\n",
        "print(f\"Question: {answers['query']}\", \"\\n\")\n",
        "\n",
        "for i, answer in enumerate(answers['answers']):\n",
        "    print(f\"Answer {i+1}: {answer['answer']}\")\n",
        "    print(f\"Review snippet: ...{answer['context']}...\")\n",
        "    print()\n"
      ],
      "execution_count": null,
      "outputs": []
    },
    {
      "cell_type": "code",
      "metadata": {
        "colab": {
          "base_uri": "https://localhost:8080/"
        },
        "id": "17lIxY6sZhvL",
        "outputId": "f70a4ac0-93e0-47db-9968-1c43b84e4f93"
      },
      "source": [
        ""
      ],
      "execution_count": 71,
      "outputs": [
        {
          "output_type": "execute_result",
          "data": {
            "text/plain": [
              "{'answers': [{'answer': 'deep and clean',\n",
              "   'context': \"o Michael McDonald's, I Second That Emotion is a treat. The bass is deep and clean, the midrange is good also. On the Temptations, Beauty's Only Skin \",\n",
              "   'document_id': '95d4774e4d845e44d88496529a2d6b86',\n",
              "   'meta': {'aspect': 'high',\n",
              "    'item_id': 'B001EZYMF4',\n",
              "    'qid': 'dcc7d88e532057c89ca60faba58f20a4'},\n",
              "   'offset_end': 82,\n",
              "   'offset_end_in_doc': 2687,\n",
              "   'offset_start': 68,\n",
              "   'offset_start_in_doc': 2673,\n",
              "   'score': 0.843941330909729},\n",
              "  {'answer': 'rich',\n",
              "   'context': \"not have a lot off bass, so all of you people looking for tons of bass, you won't get a ton of it here, but the bass present is rich and sounds great.\",\n",
              "   'document_id': 'c6297226696fbfff2ad8d1dc884dc6f2',\n",
              "   'meta': {'aspect': 'quality',\n",
              "    'item_id': 'B003LPTAYI',\n",
              "    'qid': '50351c918d2812515ec598f4f52f2345'},\n",
              "   'offset_end': 132,\n",
              "   'offset_end_in_doc': 307,\n",
              "   'offset_start': 128,\n",
              "   'offset_start_in_doc': 303,\n",
              "   'score': 0.5839043855667114},\n",
              "  {'answer': 'excellent',\n",
              "   'context': \" $200 headphones, were you would except the best bass, but the bass is excellent for the price. The fact that it's water resistant is even greater. Th\",\n",
              "   'document_id': 'd474b697222f3f0039819dd27028666f',\n",
              "   'meta': {'aspect': 'sound',\n",
              "    'item_id': 'B00DIOALPE',\n",
              "    'qid': '42bece66a3d0a00be9105af153897b03'},\n",
              "   'offset_end': 80,\n",
              "   'offset_end_in_doc': 368,\n",
              "   'offset_start': 71,\n",
              "   'offset_start_in_doc': 359,\n",
              "   'score': 0.5719449520111084}],\n",
              " 'documents': [{'text': \"I bought these thinking, what the heck? 20 bucks? And i was blown away with the sound quality, these headphones have incredible sound quality for an incredible price. They do not have a lot off bass, so all of you people looking for tons of bass, you won't get a ton of it here, but the bass present is rich and sounds great.\", 'score': None, 'question': None, 'meta': {'item_id': 'B003LPTAYI', 'qid': '50351c918d2812515ec598f4f52f2345', 'aspect': 'quality'}, 'embedding': None, 'id': 'c6297226696fbfff2ad8d1dc884dc6f2'},\n",
              "  {'text': \"I don't consider myself an audiofile, but I can still tell the difference between good and bad headphones.  I don't like when speakers/headphones have strong bass, but make everything sound muddy.  These headphones aren't very heavy on the bass, but the bass that it does put out is very clear and solid.  I had a pair of Koss UR-20s that sounded terribly muddy after listening to the HD-202s.\", 'score': None, 'question': None, 'meta': {'item_id': 'B000065BP9', 'qid': 'addd4e38b9756f12640f5174b4942aa4', 'aspect': 'high'}, 'embedding': None, 'id': 'd54b32293f39886b156c492adac4dffb'},\n",
              "  {'text': \"These headphones are my first pair of Bluetooth ear buds. The ear pieces themselves are huge! You really need to adjust it correctly in order to keep it in. Then again, my ears are pretty tiny. I don't know about the other reviews that say the bass is rubbish, when it's amazing. It's not $200 headphones, were you would except the best bass, but the bass is excellent for the price. The fact that it's water resistant is even greater. The battery life is okay for me. I only listen to music about 1-3 hours a day, so it's perfect for me. Call quality isn't that great though. My friends had a hard time hearing me. Still, the best ear buds i have owned in general. I would recommend it.\", 'score': None, 'question': None, 'meta': {'item_id': 'B00DIOALPE', 'qid': '42bece66a3d0a00be9105af153897b03', 'aspect': 'sound'}, 'embedding': None, 'id': 'd474b697222f3f0039819dd27028666f'},\n",
              "  {'text': \"Just really getting into ear phone, ear buds. Recently purchased an I Pad 2 and my son loaned me a pair of  unnamed earbuds. All  I can see is a S on the end of each bud. I was surprised  at how good they sound.My family owns an  iMac, Mac Pro Book, two iPhones and four IPods. Also own one hellava home  theater system. High end Harman Kardon AVR coupled to a Klipsch RF 7  horn loaded speaker system in a 7.1 configuration, Oppo Blu Ray hooked up to a top of the line 50 inch Panasonic Plasma. The Klipsch 12 inch sub literally shakes the pics on the wall. You can feel the bass in the pit of your belly.All that that being said is just to establish I know a little about music and the potential of how it can sound comng from quality equipment. My musical taste are wide, but at heart I am a  R & B purest loving great and funky bass lines. I just opened and hooked the Sennheiser CX  300 II buds up to my IPad II.First impression is they don't sound any better than the buds  my son loaned me. What is annoying so far is they are itching my inner ear canal.  The other buds don't do that.  I just switched them out to recheck again they definitely itch, not a good thing. I do detect an improvement in bass and the tremble is too shrill. I can see ear fatigue coming already. I understand music is recorded across a broad spectrum using various techniques. When you factor in the time span of my music collection, late 1960s until now, one can see it takes versatility to handleball of the content. I can attest that while the music is playing you cannot hear anything outside. My wife was watching a DVD and I could not hear a sound. In fact the bass sound waves fooled me because I could feel them in my belly, but I could not hear anything.I am well aware of burn in as my Klipsch speaker system required it and indeed over time they sounded better. I hope this is the same with these buds. I am not saying they are bad buds at all. I am saying the verdict is still out. At the price point $24, Idon' t see a mistake. Time will tell and I will report my findings as objectively as I can................................................................................................................................................................................................................As promised have had time for burn in and yes they needed several hours of play time to do that. With that said I am a R&B; fanatic. I love the bass runs in great R & B songs. These buds expose the  imperfections  in older recordings. However they handle the newer recorded music wonderfully. Listening to Michael McDonald's, I Second That Emotion is a treat. The bass is deep and clean, the midrange is good also. On the Temptations, Beauty's Only Skin Deep, Jamerisons bass licks are clean, but this is an old recording and these buds reveal the limitations of the equipment.I will definately purchase another pair of this brand.\", 'score': None, 'question': None, 'meta': {'item_id': 'B001EZYMF4', 'qid': 'dcc7d88e532057c89ca60faba58f20a4', 'aspect': 'high'}, 'embedding': None, 'id': '95d4774e4d845e44d88496529a2d6b86'},\n",
              "  {'text': \"Holy hell. How is this even possible? These headphones were like 6 bucks (the white ones are cheaper) and... they have great sound. If you turn them up super loud, there's a little rattling or &#34;fuzz,&#34; but whatever they're 6 dollar ear buds lol. They have seriously impressive bass and the fit is fantastic. I've tried several pairs of ear buds in my life, and I've always thought I had stupid ears because they always fall out. These ARE NOT CYLINDERS. The whole thing is shaped... weird. And it's awesome. SERIOUSLY, THIS BASS DUDE. Get these. These are the ones you want. Jeeze this bass is f****** incredible.\", 'score': None, 'question': None, 'meta': {'item_id': 'B003ELYQGG', 'qid': 'e96c52c090c79767279141acf688b3ab', 'aspect': 'price'}, 'embedding': None, 'id': '4fdbee0a9c7f1b7627228c9f0e3ac9c3'}],\n",
              " 'no_ans_gap': 22.105774879455566,\n",
              " 'node_id': 'Reader',\n",
              " 'params': {'Reader': {'top_k': 3}, 'Retriever': {'top_k': 5}},\n",
              " 'query': 'How is the bass?',\n",
              " 'root_node': 'Query'}"
            ]
          },
          "metadata": {},
          "execution_count": 71
        }
      ]
    },
    {
      "cell_type": "code",
      "metadata": {
        "id": "c3SVM0ZIZcuS"
      },
      "source": [
        ""
      ],
      "execution_count": null,
      "outputs": []
    }
  ]
}