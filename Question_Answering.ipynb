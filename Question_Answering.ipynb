{
  "nbformat": 4,
  "nbformat_minor": 0,
  "metadata": {
    "kernelspec": {
      "display_name": "Python 3",
      "language": "python",
      "name": "python3"
    },
    "language_info": {
      "codemirror_mode": {
        "name": "ipython",
        "version": 3
      },
      "file_extension": ".py",
      "mimetype": "text/x-python",
      "name": "python",
      "nbconvert_exporter": "python",
      "pygments_lexer": "ipython3",
      "version": "3.8.5"
    },
    "varInspector": {
      "cols": {
        "lenName": 16,
        "lenType": 16,
        "lenVar": 40
      },
      "kernels_config": {
        "python": {
          "delete_cmd_postfix": "",
          "delete_cmd_prefix": "del ",
          "library": "var_list.py",
          "varRefreshCmd": "print(var_dic_list())"
        },
        "r": {
          "delete_cmd_postfix": ") ",
          "delete_cmd_prefix": "rm(",
          "library": "var_list.r",
          "varRefreshCmd": "cat(var_dic_list()) "
        }
      },
      "types_to_exclude": [
        "module",
        "function",
        "builtin_function_or_method",
        "instance",
        "_Feature"
      ],
      "window_display": false
    },
    "colab": {
      "name": "Question_Answering.ipynb",
      "provenance": [],
      "collapsed_sections": [],
      "include_colab_link": true
    },
    "accelerator": "GPU"
  },
  "cells": [
    {
      "cell_type": "markdown",
      "metadata": {
        "id": "view-in-github",
        "colab_type": "text"
      },
      "source": [
        "<a href=\"https://colab.research.google.com/github/jsalbr/m3nlp/blob/main/Question_Answering.ipynb\" target=\"_parent\"><img src=\"https://colab.research.google.com/assets/colab-badge.svg\" alt=\"Open In Colab\"/></a>"
      ]
    },
    {
      "cell_type": "markdown",
      "metadata": {
        "id": "BiAcHrZPrBpg"
      },
      "source": [
        "# Question Answering"
      ]
    },
    {
      "cell_type": "markdown",
      "metadata": {
        "id": "BJxDfaburBpm"
      },
      "source": [
        "**Dieses Notebook sollte mit GPU ausgeführt werden.  \n",
        "Dafür bitte zunächst im Menü \"Laufzeit\"->\"Laufzeittyp ändern\"->\"Hardwarebeschleuniger: GPU\" einstellen.**\n",
        "\n",
        "In dieser Version sind bereits alle Zellen ausgeführt.\n",
        "Wer selbst von vorne anfangen will, am besten übers Menü  \n",
        "**\"Bearbeiten\"->\"Alle Ausgaben löschen\"**.\n",
        "\n",
        "<hr/>\n",
        "\n",
        "Credits: Das Notebook verwendet Ideen von\n",
        "  * Natural Language Processing with Transformers von Lewis Tunstall, Leandro von Werra, Thomas Wolf, O'Reilly 2021, https://www.oreilly.com/library/view/natural-language-processing/9781098103231/\n",
        "  * Heise Academy NLP-Kurs von Christian Winkler, https://github.com/heiseacademy/nlp-course/tree/main/09_Transfer_Learning\n",
        "  * Haystack Tutorial von deepset.io, https://github.com/deepset-ai/haystack#mortar_board-tutorials"
      ]
    },
    {
      "cell_type": "markdown",
      "metadata": {
        "id": "LHtRDsDqrBpn"
      },
      "source": [
        "## System vorbereiten\n",
        "\n",
        "### Installation von Transformers und Haystack\n",
        "\n",
        "Achtung: In diesem Notebook werden sowohl die [Transformers-Bibliothek von HuggingFace](https://huggingface.co/transformers/) als auch [Haystack von deepset.ai](https://haystack.deepset.ai/) eingesetzt. \n",
        "\n",
        "Leider haben in der aktuellen Version beide Bibliotheken inkompatible Dependencies.\n",
        "Die Installation hier funktioniert für diese Beispiele, aber es gibt eine Warnung am Ende. In der Praxis kann\n",
        "es daher zu Problemen kommen. Für produktive Zwecke sollte deshalb mit getrennten\n",
        "virtuellen Environments arbeiten.\n",
        "\n",
        "**Geduld:** Die Installation dauert einen Moment."
      ]
    },
    {
      "cell_type": "code",
      "metadata": {
        "id": "LbZyqQ-zqxbh"
      },
      "source": [
        "!pip install -q farm-haystack==0.10.0 grpcio==1.41.0\n",
        "# !pip install transformers==4.12.3 datasets\n",
        "!pip install -q git+https://github.com/huggingface/transformers datasets\n",
        "!pip install readability-lxml"
      ],
      "execution_count": null,
      "outputs": []
    },
    {
      "cell_type": "code",
      "metadata": {
        "id": "PPTt9iVkdzo0"
      },
      "source": [
        "%load_ext autoreload\n",
        "%autoreload 2"
      ],
      "execution_count": 2,
      "outputs": []
    },
    {
      "cell_type": "markdown",
      "metadata": {
        "id": "7g0JuwR2_Vui"
      },
      "source": [
        "### Noch ein paar Standard-Einstellungen setzen ..."
      ]
    },
    {
      "cell_type": "code",
      "metadata": {
        "id": "82D4tSavG7U1"
      },
      "source": [
        "import pandas as pd\n",
        "pd.options.display.max_colwidth = 200 # default 50; -1 = all\n",
        "pd.options.display.float_format = '{:.2f}'.format\n",
        "\n",
        "from textwrap import wrap, fill"
      ],
      "execution_count": 3,
      "outputs": []
    },
    {
      "cell_type": "code",
      "metadata": {
        "id": "sYWJh8F7T8ZY"
      },
      "source": [
        "# suppress warnings\n",
        "import warnings;\n",
        "warnings.filterwarnings('ignore');"
      ],
      "execution_count": 4,
      "outputs": []
    },
    {
      "cell_type": "markdown",
      "metadata": {
        "id": "ui6-tKDZvThZ"
      },
      "source": [
        "### Und eine kleine Anzeige-Funktion ...\n",
        "\n",
        "welche mit Antworten sowohl von Transformer als auch von Haystack umgehen kann."
      ]
    },
    {
      "cell_type": "code",
      "metadata": {
        "id": "c3SVM0ZIZcuS"
      },
      "source": [
        "from IPython.display import display, HTML\n",
        "\n",
        "def display_qa(answers, question='', context='', padding=50):\n",
        "    if type(answers) != list:\n",
        "        answers = [answers]\n",
        "    html = \"<table>\"\n",
        "    if len(question) > 0: \n",
        "        html += f\"<tr><td>Question:</td><td><span style='font-weight:bold'>{question}</span></td></tr>\"\n",
        "        html += f\"<tr><td>&nbsp;<td><td> </td></tr>\"\n",
        "    for a in answers:\n",
        "        if len(a['answer']) > 0:\n",
        "            html += f\"<tr><td>Answer:</td><td><span style='font-weight:bold'>{a['answer']}</span></td></tr>\"\n",
        "        else:\n",
        "            html += f\"<tr><td>Answer:</td><td>answer impossible</td></tr>\"\n",
        "        html += f\"<tr><td>Score:</td><td>{a['score']}</td></tr>\"\n",
        "        start = a.get('start', a.get('offset_start'))\n",
        "        end = a.get('end', a.get('offset_end'))\n",
        "        html += f\"<tr><td>Span:</td><td>{start}:{end}</td></tr>\"\n",
        "        ctx = a.get('context', context)\n",
        "        if len(a['answer']) > 0 and len(ctx) > 0:\n",
        "            left = max(0, start-padding)\n",
        "            right = min(end+padding, len(ctx))\n",
        "            html += \"<tr><td>Snippet:</td><td>\"\n",
        "            html += f\"{ctx[left:start]}<span style='color:blue;font-weight:bold'>\"\n",
        "            html += ctx[start:end]\n",
        "            html += f\"</span>{ctx[end:right]}</td>\"\n",
        "        html += f\"<tr><td>&nbsp;<td><td> </td></tr>\"\n",
        "    html += '</table><br/>'\n",
        "    display(HTML(html))\n"
      ],
      "execution_count": 5,
      "outputs": []
    },
    {
      "cell_type": "markdown",
      "metadata": {
        "id": "UycdkUQf-nHR"
      },
      "source": [
        "## Arbeit mit einem QA-Modell\n",
        "\n",
        "Zunächst nutzen wir die [HuggingFace Transformers Library](https://huggingface.co/transformers/), um mit einem vortrainierten QA-Modell zu arbeiten."
      ]
    },
    {
      "cell_type": "markdown",
      "metadata": {
        "id": "ixsWFe1JKE8Z"
      },
      "source": [
        "### Modell laden\n",
        "\n",
        "Eine Übersicht über die QA-Modelle auf dem HuggingFace Hub gibt's hier:  \n",
        "https://huggingface.co/models?pipeline_tag=question-answering&sort=downloads\n",
        "\n",
        "Wir nutzen dieses, weil es bei den Beispielen sehr gute Ergebnisse geliefert hat:  \n",
        "https://huggingface.co/Sahajtomar/German-question-answer-Electra\n"
      ]
    },
    {
      "cell_type": "code",
      "metadata": {
        "id": "X_NL5XZ8rBpp"
      },
      "source": [
        "from transformers import pipeline\n",
        "\n",
        "model_name = \"Sahajtomar/German-question-answer-Electra\"\n",
        "# device = 0 is GPU\n",
        "qa = pipeline(\"question-answering\", model=model_name, tokenizer=model_name, device=0)"
      ],
      "execution_count": null,
      "outputs": []
    },
    {
      "cell_type": "markdown",
      "metadata": {
        "id": "8goLLPuUrBpq"
      },
      "source": [
        "### Fragen zu Artikel beantworten\n",
        "\n",
        "Zunächst das Grundprinzip: Das Modell beantwortet Fragen basierend auf dem Kontext, z.B. ein Wikipedia-Eintrag, ein News-Artikel oder ein User-Post.\n",
        "\n",
        "Hier geht es um diesen Beispielartikel:  \n",
        "https://www.heise.de/news/Giga-Factory-Berlin-fast-fertig-Erstes-Tesla-Model-Y-noch-dieses-Jahr-6213528.html"
      ]
    },
    {
      "cell_type": "code",
      "metadata": {
        "id": "TXpMJX2QrBpr"
      },
      "source": [
        "context = \"\"\"Giga Factory Berlin fast fertig – Erstes Tesla Model Y noch dieses Jahr\n",
        "\n",
        "Elon Musk hat in knapp zwei Jahren eine riesige Fabrik vor die Tore Berlins gesetzt. \n",
        "Samstag ließ er erstmals Bürger ein. Nicht alle Nachbarn sind begeistert.\n",
        "\n",
        "Der US-Elektroautobauer Tesla will spätestens im Dezember in Deutschland die Produktion \n",
        "für Europa starten. Dies kündigte Firmengründer Elon Musk am Wochenende bei einem Bürgerfest \n",
        "in seinem ersten europäischen Werk bei Berlin an. Kritik von Anwohnern und Umweltschützern \n",
        "an der in nur zwei Jahren konzipierten und errichteten Industrieanlage widersprach er. \n",
        "Ziel sei \"eine wunderschöne Fabrik in Harmonie mit ihrer Umgebung\".\n",
        "\n",
        "Künftig sollen etwa 12.000 Mitarbeiter in Grünheide bis zu 500.000 Elektroautos im Jahr bauen. \n",
        "Dabei will Tesla möglichst viele Teile vor Ort produzieren, um von Zulieferern unabhängig zu sein. \n",
        "Tesla betont vor allem die Bedeutung der eigenen Druckgussanlage und der hochmodernen Lackiererei. \n",
        "Zudem entsteht neben dem Autowerk eine eigene Batteriefabrik.\n",
        "\"\"\".replace('\\n', ' ').strip()"
      ],
      "execution_count": 62,
      "outputs": []
    },
    {
      "cell_type": "markdown",
      "metadata": {
        "id": "_aSpqF20rBps"
      },
      "source": [
        "Jetzt können wir Fragen stellen:"
      ]
    },
    {
      "cell_type": "code",
      "metadata": {
        "id": "SqJyM2-iLu0D",
        "colab": {
          "base_uri": "https://localhost:8080/",
          "height": 35
        },
        "outputId": "0a5933a4-6cfb-4ddf-a03f-5e7ec7b71a66"
      },
      "source": [
        "question=\"Wer ist Elon Musk?\"\n",
        "answer = qa(question=question, context=context)\n",
        "answer['answer']"
      ],
      "execution_count": 63,
      "outputs": [
        {
          "output_type": "execute_result",
          "data": {
            "application/vnd.google.colaboratory.intrinsic+json": {
              "type": "string"
            },
            "text/plain": [
              "'Firmengründer'"
            ]
          },
          "metadata": {},
          "execution_count": 63
        }
      ]
    },
    {
      "cell_type": "code",
      "metadata": {
        "colab": {
          "base_uri": "https://localhost:8080/",
          "height": 35
        },
        "id": "fSdCmPfu2E9Y",
        "outputId": "696a5424-0cf4-4cfe-a87f-7442b8e74c25"
      },
      "source": [
        "question=\"Wer ist der Firmengründer?\"\n",
        "answer = qa(question=question, context=context)\n",
        "answer['answer']"
      ],
      "execution_count": 64,
      "outputs": [
        {
          "output_type": "execute_result",
          "data": {
            "application/vnd.google.colaboratory.intrinsic+json": {
              "type": "string"
            },
            "text/plain": [
              "'Elon Musk'"
            ]
          },
          "metadata": {},
          "execution_count": 64
        }
      ]
    },
    {
      "cell_type": "code",
      "metadata": {
        "colab": {
          "base_uri": "https://localhost:8080/",
          "height": 35
        },
        "id": "P0w5dipK2FGx",
        "outputId": "ebde003d-842e-453d-d7eb-99bae14627ff"
      },
      "source": [
        "question=\"Wer gündete Tesla?\"\n",
        "answer = qa(question=question, context=context)\n",
        "answer['answer']"
      ],
      "execution_count": 65,
      "outputs": [
        {
          "output_type": "execute_result",
          "data": {
            "application/vnd.google.colaboratory.intrinsic+json": {
              "type": "string"
            },
            "text/plain": [
              "'Elon Musk'"
            ]
          },
          "metadata": {},
          "execution_count": 65
        }
      ]
    },
    {
      "cell_type": "code",
      "metadata": {
        "colab": {
          "base_uri": "https://localhost:8080/",
          "height": 181
        },
        "id": "gosB2jogTqwg",
        "outputId": "40d650b1-459b-4f7d-f4cb-ebae157cafb5"
      },
      "source": [
        "question=\"Wer ist begeistert?\"\n",
        "answer = qa(question=question, context=context)\n",
        "display_qa(answer, question, context)"
      ],
      "execution_count": 66,
      "outputs": [
        {
          "output_type": "display_data",
          "data": {
            "text/html": [
              "<table><tr><td>Question:</td><td><span style='font-weight:bold'>Wer ist begeistert?</span></td></tr><tr><td>&nbsp;<td><td> </td></tr><tr><td>Answer:</td><td><span style='font-weight:bold'>Nicht alle Nachbarn</span></td></tr><tr><td>Score:</td><td>0.4621589779853821</td></tr><tr><td>Span:</td><td>196:215</td></tr><tr><td>Snippet:</td><td>ns gesetzt.  Samstag ließ er erstmals Bürger ein. <span style='color:blue;font-weight:bold'>Nicht alle Nachbarn</span> sind begeistert.  Der US-Elektroautobauer Tesla w</td><tr><td>&nbsp;<td><td> </td></tr></table><br/>"
            ],
            "text/plain": [
              "<IPython.core.display.HTML object>"
            ]
          },
          "metadata": {}
        }
      ]
    },
    {
      "cell_type": "code",
      "metadata": {
        "colab": {
          "base_uri": "https://localhost:8080/",
          "height": 181
        },
        "id": "gK52CAGS2Pch",
        "outputId": "91413b4b-79ad-400f-d84d-9f3e67d0ca32"
      },
      "source": [
        "question=\"Wer ist nicht begeistert?\"\n",
        "answer = qa(question=question, context=context)\n",
        "display_qa(answer, question, context)"
      ],
      "execution_count": 67,
      "outputs": [
        {
          "output_type": "display_data",
          "data": {
            "text/html": [
              "<table><tr><td>Question:</td><td><span style='font-weight:bold'>Wer ist nicht begeistert?</span></td></tr><tr><td>&nbsp;<td><td> </td></tr><tr><td>Answer:</td><td><span style='font-weight:bold'>Nachbarn</span></td></tr><tr><td>Score:</td><td>0.5927270650863647</td></tr><tr><td>Span:</td><td>207:215</td></tr><tr><td>Snippet:</td><td>  Samstag ließ er erstmals Bürger ein. Nicht alle <span style='color:blue;font-weight:bold'>Nachbarn</span> sind begeistert.  Der US-Elektroautobauer Tesla w</td><tr><td>&nbsp;<td><td> </td></tr></table><br/>"
            ],
            "text/plain": [
              "<IPython.core.display.HTML object>"
            ]
          },
          "metadata": {}
        }
      ]
    },
    {
      "cell_type": "code",
      "metadata": {
        "colab": {
          "base_uri": "https://localhost:8080/",
          "height": 594
        },
        "id": "1J5yiaenTq3t",
        "outputId": "dd9e5f38-661d-4ce4-f38f-d6b2f9620fc9"
      },
      "source": [
        "question=\"Wie viele?\"\n",
        "answer = qa(question=question, context=context, top_k=5)\n",
        "display_qa(answer, question, context)"
      ],
      "execution_count": 68,
      "outputs": [
        {
          "output_type": "display_data",
          "data": {
            "text/html": [
              "<table><tr><td>Question:</td><td><span style='font-weight:bold'>Wie viele?</span></td></tr><tr><td>&nbsp;<td><td> </td></tr><tr><td>Answer:</td><td><span style='font-weight:bold'>500.000</span></td></tr><tr><td>Score:</td><td>0.6061105728149414</td></tr><tr><td>Span:</td><td>725:732</td></tr><tr><td>Snippet:</td><td>ollen etwa 12.000 Mitarbeiter in Grünheide bis zu <span style='color:blue;font-weight:bold'>500.000</span> Elektroautos im Jahr bauen.  Dabei will Tesla mög</td><tr><td>&nbsp;<td><td> </td></tr><tr><td>Answer:</td><td><span style='font-weight:bold'>bis zu 500.000</span></td></tr><tr><td>Score:</td><td>0.08159097284078598</td></tr><tr><td>Span:</td><td>718:732</td></tr><tr><td>Snippet:</td><td>nftig sollen etwa 12.000 Mitarbeiter in Grünheide <span style='color:blue;font-weight:bold'>bis zu 500.000</span> Elektroautos im Jahr bauen.  Dabei will Tesla mög</td><tr><td>&nbsp;<td><td> </td></tr><tr><td>Answer:</td><td><span style='font-weight:bold'>500.000 Elektroautos im Jahr</span></td></tr><tr><td>Score:</td><td>0.04567702114582062</td></tr><tr><td>Span:</td><td>725:753</td></tr><tr><td>Snippet:</td><td>ollen etwa 12.000 Mitarbeiter in Grünheide bis zu <span style='color:blue;font-weight:bold'>500.000 Elektroautos im Jahr</span> bauen.  Dabei will Tesla möglichst viele Teile vo</td><tr><td>&nbsp;<td><td> </td></tr><tr><td>Answer:</td><td><span style='font-weight:bold'>12.000 Mitarbeiter in Grünheide bis zu 500.000</span></td></tr><tr><td>Score:</td><td>0.030897274613380432</td></tr><tr><td>Span:</td><td>686:732</td></tr><tr><td>Snippet:</td><td>armonie mit ihrer Umgebung\".  Künftig sollen etwa <span style='color:blue;font-weight:bold'>12.000 Mitarbeiter in Grünheide bis zu 500.000</span> Elektroautos im Jahr bauen.  Dabei will Tesla mög</td><tr><td>&nbsp;<td><td> </td></tr><tr><td>Answer:</td><td><span style='font-weight:bold'>bis zu 500.000 Elektroautos im Jahr</span></td></tr><tr><td>Score:</td><td>0.006148767191916704</td></tr><tr><td>Span:</td><td>718:753</td></tr><tr><td>Snippet:</td><td>nftig sollen etwa 12.000 Mitarbeiter in Grünheide <span style='color:blue;font-weight:bold'>bis zu 500.000 Elektroautos im Jahr</span> bauen.  Dabei will Tesla möglichst viele Teile vo</td><tr><td>&nbsp;<td><td> </td></tr></table><br/>"
            ],
            "text/plain": [
              "<IPython.core.display.HTML object>"
            ]
          },
          "metadata": {}
        }
      ]
    },
    {
      "cell_type": "code",
      "metadata": {
        "colab": {
          "base_uri": "https://localhost:8080/",
          "height": 594
        },
        "id": "0gb97_Ff4GaU",
        "outputId": "13abbc9b-45b9-4498-df92-68fdcafe1092"
      },
      "source": [
        "question=\"Wie viele Mitarbeiter?\"\n",
        "answer = qa(question=question, context=context, top_k=5)\n",
        "display_qa(answer, question, context)"
      ],
      "execution_count": 69,
      "outputs": [
        {
          "output_type": "display_data",
          "data": {
            "text/html": [
              "<table><tr><td>Question:</td><td><span style='font-weight:bold'>Wie viele Mitarbeiter?</span></td></tr><tr><td>&nbsp;<td><td> </td></tr><tr><td>Answer:</td><td><span style='font-weight:bold'>12.000</span></td></tr><tr><td>Score:</td><td>0.7894207239151001</td></tr><tr><td>Span:</td><td>686:692</td></tr><tr><td>Snippet:</td><td>armonie mit ihrer Umgebung\".  Künftig sollen etwa <span style='color:blue;font-weight:bold'>12.000</span> Mitarbeiter in Grünheide bis zu 500.000 Elektroau</td><tr><td>&nbsp;<td><td> </td></tr><tr><td>Answer:</td><td><span style='font-weight:bold'>12.000 Mitarbeiter</span></td></tr><tr><td>Score:</td><td>0.11084164679050446</td></tr><tr><td>Span:</td><td>686:704</td></tr><tr><td>Snippet:</td><td>armonie mit ihrer Umgebung\".  Künftig sollen etwa <span style='color:blue;font-weight:bold'>12.000 Mitarbeiter</span> in Grünheide bis zu 500.000 Elektroautos im Jahr </td><tr><td>&nbsp;<td><td> </td></tr><tr><td>Answer:</td><td><span style='font-weight:bold'>etwa 12.000</span></td></tr><tr><td>Score:</td><td>0.049320660531520844</td></tr><tr><td>Span:</td><td>681:692</td></tr><tr><td>Snippet:</td><td> in Harmonie mit ihrer Umgebung\".  Künftig sollen <span style='color:blue;font-weight:bold'>etwa 12.000</span> Mitarbeiter in Grünheide bis zu 500.000 Elektroau</td><tr><td>&nbsp;<td><td> </td></tr><tr><td>Answer:</td><td><span style='font-weight:bold'>etwa 12.000 Mitarbeiter</span></td></tr><tr><td>Score:</td><td>0.00692505668848753</td></tr><tr><td>Span:</td><td>681:704</td></tr><tr><td>Snippet:</td><td> in Harmonie mit ihrer Umgebung\".  Künftig sollen <span style='color:blue;font-weight:bold'>etwa 12.000 Mitarbeiter</span> in Grünheide bis zu 500.000 Elektroautos im Jahr </td><tr><td>&nbsp;<td><td> </td></tr><tr><td>Answer:</td><td><span style='font-weight:bold'>12.000 Mitarbeiter in Grünheide</span></td></tr><tr><td>Score:</td><td>0.003909132443368435</td></tr><tr><td>Span:</td><td>686:717</td></tr><tr><td>Snippet:</td><td>armonie mit ihrer Umgebung\".  Künftig sollen etwa <span style='color:blue;font-weight:bold'>12.000 Mitarbeiter in Grünheide</span> bis zu 500.000 Elektroautos im Jahr bauen.  Dabei</td><tr><td>&nbsp;<td><td> </td></tr></table><br/>"
            ],
            "text/plain": [
              "<IPython.core.display.HTML object>"
            ]
          },
          "metadata": {}
        }
      ]
    },
    {
      "cell_type": "markdown",
      "metadata": {
        "id": "QLpj6VOurBpu"
      },
      "source": [
        "### Fragen zu <img src=\"https://upload.wikimedia.org/wikipedia/commons/thumb/2/2e/Game_of_Thrones_2011_logo.svg/420px-Game_of_Thrones_2011_logo.svg.png\" width=\"150\"/> beantworten\n",
        "\n",
        "Für einen längeren Text einen sich Wikipedia-Artikel, wie hier dieser zu \"Game of Thrones\":  \n",
        "https://de.wikipedia.org/wiki/Game_of_Thrones\n",
        "\n"
      ]
    },
    {
      "cell_type": "code",
      "metadata": {
        "id": "vR6FIQHmrBpu",
        "colab": {
          "base_uri": "https://localhost:8080/"
        },
        "outputId": "2c30fa82-d875-45cb-c1cb-f826c18b746c"
      },
      "source": [
        "from readability import Document\n",
        "import requests\n",
        "from bs4 import BeautifulSoup\n",
        "doc = Document(requests.get(\"https://de.wikipedia.org/wiki/Game_of_Thrones\", stream=True).text)\n",
        "soup = BeautifulSoup(doc.summary())            \n",
        "context = soup.text\n",
        "len(context)"
      ],
      "execution_count": 25,
      "outputs": [
        {
          "output_type": "execute_result",
          "data": {
            "text/plain": [
              "99932"
            ]
          },
          "metadata": {},
          "execution_count": 25
        }
      ]
    },
    {
      "cell_type": "markdown",
      "metadata": {
        "id": "ZYBd7bUKrBpv"
      },
      "source": [
        "Das sind ca. 100kB!"
      ]
    },
    {
      "cell_type": "code",
      "metadata": {
        "id": "4y80FzBM3ahg",
        "colab": {
          "base_uri": "https://localhost:8080/",
          "height": 181
        },
        "outputId": "d2ea5d0b-831e-4e49-f000-914af9b00d86"
      },
      "source": [
        "question=\"Wer sind die Geschwister von Arya?\"\n",
        "answer = qa(question=question, context=context)\n",
        "display_qa(answer, question, context)"
      ],
      "execution_count": 26,
      "outputs": [
        {
          "output_type": "display_data",
          "data": {
            "text/html": [
              "<table><tr><td>Question:</td><td><span style='font-weight:bold'>Wer sind die Geschwister von Arya?</span></td></tr><tr><td>&nbsp;<td><td> </td></tr><tr><td>Answer:</td><td><span style='font-weight:bold'>Sansa, Jon und Bran</span></td></tr><tr><td>Score:</td><td>0.9651893377304077</td></tr><tr><td>Span:</td><td>39136:39155</td></tr><tr><td>Snippet:</td><td>andei, vor. Arya setzt die Segel, nachdem sie vor <span style='color:blue;font-weight:bold'>Sansa, Jon und Bran</span> angekündigt hat, die Welt westlich von Westeros z</td><tr><td>&nbsp;<td><td> </td></tr></table><br/>"
            ],
            "text/plain": [
              "<IPython.core.display.HTML object>"
            ]
          },
          "metadata": {}
        }
      ]
    },
    {
      "cell_type": "code",
      "metadata": {
        "id": "dohqqYhSBVPy",
        "colab": {
          "base_uri": "https://localhost:8080/",
          "height": 181
        },
        "outputId": "d556386f-1d92-4d1d-aa50-36ee53031ed0"
      },
      "source": [
        "question=\"Wer Tyrion Lennister?\"\n",
        "answer = qa(question=question, context=context)\n",
        "display_qa(answer, question, context)"
      ],
      "execution_count": 27,
      "outputs": [
        {
          "output_type": "display_data",
          "data": {
            "text/html": [
              "<table><tr><td>Question:</td><td><span style='font-weight:bold'>Wer Tyrion Lennister?</span></td></tr><tr><td>&nbsp;<td><td> </td></tr><tr><td>Answer:</td><td><span style='font-weight:bold'>Peter Dinklage</span></td></tr><tr><td>Score:</td><td>0.9686539173126221</td></tr><tr><td>Span:</td><td>59797:59811</td></tr><tr><td>Snippet:</td><td>ch und irisch. Am 5. Mai 2009 wurde bekannt, dass <span style='color:blue;font-weight:bold'>Peter Dinklage</span> für die Rolle des Tyrion Lennister in der Serie u</td><tr><td>&nbsp;<td><td> </td></tr></table><br/>"
            ],
            "text/plain": [
              "<IPython.core.display.HTML object>"
            ]
          },
          "metadata": {}
        }
      ]
    },
    {
      "cell_type": "code",
      "metadata": {
        "id": "d-VVEdslrBpv",
        "colab": {
          "base_uri": "https://localhost:8080/",
          "height": 594
        },
        "outputId": "f43aa70e-4125-44f6-e700-e4dad90e4283"
      },
      "source": [
        "question=\"Wer Tyrion?\"\n",
        "answer = qa(question=question, context=context, top_k=5, max_seq_len=256, doc_stride=0)\n",
        "display_qa(answer, question, context)"
      ],
      "execution_count": 30,
      "outputs": [
        {
          "output_type": "display_data",
          "data": {
            "text/html": [
              "<table><tr><td>Question:</td><td><span style='font-weight:bold'>Wer Tyrion?</span></td></tr><tr><td>&nbsp;<td><td> </td></tr><tr><td>Answer:</td><td><span style='font-weight:bold'>Peter Dinklage</span></td></tr><tr><td>Score:</td><td>0.8144788146018982</td></tr><tr><td>Span:</td><td>59797:59811</td></tr><tr><td>Snippet:</td><td>ch und irisch. Am 5. Mai 2009 wurde bekannt, dass <span style='color:blue;font-weight:bold'>Peter Dinklage</span> für die Rolle des Tyrion Lennister in der Serie u</td><tr><td>&nbsp;<td><td> </td></tr><tr><td>Answer:</td><td><span style='font-weight:bold'>Lannister</span></td></tr><tr><td>Score:</td><td>0.662804365158081</td></tr><tr><td>Span:</td><td>38221:38230</td></tr><tr><td>Snippet:</td><td>Reich ihm selbst unklar ist – zusammen mit Tyrion <span style='color:blue;font-weight:bold'>Lannister</span> und Grauer Wurm, was mit dem Reich passieren soll</td><tr><td>&nbsp;<td><td> </td></tr><tr><td>Answer:</td><td><span style='font-weight:bold'>Meister der Münze</span></td></tr><tr><td>Score:</td><td>0.5639331340789795</td></tr><tr><td>Span:</td><td>16292:16309</td></tr><tr><td>Snippet:</td><td>Catelyns traumatisiert ist. Wenngleich Tyrion nun <span style='color:blue;font-weight:bold'>Meister der Münze</span> ist, ist er am Hof weiterhin faktisch isoliert, w</td><tr><td>&nbsp;<td><td> </td></tr><tr><td>Answer:</td><td><span style='font-weight:bold'>Tywin Shae</span></td></tr><tr><td>Score:</td><td>0.44026118516921997</td></tr><tr><td>Span:</td><td>20741:20751</td></tr><tr><td>Snippet:</td><td>hn als Lennister aber nicht hinrichten werde. Als <span style='color:blue;font-weight:bold'>Tywin Shae</span> wiederholt als Hure bezeichnet, tötet Tyrion sein</td><tr><td>&nbsp;<td><td> </td></tr><tr><td>Answer:</td><td><span style='font-weight:bold'>Söhne der Harpyie</span></td></tr><tr><td>Score:</td><td>0.3489898443222046</td></tr><tr><td>Span:</td><td>25735:25752</td></tr><tr><td>Snippet:</td><td>g mit den Sklavenhaltern auszuhandeln, da sie die <span style='color:blue;font-weight:bold'>Söhne der Harpyie</span> zu unterstützen scheinen.\n",
              "\n",
              "Die sechste Staffel is</td><tr><td>&nbsp;<td><td> </td></tr></table><br/>"
            ],
            "text/plain": [
              "<IPython.core.display.HTML object>"
            ]
          },
          "metadata": {}
        }
      ]
    },
    {
      "cell_type": "markdown",
      "metadata": {
        "id": "EeG6JoZlxxeK"
      },
      "source": [
        "## Deep Dive"
      ]
    },
    {
      "cell_type": "code",
      "metadata": {
        "id": "4aGtHovrx3Y4",
        "colab": {
          "base_uri": "https://localhost:8080/",
          "height": 181
        },
        "outputId": "065eb518-3afe-4094-be72-12ff50c291f6"
      },
      "source": [
        "question = \"Wie viele Menschen leben in Berlin?\"\n",
        "context = \"In Deutschland leben ca. 80 Millionen Menschen, allein in Berlin ca. 4 Mio.\"\n",
        "\n",
        "answer = qa(question=question, context=context)\n",
        "display_qa(answer, question, context, padding=1000)"
      ],
      "execution_count": 51,
      "outputs": [
        {
          "output_type": "display_data",
          "data": {
            "text/html": [
              "<table><tr><td>Question:</td><td><span style='font-weight:bold'>Wie viele Menschen leben in Berlin?</span></td></tr><tr><td>&nbsp;<td><td> </td></tr><tr><td>Answer:</td><td><span style='font-weight:bold'>4 Mio</span></td></tr><tr><td>Score:</td><td>0.7652897238731384</td></tr><tr><td>Span:</td><td>69:74</td></tr><tr><td>Snippet:</td><td>In Deutschland leben ca. 80 Millionen Menschen, allein in Berlin ca. <span style='color:blue;font-weight:bold'>4 Mio</span>.</td><tr><td>&nbsp;<td><td> </td></tr></table><br/>"
            ],
            "text/plain": [
              "<IPython.core.display.HTML object>"
            ]
          },
          "metadata": {}
        }
      ]
    },
    {
      "cell_type": "code",
      "metadata": {
        "id": "nv9P3n1RCAju"
      },
      "source": [
        "model_name = \"Sahajtomar/German-question-answer-Electra\""
      ],
      "execution_count": 52,
      "outputs": []
    },
    {
      "cell_type": "code",
      "metadata": {
        "id": "MV13EejOxt48",
        "colab": {
          "base_uri": "https://localhost:8080/"
        },
        "outputId": "ac7396d8-8268-4248-f1eb-1dd0390bcf13"
      },
      "source": [
        "from transformers import AutoTokenizer\n",
        "\n",
        "tokenizer = AutoTokenizer.from_pretrained(model_name)\n",
        "inputs = tokenizer(question, context, return_tensors=\"pt\");\n",
        "inputs"
      ],
      "execution_count": 53,
      "outputs": [
        {
          "output_type": "execute_result",
          "data": {
            "text/plain": [
              "{'input_ids': tensor([[ 102,  755, 1358, 1021, 2294,  153, 1270, 1992,  103,  259, 1110, 2294,\n",
              "         3416,  566, 3243, 1779, 1021,  818, 3385,  153, 1270, 3416,  566,  470,\n",
              "         3754,  566,  103]]), 'token_type_ids': tensor([[0, 0, 0, 0, 0, 0, 0, 0, 0, 1, 1, 1, 1, 1, 1, 1, 1, 1, 1, 1, 1, 1, 1, 1,\n",
              "         1, 1, 1]]), 'attention_mask': tensor([[1, 1, 1, 1, 1, 1, 1, 1, 1, 1, 1, 1, 1, 1, 1, 1, 1, 1, 1, 1, 1, 1, 1, 1,\n",
              "         1, 1, 1]])}"
            ]
          },
          "metadata": {},
          "execution_count": 53
        }
      ]
    },
    {
      "cell_type": "code",
      "metadata": {
        "id": "1HGIkZWyzyrS",
        "colab": {
          "base_uri": "https://localhost:8080/",
          "height": 172
        },
        "outputId": "00e1f742-2b33-4f2b-e460-7ecd582dac01"
      },
      "source": [
        "input_df = pd.DataFrame(\n",
        "    [tokenizer.convert_ids_to_tokens(inputs[\"input_ids\"][0]),\n",
        "     inputs['input_ids'][0].numpy(),\n",
        "     inputs['token_type_ids'][0].numpy(),\n",
        "     inputs['attention_mask'][0].numpy()]).T\n",
        "\n",
        "input_df.columns=['token', 'id', 'type', 'attn']\n",
        "input_df.T"
      ],
      "execution_count": 54,
      "outputs": [
        {
          "output_type": "execute_result",
          "data": {
            "text/html": [
              "<div>\n",
              "<style scoped>\n",
              "    .dataframe tbody tr th:only-of-type {\n",
              "        vertical-align: middle;\n",
              "    }\n",
              "\n",
              "    .dataframe tbody tr th {\n",
              "        vertical-align: top;\n",
              "    }\n",
              "\n",
              "    .dataframe thead th {\n",
              "        text-align: right;\n",
              "    }\n",
              "</style>\n",
              "<table border=\"1\" class=\"dataframe\">\n",
              "  <thead>\n",
              "    <tr style=\"text-align: right;\">\n",
              "      <th></th>\n",
              "      <th>0</th>\n",
              "      <th>1</th>\n",
              "      <th>2</th>\n",
              "      <th>3</th>\n",
              "      <th>4</th>\n",
              "      <th>5</th>\n",
              "      <th>6</th>\n",
              "      <th>7</th>\n",
              "      <th>8</th>\n",
              "      <th>9</th>\n",
              "      <th>10</th>\n",
              "      <th>11</th>\n",
              "      <th>12</th>\n",
              "      <th>13</th>\n",
              "      <th>14</th>\n",
              "      <th>15</th>\n",
              "      <th>16</th>\n",
              "      <th>17</th>\n",
              "      <th>18</th>\n",
              "      <th>19</th>\n",
              "      <th>20</th>\n",
              "      <th>21</th>\n",
              "      <th>22</th>\n",
              "      <th>23</th>\n",
              "      <th>24</th>\n",
              "      <th>25</th>\n",
              "      <th>26</th>\n",
              "    </tr>\n",
              "  </thead>\n",
              "  <tbody>\n",
              "    <tr>\n",
              "      <th>token</th>\n",
              "      <td>[CLS]</td>\n",
              "      <td>Wie</td>\n",
              "      <td>viele</td>\n",
              "      <td>Menschen</td>\n",
              "      <td>leben</td>\n",
              "      <td>in</td>\n",
              "      <td>Berlin</td>\n",
              "      <td>?</td>\n",
              "      <td>[SEP]</td>\n",
              "      <td>In</td>\n",
              "      <td>Deutschland</td>\n",
              "      <td>leben</td>\n",
              "      <td>ca</td>\n",
              "      <td>.</td>\n",
              "      <td>80</td>\n",
              "      <td>Millionen</td>\n",
              "      <td>Menschen</td>\n",
              "      <td>,</td>\n",
              "      <td>allein</td>\n",
              "      <td>in</td>\n",
              "      <td>Berlin</td>\n",
              "      <td>ca</td>\n",
              "      <td>.</td>\n",
              "      <td>4</td>\n",
              "      <td>Mio</td>\n",
              "      <td>.</td>\n",
              "      <td>[SEP]</td>\n",
              "    </tr>\n",
              "    <tr>\n",
              "      <th>id</th>\n",
              "      <td>102</td>\n",
              "      <td>755</td>\n",
              "      <td>1358</td>\n",
              "      <td>1021</td>\n",
              "      <td>2294</td>\n",
              "      <td>153</td>\n",
              "      <td>1270</td>\n",
              "      <td>1992</td>\n",
              "      <td>103</td>\n",
              "      <td>259</td>\n",
              "      <td>1110</td>\n",
              "      <td>2294</td>\n",
              "      <td>3416</td>\n",
              "      <td>566</td>\n",
              "      <td>3243</td>\n",
              "      <td>1779</td>\n",
              "      <td>1021</td>\n",
              "      <td>818</td>\n",
              "      <td>3385</td>\n",
              "      <td>153</td>\n",
              "      <td>1270</td>\n",
              "      <td>3416</td>\n",
              "      <td>566</td>\n",
              "      <td>470</td>\n",
              "      <td>3754</td>\n",
              "      <td>566</td>\n",
              "      <td>103</td>\n",
              "    </tr>\n",
              "    <tr>\n",
              "      <th>type</th>\n",
              "      <td>0</td>\n",
              "      <td>0</td>\n",
              "      <td>0</td>\n",
              "      <td>0</td>\n",
              "      <td>0</td>\n",
              "      <td>0</td>\n",
              "      <td>0</td>\n",
              "      <td>0</td>\n",
              "      <td>0</td>\n",
              "      <td>1</td>\n",
              "      <td>1</td>\n",
              "      <td>1</td>\n",
              "      <td>1</td>\n",
              "      <td>1</td>\n",
              "      <td>1</td>\n",
              "      <td>1</td>\n",
              "      <td>1</td>\n",
              "      <td>1</td>\n",
              "      <td>1</td>\n",
              "      <td>1</td>\n",
              "      <td>1</td>\n",
              "      <td>1</td>\n",
              "      <td>1</td>\n",
              "      <td>1</td>\n",
              "      <td>1</td>\n",
              "      <td>1</td>\n",
              "      <td>1</td>\n",
              "    </tr>\n",
              "    <tr>\n",
              "      <th>attn</th>\n",
              "      <td>1</td>\n",
              "      <td>1</td>\n",
              "      <td>1</td>\n",
              "      <td>1</td>\n",
              "      <td>1</td>\n",
              "      <td>1</td>\n",
              "      <td>1</td>\n",
              "      <td>1</td>\n",
              "      <td>1</td>\n",
              "      <td>1</td>\n",
              "      <td>1</td>\n",
              "      <td>1</td>\n",
              "      <td>1</td>\n",
              "      <td>1</td>\n",
              "      <td>1</td>\n",
              "      <td>1</td>\n",
              "      <td>1</td>\n",
              "      <td>1</td>\n",
              "      <td>1</td>\n",
              "      <td>1</td>\n",
              "      <td>1</td>\n",
              "      <td>1</td>\n",
              "      <td>1</td>\n",
              "      <td>1</td>\n",
              "      <td>1</td>\n",
              "      <td>1</td>\n",
              "      <td>1</td>\n",
              "    </tr>\n",
              "  </tbody>\n",
              "</table>\n",
              "</div>"
            ],
            "text/plain": [
              "          0    1      2         3      4   ...   22   23    24   25     26\n",
              "token  [CLS]  Wie  viele  Menschen  leben  ...    .    4   Mio    .  [SEP]\n",
              "id       102  755   1358      1021   2294  ...  566  470  3754  566    103\n",
              "type       0    0      0         0      0  ...    1    1     1    1      1\n",
              "attn       1    1      1         1      1  ...    1    1     1    1      1\n",
              "\n",
              "[4 rows x 27 columns]"
            ]
          },
          "metadata": {},
          "execution_count": 54
        }
      ]
    },
    {
      "cell_type": "code",
      "metadata": {
        "id": "Asiv5QBdyUEe"
      },
      "source": [
        "from transformers import AutoModelForQuestionAnswering\n",
        "\n",
        "model = AutoModelForQuestionAnswering.from_pretrained(model_name)\n",
        "outputs = model(**inputs)"
      ],
      "execution_count": 55,
      "outputs": []
    },
    {
      "cell_type": "code",
      "metadata": {
        "id": "xub8I82cBQn9",
        "colab": {
          "base_uri": "https://localhost:8080/",
          "height": 603
        },
        "outputId": "0ed88db1-fa36-425f-936e-56bb8013c536"
      },
      "source": [
        "def maxval_in_col(column):    \n",
        "    highlight = 'background-color: palegreen;'\n",
        "    return [highlight if v == column.max() else '' for v in column]\n",
        "\n",
        "output_df = pd.concat([input_df, \n",
        "                       pd.Series(outputs['start_logits'][0].detach(), name='start'),\n",
        "                       pd.Series(outputs['end_logits'][0].detach(), name='end')], axis=1)\n",
        "\n",
        "# answer span must be in context (type==1)\n",
        "output_df.query('type==1')[['token', 'start', 'end']].style.apply(maxval_in_col, subset=['start', 'end'], axis=0)"
      ],
      "execution_count": 56,
      "outputs": [
        {
          "output_type": "execute_result",
          "data": {
            "text/html": [
              "<style  type=\"text/css\" >\n",
              "#T_8d6c56c6_415f_11ec_9761_0242ac1c0002row14_col1,#T_8d6c56c6_415f_11ec_9761_0242ac1c0002row15_col2{\n",
              "            background-color:  palegreen;\n",
              "        }</style><table id=\"T_8d6c56c6_415f_11ec_9761_0242ac1c0002\" class=\"dataframe\"><thead>    <tr>        <th class=\"blank level0\" ></th>        <th class=\"col_heading level0 col0\" >token</th>        <th class=\"col_heading level0 col1\" >start</th>        <th class=\"col_heading level0 col2\" >end</th>    </tr></thead><tbody>\n",
              "                <tr>\n",
              "                        <th id=\"T_8d6c56c6_415f_11ec_9761_0242ac1c0002level0_row0\" class=\"row_heading level0 row0\" >9</th>\n",
              "                        <td id=\"T_8d6c56c6_415f_11ec_9761_0242ac1c0002row0_col0\" class=\"data row0 col0\" >In</td>\n",
              "                        <td id=\"T_8d6c56c6_415f_11ec_9761_0242ac1c0002row0_col1\" class=\"data row0 col1\" >-1.952163</td>\n",
              "                        <td id=\"T_8d6c56c6_415f_11ec_9761_0242ac1c0002row0_col2\" class=\"data row0 col2\" >-4.381449</td>\n",
              "            </tr>\n",
              "            <tr>\n",
              "                        <th id=\"T_8d6c56c6_415f_11ec_9761_0242ac1c0002level0_row1\" class=\"row_heading level0 row1\" >10</th>\n",
              "                        <td id=\"T_8d6c56c6_415f_11ec_9761_0242ac1c0002row1_col0\" class=\"data row1 col0\" >Deutschland</td>\n",
              "                        <td id=\"T_8d6c56c6_415f_11ec_9761_0242ac1c0002row1_col1\" class=\"data row1 col1\" >-2.193250</td>\n",
              "                        <td id=\"T_8d6c56c6_415f_11ec_9761_0242ac1c0002row1_col2\" class=\"data row1 col2\" >-3.163343</td>\n",
              "            </tr>\n",
              "            <tr>\n",
              "                        <th id=\"T_8d6c56c6_415f_11ec_9761_0242ac1c0002level0_row2\" class=\"row_heading level0 row2\" >11</th>\n",
              "                        <td id=\"T_8d6c56c6_415f_11ec_9761_0242ac1c0002row2_col0\" class=\"data row2 col0\" >leben</td>\n",
              "                        <td id=\"T_8d6c56c6_415f_11ec_9761_0242ac1c0002row2_col1\" class=\"data row2 col1\" >-3.289760</td>\n",
              "                        <td id=\"T_8d6c56c6_415f_11ec_9761_0242ac1c0002row2_col2\" class=\"data row2 col2\" >-3.758742</td>\n",
              "            </tr>\n",
              "            <tr>\n",
              "                        <th id=\"T_8d6c56c6_415f_11ec_9761_0242ac1c0002level0_row3\" class=\"row_heading level0 row3\" >12</th>\n",
              "                        <td id=\"T_8d6c56c6_415f_11ec_9761_0242ac1c0002row3_col0\" class=\"data row3 col0\" >ca</td>\n",
              "                        <td id=\"T_8d6c56c6_415f_11ec_9761_0242ac1c0002row3_col1\" class=\"data row3 col1\" >-2.033132</td>\n",
              "                        <td id=\"T_8d6c56c6_415f_11ec_9761_0242ac1c0002row3_col2\" class=\"data row3 col2\" >-5.251160</td>\n",
              "            </tr>\n",
              "            <tr>\n",
              "                        <th id=\"T_8d6c56c6_415f_11ec_9761_0242ac1c0002level0_row4\" class=\"row_heading level0 row4\" >13</th>\n",
              "                        <td id=\"T_8d6c56c6_415f_11ec_9761_0242ac1c0002row4_col0\" class=\"data row4 col0\" >.</td>\n",
              "                        <td id=\"T_8d6c56c6_415f_11ec_9761_0242ac1c0002row4_col1\" class=\"data row4 col1\" >-4.505715</td>\n",
              "                        <td id=\"T_8d6c56c6_415f_11ec_9761_0242ac1c0002row4_col2\" class=\"data row4 col2\" >-4.682586</td>\n",
              "            </tr>\n",
              "            <tr>\n",
              "                        <th id=\"T_8d6c56c6_415f_11ec_9761_0242ac1c0002level0_row5\" class=\"row_heading level0 row5\" >14</th>\n",
              "                        <td id=\"T_8d6c56c6_415f_11ec_9761_0242ac1c0002row5_col0\" class=\"data row5 col0\" >80</td>\n",
              "                        <td id=\"T_8d6c56c6_415f_11ec_9761_0242ac1c0002row5_col1\" class=\"data row5 col1\" >-1.377596</td>\n",
              "                        <td id=\"T_8d6c56c6_415f_11ec_9761_0242ac1c0002row5_col2\" class=\"data row5 col2\" >-3.567362</td>\n",
              "            </tr>\n",
              "            <tr>\n",
              "                        <th id=\"T_8d6c56c6_415f_11ec_9761_0242ac1c0002level0_row6\" class=\"row_heading level0 row6\" >15</th>\n",
              "                        <td id=\"T_8d6c56c6_415f_11ec_9761_0242ac1c0002row6_col0\" class=\"data row6 col0\" >Millionen</td>\n",
              "                        <td id=\"T_8d6c56c6_415f_11ec_9761_0242ac1c0002row6_col1\" class=\"data row6 col1\" >-3.356760</td>\n",
              "                        <td id=\"T_8d6c56c6_415f_11ec_9761_0242ac1c0002row6_col2\" class=\"data row6 col2\" >-1.489960</td>\n",
              "            </tr>\n",
              "            <tr>\n",
              "                        <th id=\"T_8d6c56c6_415f_11ec_9761_0242ac1c0002level0_row7\" class=\"row_heading level0 row7\" >16</th>\n",
              "                        <td id=\"T_8d6c56c6_415f_11ec_9761_0242ac1c0002row7_col0\" class=\"data row7 col0\" >Menschen</td>\n",
              "                        <td id=\"T_8d6c56c6_415f_11ec_9761_0242ac1c0002row7_col1\" class=\"data row7 col1\" >-2.762764</td>\n",
              "                        <td id=\"T_8d6c56c6_415f_11ec_9761_0242ac1c0002row7_col2\" class=\"data row7 col2\" >-1.144014</td>\n",
              "            </tr>\n",
              "            <tr>\n",
              "                        <th id=\"T_8d6c56c6_415f_11ec_9761_0242ac1c0002level0_row8\" class=\"row_heading level0 row8\" >17</th>\n",
              "                        <td id=\"T_8d6c56c6_415f_11ec_9761_0242ac1c0002row8_col0\" class=\"data row8 col0\" >,</td>\n",
              "                        <td id=\"T_8d6c56c6_415f_11ec_9761_0242ac1c0002row8_col1\" class=\"data row8 col1\" >-2.974908</td>\n",
              "                        <td id=\"T_8d6c56c6_415f_11ec_9761_0242ac1c0002row8_col2\" class=\"data row8 col2\" >-2.032700</td>\n",
              "            </tr>\n",
              "            <tr>\n",
              "                        <th id=\"T_8d6c56c6_415f_11ec_9761_0242ac1c0002level0_row9\" class=\"row_heading level0 row9\" >18</th>\n",
              "                        <td id=\"T_8d6c56c6_415f_11ec_9761_0242ac1c0002row9_col0\" class=\"data row9 col0\" >allein</td>\n",
              "                        <td id=\"T_8d6c56c6_415f_11ec_9761_0242ac1c0002row9_col1\" class=\"data row9 col1\" >-0.383163</td>\n",
              "                        <td id=\"T_8d6c56c6_415f_11ec_9761_0242ac1c0002row9_col2\" class=\"data row9 col2\" >-1.318787</td>\n",
              "            </tr>\n",
              "            <tr>\n",
              "                        <th id=\"T_8d6c56c6_415f_11ec_9761_0242ac1c0002level0_row10\" class=\"row_heading level0 row10\" >19</th>\n",
              "                        <td id=\"T_8d6c56c6_415f_11ec_9761_0242ac1c0002row10_col0\" class=\"data row10 col0\" >in</td>\n",
              "                        <td id=\"T_8d6c56c6_415f_11ec_9761_0242ac1c0002row10_col1\" class=\"data row10 col1\" >-0.806166</td>\n",
              "                        <td id=\"T_8d6c56c6_415f_11ec_9761_0242ac1c0002row10_col2\" class=\"data row10 col2\" >-3.390910</td>\n",
              "            </tr>\n",
              "            <tr>\n",
              "                        <th id=\"T_8d6c56c6_415f_11ec_9761_0242ac1c0002level0_row11\" class=\"row_heading level0 row11\" >20</th>\n",
              "                        <td id=\"T_8d6c56c6_415f_11ec_9761_0242ac1c0002row11_col0\" class=\"data row11 col0\" >Berlin</td>\n",
              "                        <td id=\"T_8d6c56c6_415f_11ec_9761_0242ac1c0002row11_col1\" class=\"data row11 col1\" >1.934813</td>\n",
              "                        <td id=\"T_8d6c56c6_415f_11ec_9761_0242ac1c0002row11_col2\" class=\"data row11 col2\" >-0.390681</td>\n",
              "            </tr>\n",
              "            <tr>\n",
              "                        <th id=\"T_8d6c56c6_415f_11ec_9761_0242ac1c0002level0_row12\" class=\"row_heading level0 row12\" >21</th>\n",
              "                        <td id=\"T_8d6c56c6_415f_11ec_9761_0242ac1c0002row12_col0\" class=\"data row12 col0\" >ca</td>\n",
              "                        <td id=\"T_8d6c56c6_415f_11ec_9761_0242ac1c0002row12_col1\" class=\"data row12 col1\" >5.136734</td>\n",
              "                        <td id=\"T_8d6c56c6_415f_11ec_9761_0242ac1c0002row12_col2\" class=\"data row12 col2\" >-1.169564</td>\n",
              "            </tr>\n",
              "            <tr>\n",
              "                        <th id=\"T_8d6c56c6_415f_11ec_9761_0242ac1c0002level0_row13\" class=\"row_heading level0 row13\" >22</th>\n",
              "                        <td id=\"T_8d6c56c6_415f_11ec_9761_0242ac1c0002row13_col0\" class=\"data row13 col0\" >.</td>\n",
              "                        <td id=\"T_8d6c56c6_415f_11ec_9761_0242ac1c0002row13_col1\" class=\"data row13 col1\" >-0.237602</td>\n",
              "                        <td id=\"T_8d6c56c6_415f_11ec_9761_0242ac1c0002row13_col2\" class=\"data row13 col2\" >-1.378806</td>\n",
              "            </tr>\n",
              "            <tr>\n",
              "                        <th id=\"T_8d6c56c6_415f_11ec_9761_0242ac1c0002level0_row14\" class=\"row_heading level0 row14\" >23</th>\n",
              "                        <td id=\"T_8d6c56c6_415f_11ec_9761_0242ac1c0002row14_col0\" class=\"data row14 col0\" >4</td>\n",
              "                        <td id=\"T_8d6c56c6_415f_11ec_9761_0242ac1c0002row14_col1\" class=\"data row14 col1\" >6.672828</td>\n",
              "                        <td id=\"T_8d6c56c6_415f_11ec_9761_0242ac1c0002row14_col2\" class=\"data row14 col2\" >1.256868</td>\n",
              "            </tr>\n",
              "            <tr>\n",
              "                        <th id=\"T_8d6c56c6_415f_11ec_9761_0242ac1c0002level0_row15\" class=\"row_heading level0 row15\" >24</th>\n",
              "                        <td id=\"T_8d6c56c6_415f_11ec_9761_0242ac1c0002row15_col0\" class=\"data row15 col0\" >Mio</td>\n",
              "                        <td id=\"T_8d6c56c6_415f_11ec_9761_0242ac1c0002row15_col1\" class=\"data row15 col1\" >1.082222</td>\n",
              "                        <td id=\"T_8d6c56c6_415f_11ec_9761_0242ac1c0002row15_col2\" class=\"data row15 col2\" >6.724673</td>\n",
              "            </tr>\n",
              "            <tr>\n",
              "                        <th id=\"T_8d6c56c6_415f_11ec_9761_0242ac1c0002level0_row16\" class=\"row_heading level0 row16\" >25</th>\n",
              "                        <td id=\"T_8d6c56c6_415f_11ec_9761_0242ac1c0002row16_col0\" class=\"data row16 col0\" >.</td>\n",
              "                        <td id=\"T_8d6c56c6_415f_11ec_9761_0242ac1c0002row16_col1\" class=\"data row16 col1\" >-2.276946</td>\n",
              "                        <td id=\"T_8d6c56c6_415f_11ec_9761_0242ac1c0002row16_col2\" class=\"data row16 col2\" >3.808565</td>\n",
              "            </tr>\n",
              "            <tr>\n",
              "                        <th id=\"T_8d6c56c6_415f_11ec_9761_0242ac1c0002level0_row17\" class=\"row_heading level0 row17\" >26</th>\n",
              "                        <td id=\"T_8d6c56c6_415f_11ec_9761_0242ac1c0002row17_col0\" class=\"data row17 col0\" >[SEP]</td>\n",
              "                        <td id=\"T_8d6c56c6_415f_11ec_9761_0242ac1c0002row17_col1\" class=\"data row17 col1\" >-4.076492</td>\n",
              "                        <td id=\"T_8d6c56c6_415f_11ec_9761_0242ac1c0002row17_col2\" class=\"data row17 col2\" >-3.727504</td>\n",
              "            </tr>\n",
              "    </tbody></table>"
            ],
            "text/plain": [
              "<pandas.io.formats.style.Styler at 0x7fe7c6d22150>"
            ]
          },
          "metadata": {},
          "execution_count": 56
        }
      ]
    },
    {
      "cell_type": "code",
      "metadata": {
        "id": "t9BLTSXu0Jsr",
        "colab": {
          "base_uri": "https://localhost:8080/"
        },
        "outputId": "f7f938ce-e480-44e4-abab-d85e93409deb"
      },
      "source": [
        "import torch\n",
        "\n",
        "start_idx = torch.argmax(outputs.start_logits)\n",
        "end_idx = torch.argmax(outputs.end_logits) + 1\n",
        "answer_span = inputs[\"input_ids\"][0][start_idx:end_idx]\n",
        "answer = tokenizer.decode(answer_span)\n",
        "print(f\"Question: {question}\")\n",
        "print(f\"Answer:   {answer}\")"
      ],
      "execution_count": 57,
      "outputs": [
        {
          "output_type": "stream",
          "name": "stdout",
          "text": [
            "Question: Wie viele Menschen leben in Berlin?\n",
            "Answer:   4 Mio\n"
          ]
        }
      ]
    },
    {
      "cell_type": "markdown",
      "metadata": {
        "id": "UG5eCuI8rBpx"
      },
      "source": [
        "## Retriever-Reader mit Haystack\n",
        "\n",
        "Nun wird ein größeres Szenario simuliert. Stellen Sie sich vor, Sie haben sehr viele Dokumente und suchen darin Antworten. Da suchen Sie die Nadel im Heuhaufen - ein Fall für [Haystack](https://haystack.deepset.ai/)."
      ]
    },
    {
      "cell_type": "markdown",
      "metadata": {
        "id": "MCn9agtnTJBI"
      },
      "source": [
        "### Anwendungsbeispiel: Aspect-based Sentiment Analysis\n",
        "\n",
        "An dieser Stelle soll ein praktisches Anwendungsbeispiel gezeigt werden.\n",
        "Es geht darum, Kunden-Meinungen zu bestimmten Eigenschaften eines Produkts herauszufinden. Dafür werden Amazon-Reviews zu dem Produkt mit einem QA-Modell \"befragt\". \n",
        "\n",
        "Da wir hier nicht nur einen (Kon-)Text auszuwerten haben, sondern viele Rewiews, wird ein Retriever-Reader-Modell benutzt. Dabei werden durch den Retriever die relevanten Kommentare vorselektiert, um dann durch den Reader ausgewertet zu werden.\n",
        "\n",
        "Der Datensatz, den wir verwenden, ist ein Auszug aus dem \"Subjective QA\" Datensatz, den man direkt vom HuggingFace Hub beziehen kann:  \n",
        "https://huggingface.co/datasets/subjqa"
      ]
    },
    {
      "cell_type": "code",
      "metadata": {
        "id": "bwhUSPKX2-ue"
      },
      "source": [
        "from datasets import load_dataset\n",
        "\n",
        "# other options include: books, grocery, movies, restaurants, tripadvisor\n",
        "data = load_dataset(\"subjqa\", \"electronics\")\n",
        "data.set_format(\"pandas\")\n",
        "\n",
        "# flatten the nested dataset columns for easy access\n",
        "df = [ds[:] for split, ds in data.flatten().items() if split == 'train'][0]\n",
        "\n",
        "# select some columns\n",
        "df = df[[\"title\", \"question\", \"answers.text\", \"answers.answer_start\", \"context\"]]\n",
        "df = df.drop_duplicates(subset=\"context\").rename(columns={\"answers.text\": \"answer\", \"answers.answer_start\": \"start\"})\n",
        "\n",
        "print(list(df.columns))\n",
        "print(f\"\\n{len(df)} rows\")"
      ],
      "execution_count": null,
      "outputs": []
    },
    {
      "cell_type": "markdown",
      "metadata": {
        "id": "kjBClQFgWQGT"
      },
      "source": [
        "Schauen wir uns ein paar Datensätze an:"
      ]
    },
    {
      "cell_type": "code",
      "metadata": {
        "id": "tV5cIfXPJVQr",
        "colab": {
          "base_uri": "https://localhost:8080/",
          "height": 141
        },
        "outputId": "ff6fea86-8e78-46d9-98aa-105d0b761c76"
      },
      "source": [
        "df.sample(3, random_state=25)"
      ],
      "execution_count": 34,
      "outputs": [
        {
          "output_type": "execute_result",
          "data": {
            "text/html": [
              "<div>\n",
              "<style scoped>\n",
              "    .dataframe tbody tr th:only-of-type {\n",
              "        vertical-align: middle;\n",
              "    }\n",
              "\n",
              "    .dataframe tbody tr th {\n",
              "        vertical-align: top;\n",
              "    }\n",
              "\n",
              "    .dataframe thead th {\n",
              "        text-align: right;\n",
              "    }\n",
              "</style>\n",
              "<table border=\"1\" class=\"dataframe\">\n",
              "  <thead>\n",
              "    <tr style=\"text-align: right;\">\n",
              "      <th></th>\n",
              "      <th>title</th>\n",
              "      <th>question</th>\n",
              "      <th>answer</th>\n",
              "      <th>start</th>\n",
              "      <th>context</th>\n",
              "    </tr>\n",
              "  </thead>\n",
              "  <tbody>\n",
              "    <tr>\n",
              "      <th>867</th>\n",
              "      <td>B00691WMJG</td>\n",
              "      <td>What is the quality of room?</td>\n",
              "      <td>[]</td>\n",
              "      <td>[]</td>\n",
              "      <td>Received drive on Monday. Went to install drive in computer but Windows install couldn't see any drive. Drive was making clicking and beeping noises. Checked on Seagate's support forum and found t...</td>\n",
              "    </tr>\n",
              "    <tr>\n",
              "      <th>761</th>\n",
              "      <td>B0058UUR6E</td>\n",
              "      <td>How was the stand?</td>\n",
              "      <td>[The stand is quite good]</td>\n",
              "      <td>[139]</td>\n",
              "      <td>This monitor is just plain awesome. The presets are very nice, colors seem to be almost spot on for the gaming option. No ghosting effect. The stand is quite good, no worse then most led monitors....</td>\n",
              "    </tr>\n",
              "    <tr>\n",
              "      <th>940</th>\n",
              "      <td>B0074BW614</td>\n",
              "      <td>What is the audio that is playing?</td>\n",
              "      <td>[The sound quality are great compare to my Ipad]</td>\n",
              "      <td>[281]</td>\n",
              "      <td>I bought this Kindle fire for my 6 years old daughter.  She likes it but she wishes it was white or have a choice of color to choose from.  The power buttons and volume button are camouflage and h...</td>\n",
              "    </tr>\n",
              "  </tbody>\n",
              "</table>\n",
              "</div>"
            ],
            "text/plain": [
              "          title  ...                                                                                                                                                                                                  context\n",
              "867  B00691WMJG  ...  Received drive on Monday. Went to install drive in computer but Windows install couldn't see any drive. Drive was making clicking and beeping noises. Checked on Seagate's support forum and found t...\n",
              "761  B0058UUR6E  ...  This monitor is just plain awesome. The presets are very nice, colors seem to be almost spot on for the gaming option. No ghosting effect. The stand is quite good, no worse then most led monitors....\n",
              "940  B0074BW614  ...  I bought this Kindle fire for my 6 years old daughter.  She likes it but she wishes it was white or have a choice of color to choose from.  The power buttons and volume button are camouflage and h...\n",
              "\n",
              "[3 rows x 5 columns]"
            ]
          },
          "metadata": {},
          "execution_count": 34
        }
      ]
    },
    {
      "cell_type": "markdown",
      "metadata": {
        "id": "5KVNsIdVNbE7"
      },
      "source": [
        "### Befüllen des Document Stores für den Retriever\n",
        "\n"
      ]
    },
    {
      "cell_type": "markdown",
      "metadata": {
        "id": "lBvuUmmaMAc0"
      },
      "source": [
        "Haystack unterstützt folgende Document Stores:\n",
        "  * Elasticsearch (Sparse BM25/TF-IDF + Dense Vectors, https://elastic.co)\n",
        "  * FAISS (von Facebook AI für Dense Vectors, https://faiss.ai/)\n",
        "  * SQL (SQLite, PostgreSQL, MySQL)\n",
        "  * InMemoryDocumentStore\n",
        "\n",
        "Der Einfachheit halber wird hier der InMemoryDocumentStore genutzt. Für die Praxis wird aber ElasticSearch empfohlen, weil dieser Such-Index neben einer Volltextsuche eine Vielzahl von Filtermöglichkeiten für Metadaten bietet.\n"
      ]
    },
    {
      "cell_type": "markdown",
      "metadata": {
        "id": "pxOxRWSvL9jg"
      },
      "source": [
        "Ein Document-Store erwartet folgendes Input-Format:\n",
        "```python\n",
        "docs = [\n",
        "    {\n",
        "        'text': DOCUMENT_TEXT_HERE,\n",
        "        'meta': {'name': DOCUMENT_NAME, 'category': DOCUMENT_CATEGORY}\n",
        "    }, ...\n",
        "]\n",
        "```"
      ]
    },
    {
      "cell_type": "markdown",
      "metadata": {
        "id": "kKbKoyzrJzPK"
      },
      "source": [
        "\n",
        "Für den `InMemoryDocumentStore` wird an dieser Stelle schon einmal auf den zu analysierenden Artikel gefiltert. Wir nehmen diesen hier:\n",
        "\n",
        "**Panasonic ErgoFit In-Ear Earbud Headphones RP-HJE120-D (Orange) Dynamic Crystal Clear Sound, Ergonomic Comfort-Fit**  \n",
        "\n",
        "https://www.amazon.com/dp/B003ELYQGG  \n",
        "https://amazon-asin.com/asincheck/?product_id=B003ELYQGG\n"
      ]
    },
    {
      "cell_type": "code",
      "metadata": {
        "id": "fZuMKoz3OmbP",
        "colab": {
          "base_uri": "https://localhost:8080/"
        },
        "outputId": "1241d8be-bb9a-4819-cd2d-8128d3ac37ad"
      },
      "source": [
        "# create docs (in the example for one item only)\n",
        "item_id = \"B003ELYQGG\"\n",
        "\n",
        "docs = []\n",
        "for _, row in df.query(f\"title == '{item_id}'\").iterrows():\n",
        "    doc = {\"text\": row[\"context\"],\n",
        "           \"meta\": {\"item_id\": row[\"title\"]}}\n",
        "    docs.append(doc)\n",
        "\n",
        "docs[:3]"
      ],
      "execution_count": 35,
      "outputs": [
        {
          "output_type": "execute_result",
          "data": {
            "text/plain": [
              "[{'meta': {'item_id': 'B003ELYQGG'},\n",
              "  'text': \"I needed new headphones so I got these and the JBuds J3 Micro Atomic In-Ear Earbuds (purchased them for $19.99 now they are $9.99) and planned to test between them and return one. My quick response is that I'll keep the Panasonic. Bass, treble, and mids seem pretty decent. Fit in the ear well and for the $6 I spent, great price. The JBuds have slightly better sound but aren't as good for working out but not good enough to pay an extra $14. So if you want to use your earbuds while running/working out, get the Panasonic. If you're using them to just relax/walk around, the JBuds are slightly better and work it at $9.99.\"},\n",
              " {'meta': {'item_id': 'B003ELYQGG'},\n",
              "  'text': \"I bought these to replace my i-Luv earbud headphones that only lasted a couple of months. Compared the iLuv product, this product fails to meet the mark. First off, no one company were selling all the different colours and I was forced to buy 2 pink ones from Amazon. While the packaging was aesthetically pleasing, it was a mother to open. Really, the packaging was EVIL! I also didn't expect the cord to be hot pink all the way through. I don't really like that. The sound quality is meh, especially when compared to the iLuv. I am not impressed at all. The only thing that could redeem this product is if it lasts about a year. We'll see how that goes, but I don't really have high expectations seeing as I've been disappointed by nearly everything thus far.\"},\n",
              " {'meta': {'item_id': 'B003ELYQGG'},\n",
              "  'text': 'Once I adjusted the eq on my media player and installed my favorite eartips from my broken earphones, these are amazing for the price.  The base really thumps which I did not expect and overall the sound is a good balanced neutral and true.  Only issue is the cord.  Wish it was thicker or covered in a cloth casing.  Will be buying another and pit away in case these are discontinued or changed in a bad way.'}]"
            ]
          },
          "metadata": {},
          "execution_count": 35
        }
      ]
    },
    {
      "cell_type": "code",
      "metadata": {
        "id": "xpdXThooNaFm",
        "colab": {
          "base_uri": "https://localhost:8080/"
        },
        "outputId": "2fc3fbc2-e4be-4862-ef0e-9fdfa5ed1789"
      },
      "source": [
        "from haystack.document_store import InMemoryDocumentStore\n",
        "\n",
        "document_store = InMemoryDocumentStore()\n",
        "\n",
        "document_store.write_documents(docs, index=\"document\")\n",
        "print(f\"{document_store.get_document_count()} docs loaded.\")"
      ],
      "execution_count": 37,
      "outputs": [
        {
          "output_type": "stream",
          "name": "stdout",
          "text": [
            "35 docs loaded.\n"
          ]
        }
      ]
    },
    {
      "cell_type": "markdown",
      "metadata": {
        "id": "eKtMChZPS7xT"
      },
      "source": [
        "### Dokumenten-Suche mit dem Retriever"
      ]
    },
    {
      "cell_type": "code",
      "metadata": {
        "id": "x0ORl6jwSZFO",
        "colab": {
          "base_uri": "https://localhost:8080/"
        },
        "outputId": "85a2f042-d7eb-49f6-e8ff-c7c1af3bc4c5"
      },
      "source": [
        "from haystack.retriever.sparse import TfidfRetriever\n",
        "retriever = TfidfRetriever(document_store=document_store)\n",
        "\n",
        "question = \"How is the bass?\"\n",
        "retrieved_docs = retriever.retrieve(query=question, top_k=3)\n",
        "# ElasticSearch would support real filters\n",
        "# retrieved_docs = retriever.retrieve(query=question, top_k=3, filters={\"item_id\":[item_id]]})\n",
        "\n",
        "for doc in retrieved_docs:\n",
        "    print(fill(doc.text), end=\"\\n\\n\")"
      ],
      "execution_count": 38,
      "outputs": [
        {
          "output_type": "stream",
          "name": "stderr",
          "text": [
            "11/09/2021 12:38:12 - INFO - haystack.retriever.sparse -   Found 35 candidate paragraphs from 35 docs in DB\n"
          ]
        },
        {
          "output_type": "stream",
          "name": "stdout",
          "text": [
            "Holy hell. How is this even possible? These headphones were like 6\n",
            "bucks (the white ones are cheaper) and... they have great sound. If\n",
            "you turn them up super loud, there's a little rattling or\n",
            "&#34;fuzz,&#34; but whatever they're 6 dollar ear buds lol. They have\n",
            "seriously impressive bass and the fit is fantastic. I've tried several\n",
            "pairs of ear buds in my life, and I've always thought I had stupid\n",
            "ears because they always fall out. These ARE NOT CYLINDERS. The whole\n",
            "thing is shaped... weird. And it's awesome. SERIOUSLY, THIS BASS DUDE.\n",
            "Get these. These are the ones you want. Jeeze this bass is f******\n",
            "incredible.\n",
            "\n",
            "Although the sound is nice and neutral, the bass is practically non-\n",
            "existent. The fit, with the right rubber socks, is fine. It stays in\n",
            "your ears while moving. I suppose you gets what you pays for.\n",
            "\n",
            "Im a little surprised at how people are just gushing about how great\n",
            "these are. Yeah they're good for the price but people are comparing\n",
            "them to high end earbuds and thats just crazy. I compared them to my\n",
            "soundmagic e10s which go for around 30 bucks. The panasonic earbuds\n",
            "don't even come close in terms of sound quality. The mids in\n",
            "particular are muddy. The panasonic earbuds will do if you're broke\n",
            "and just can't spend much money. Otherwise do yourself a favor and\n",
            "spend a few more bucks on some soundmagic e-10, Jvc Ha-fx67 or\n",
            "MEElectronics CW31. You'll notice a big difference. Obviously, the\n",
            "more costlier earbuds are going to have better, and often multiple\n",
            "drivers.\n",
            "\n"
          ]
        }
      ]
    },
    {
      "cell_type": "markdown",
      "metadata": {
        "id": "Zzb2nsSqWOwB"
      },
      "source": [
        "### Antworten bekommen mit dem Reader\n",
        "\n",
        "Haystack unterstützt zwei Reader, den `FARMReader` und den `TransformersReader`. Beide nutzen Transformer-Modelle, unterscheiden sich aber in kleinen Details, die [hier](https://haystack.deepset.ai/docs/latest/readermd#deeper-dive-farm-vs-transformers) erläutert werden.\n",
        "\n",
        "Wir nutzen den `FARMReader`. [FARM](https://pypi.org/project/farm/) ist eine Library für das Transfer Learning mit Transformer-Modellen, die selbst wiederum die Transformers Library nutzt.\n",
        "\n",
        "Eine nette QA-Demo von FARM findet sich hier: https://demos.deepset.ai\n",
        "\n"
      ]
    },
    {
      "cell_type": "code",
      "metadata": {
        "id": "5brl7ejyWRVW",
        "colab": {
          "base_uri": "https://localhost:8080/"
        },
        "outputId": "efdc39bb-5e95-4b12-d64b-80429d079a75"
      },
      "source": [
        "from haystack.reader.farm import FARMReader\n",
        "\n",
        "reader = FARMReader(model_name_or_path=model_name, progress_bar=False,\n",
        "                    return_no_answer=False, use_gpu=True)"
      ],
      "execution_count": 39,
      "outputs": [
        {
          "output_type": "stream",
          "name": "stderr",
          "text": [
            "11/09/2021 12:38:48 - INFO - farm.utils -   Using device: CUDA \n",
            "11/09/2021 12:38:48 - INFO - farm.utils -   Number of GPUs: 1\n",
            "11/09/2021 12:38:48 - INFO - farm.utils -   Distributed Training: False\n",
            "11/09/2021 12:38:48 - INFO - farm.utils -   Automatic Mixed Precision: None\n",
            "Some weights of the model checkpoint at Sahajtomar/German-question-answer-Electra were not used when initializing ElectraModel: ['qa_outputs.weight', 'qa_outputs.bias']\n",
            "- This IS expected if you are initializing ElectraModel from the checkpoint of a model trained on another task or with another architecture (e.g. initializing a BertForSequenceClassification model from a BertForPreTraining model).\n",
            "- This IS NOT expected if you are initializing ElectraModel from the checkpoint of a model that you expect to be exactly identical (initializing a BertForSequenceClassification model from a BertForSequenceClassification model).\n",
            "11/09/2021 12:39:04 - WARNING - farm.utils -   ML Logging is turned off. No parameters, metrics or artifacts will be logged to MLFlow.\n",
            "11/09/2021 12:39:04 - INFO - farm.utils -   Using device: CUDA \n",
            "11/09/2021 12:39:04 - INFO - farm.utils -   Number of GPUs: 1\n",
            "11/09/2021 12:39:04 - INFO - farm.utils -   Distributed Training: False\n",
            "11/09/2021 12:39:04 - INFO - farm.utils -   Automatic Mixed Precision: None\n",
            "11/09/2021 12:39:04 - INFO - farm.infer -   Got ya 2 parallel workers to do inference ...\n",
            "11/09/2021 12:39:04 - INFO - farm.infer -    0    0 \n",
            "11/09/2021 12:39:04 - INFO - farm.infer -   /w\\  /w\\\n",
            "11/09/2021 12:39:04 - INFO - farm.infer -   /'\\  / \\\n",
            "11/09/2021 12:39:04 - INFO - farm.infer -     \n",
            "11/09/2021 12:39:04 - INFO - farm.utils -   Using device: CUDA \n",
            "11/09/2021 12:39:04 - INFO - farm.utils -   Number of GPUs: 1\n",
            "11/09/2021 12:39:04 - INFO - farm.utils -   Distributed Training: False\n",
            "11/09/2021 12:39:04 - INFO - farm.utils -   Automatic Mixed Precision: None\n"
          ]
        }
      ]
    },
    {
      "cell_type": "code",
      "metadata": {
        "id": "D31HmRPEUymR",
        "colab": {
          "base_uri": "https://localhost:8080/"
        },
        "outputId": "9dce94cb-9d8f-4c09-ccc0-07497430ad89"
      },
      "source": [
        "question = \"How is the bass?\"\n",
        "answers = reader.predict_on_texts(question=question, texts=[retrieved_docs[1].text], top_k=3)\n",
        "answers"
      ],
      "execution_count": 40,
      "outputs": [
        {
          "output_type": "execute_result",
          "data": {
            "text/plain": [
              "{'answers': [{'answer': 'practically non-existent',\n",
              "   'context': 'Although the sound is nice and neutral, the bass is practically non-existent. The fit, with the right rubber socks, is fine. It stays in your ears whi',\n",
              "   'document_id': 'a9fbf99857ff038f521c61457dbbc944',\n",
              "   'offset_end': 76,\n",
              "   'offset_end_in_doc': 76,\n",
              "   'offset_start': 52,\n",
              "   'offset_start_in_doc': 52,\n",
              "   'score': 0.5194442868232727}],\n",
              " 'no_ans_gap': 22.61299228668213,\n",
              " 'query': 'How is the bass?'}"
            ]
          },
          "metadata": {},
          "execution_count": 40
        }
      ]
    },
    {
      "cell_type": "markdown",
      "metadata": {
        "id": "QzInNa6nWjmW"
      },
      "source": [
        "Haben Sie bemerkt, dass wir immer noch das gleiche Modell verwendet haben mit dem wir auch schon die deutschen Texte analysiert haben?\n",
        "\n",
        "Das ist mit einem multilingualen Modell möglich! Mit einem rein englischen Modell werden aber auf englischen Texten bessere Ergebnisse erreicht."
      ]
    },
    {
      "cell_type": "markdown",
      "metadata": {
        "id": "QoeSGPcDsiws"
      },
      "source": [
        "### Retriever und Reader in der Haystack-Pipeline"
      ]
    },
    {
      "cell_type": "code",
      "metadata": {
        "id": "W0HTZb4uZFH0"
      },
      "source": [
        "from haystack.pipeline import ExtractiveQAPipeline\n",
        "\n",
        "pipe = ExtractiveQAPipeline(reader, retriever)"
      ],
      "execution_count": 41,
      "outputs": []
    },
    {
      "cell_type": "code",
      "metadata": {
        "id": "zHp3RimuZFg8",
        "colab": {
          "base_uri": "https://localhost:8080/",
          "height": 594
        },
        "outputId": "50011faf-ec8d-40b6-dd21-3d90750801e0"
      },
      "source": [
        "question = \"How is the bass?\"\n",
        "# question = \"Do they sound good?\"\n",
        "# question = \"How do they fit?\"\n",
        "answers = pipe.run(query=question, params={\"Retriever\": {\"top_k\": 10}, \n",
        "                                         \"Reader\": {\"top_k\": 5}})\n",
        "\n",
        "display_qa(answers['answers'], question, padding=500)"
      ],
      "execution_count": 42,
      "outputs": [
        {
          "output_type": "display_data",
          "data": {
            "text/html": [
              "<table><tr><td>Question:</td><td><span style='font-weight:bold'>How is the bass?</span></td></tr><tr><td>&nbsp;<td><td> </td></tr><tr><td>Answer:</td><td><span style='font-weight:bold'>highs</span></td></tr><tr><td>Score:</td><td>0.6893256306648254</td></tr><tr><td>Span:</td><td>101:106</td></tr><tr><td>Snippet:</td><td>erfect for the way your ear is actually shaped, therefore provides perfect sound, including bass and <span style='color:blue;font-weight:bold'>highs</span>. So happy with them! Will be ordering more.</td><tr><td>&nbsp;<td><td> </td></tr><tr><td>Answer:</td><td><span style='font-weight:bold'>deeper and cleaner</span></td></tr><tr><td>Score:</td><td>0.6427252888679504</td></tr><tr><td>Span:</td><td>41:59</td></tr><tr><td>Snippet:</td><td>Better than Monoprice 8320!  The bass is <span style='color:blue;font-weight:bold'>deeper and cleaner</span>.  The highs and mids are more colorful.  The bass was enhanced by adding the Comply 400 ti</td><tr><td>&nbsp;<td><td> </td></tr><tr><td>Answer:</td><td><span style='font-weight:bold'>practically non-existent</span></td></tr><tr><td>Score:</td><td>0.5194442868232727</td></tr><tr><td>Span:</td><td>52:76</td></tr><tr><td>Snippet:</td><td>Although the sound is nice and neutral, the bass is <span style='color:blue;font-weight:bold'>practically non-existent</span>. The fit, with the right rubber socks, is fine. It stays in your ears whi</td><tr><td>&nbsp;<td><td> </td></tr><tr><td>Answer:</td><td><span style='font-weight:bold'>Sound quality is fantastic</span></td></tr><tr><td>Score:</td><td>0.4596746861934662</td></tr><tr><td>Span:</td><td>62:88</td></tr><tr><td>Snippet:</td><td>en nice addition. For the money, this is one heck of a steal. <span style='color:blue;font-weight:bold'>Sound quality is fantastic</span>. Not sure how long they will last but I will get another pair</td><tr><td>&nbsp;<td><td> </td></tr><tr><td>Answer:</td><td><span style='font-weight:bold'>f****** incredible</span></td></tr><tr><td>Score:</td><td>0.4520528018474579</td></tr><tr><td>Span:</td><td>131:149</td></tr><tr><td>Snippet:</td><td> thing is shaped... weird. And it's awesome. SERIOUSLY, THIS BASS DUDE. Get these. These are the ones you want. Jeeze this bass is <span style='color:blue;font-weight:bold'>f****** incredible</span>.</td><tr><td>&nbsp;<td><td> </td></tr></table><br/>"
            ],
            "text/plain": [
              "<IPython.core.display.HTML object>"
            ]
          },
          "metadata": {}
        }
      ]
    },
    {
      "cell_type": "markdown",
      "metadata": {
        "id": "Z6vLcWS9SwEt"
      },
      "source": [
        "### Und natürlich eine WordCloud zum Abschluss 😀\n",
        "\n",
        "In diesem Beispiel wird aus allen Dokumenten (wir haben nur 35) jeweils die Meinung zum Bass erfragt. Die eindeutigen Antworten werden gezählt und mit einer WordCloud visualisiert. Bei sehr vielen Reviews kann man sich so sehr schnell ein Meinungsbild verschaffen."
      ]
    },
    {
      "cell_type": "code",
      "metadata": {
        "id": "J-be5qurIvnH",
        "colab": {
          "base_uri": "https://localhost:8080/"
        },
        "outputId": "188683d9-6ae5-48c9-98c2-f4b3409089b8"
      },
      "source": [
        "from collections import Counter\n",
        "\n",
        "question = \"How is the bass?\"\n",
        "retrieved_docs = retriever.retrieve(query=question, top_k=100)\n",
        "\n",
        "counter = Counter()\n",
        "for doc in retrieved_docs:\n",
        "    answer = reader.predict_on_texts(question=question, texts=[doc.text], top_k=1)['answers'][0]['answer']\n",
        "    if len(answer) < 30:\n",
        "        counter.update([answer])\n",
        "\n",
        "counter"
      ],
      "execution_count": 43,
      "outputs": [
        {
          "output_type": "execute_result",
          "data": {
            "text/plain": [
              "Counter({'Odd shaped earpieces': 1,\n",
              "         'Sound quality is fantastic': 1,\n",
              "         'cost is very reasonable': 1,\n",
              "         'deeper and cleaner': 1,\n",
              "         'deeper and more precise bass': 1,\n",
              "         'f****** incredible': 1,\n",
              "         'fine': 1,\n",
              "         'fit is just perfect': 1,\n",
              "         'good': 2,\n",
              "         'good for the price': 1,\n",
              "         'great': 2,\n",
              "         'highs': 1,\n",
              "         'much bass': 1,\n",
              "         'noise isolating quality': 1,\n",
              "         'not obnoxiously long': 1,\n",
              "         'oval shaped': 1,\n",
              "         'poor, muffled and tinny': 1,\n",
              "         'practically non-existent': 1,\n",
              "         'pretty decent': 1,\n",
              "         'pretty simple': 1,\n",
              "         'really thumps': 1,\n",
              "         'some bass': 1,\n",
              "         'sound quality is great': 1,\n",
              "         'the sound is not good': 1,\n",
              "         'thin': 1,\n",
              "         'very cheap price': 1,\n",
              "         'very smooth and powerful': 1,\n",
              "         'weak': 1,\n",
              "         'well balanced, beautiful': 1})"
            ]
          },
          "metadata": {},
          "execution_count": 43
        }
      ]
    },
    {
      "cell_type": "code",
      "metadata": {
        "id": "BdkAKQ3iOJ_S",
        "colab": {
          "base_uri": "https://localhost:8080/",
          "height": 483
        },
        "outputId": "ca17e841-921a-407c-d7ee-8aa08846e212"
      },
      "source": [
        "from wordcloud import WordCloud\n",
        "from matplotlib import pyplot as plt\n",
        "\n",
        "wc = WordCloud(width=800, height=400, background_color= \"black\", colormap=\"Paired\")\n",
        "wc.generate_from_frequencies(counter)\n",
        "plt.figure(figsize=(16, 8))\n",
        "plt.imshow(wc, interpolation='bilinear')\n",
        "plt.axis(\"off\")"
      ],
      "execution_count": 44,
      "outputs": [
        {
          "output_type": "execute_result",
          "data": {
            "text/plain": [
              "(-0.5, 799.5, 399.5, -0.5)"
            ]
          },
          "metadata": {},
          "execution_count": 44
        },
        {
          "output_type": "display_data",
          "data": {
            "image/png": "[encoded data removed]",
            "text/plain": [
              "<Figure size 1152x576 with 1 Axes>"
            ]
          },
          "metadata": {
            "needs_background": "light"
          }
        }
      ]
    },
    {
      "cell_type": "code",
      "metadata": {
        "id": "9Mvg6G7gRQJQ"
      },
      "source": [
        ""
      ],
      "execution_count": null,
      "outputs": []
    }
  ]
}